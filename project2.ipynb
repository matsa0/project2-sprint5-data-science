{
 "cells": [
  {
   "cell_type": "code",
   "execution_count": 143,
   "id": "4a2dcd6c-8810-4046-8823-1af186b437c9",
   "metadata": {},
   "outputs": [],
   "source": [
    "import pandas as pd\n",
    "import matplotlib.pyplot as plt\n",
    "import seaborn as sns\n",
    "import numpy as np"
   ]
  },
  {
   "cell_type": "markdown",
   "id": "7898afaa-bc0e-41e7-8adb-e83b8fd6b923",
   "metadata": {},
   "source": [
    "# Análise Exploratória e Processamento de Dados\n",
    "\n",
    "À medida que eu fui desenvolvendo o estudo, percebi que para mim estava fazendo mais sentido realizar a análise e o seu processamento. Portanto, a análise exploratória e o processamento de dados estão sendo desenvolvidos em conjunto."
   ]
  },
  {
   "cell_type": "markdown",
   "id": "d60c792c-3a3c-4592-bcf5-f6706544e8e8",
   "metadata": {
    "jp-MarkdownHeadingCollapsed": true
   },
   "source": [
    "## Contato inicial com o dataset\n",
    "\n",
    "A ideia é apenas obter uma visão rápida e geral do que se trata o dataset e possível correções que eu posso aplicar"
   ]
  },
  {
   "cell_type": "code",
   "execution_count": 144,
   "id": "ca7aff47-fdc3-4578-bbf7-97a0789a6ea1",
   "metadata": {},
   "outputs": [],
   "source": [
    "df = pd.read_csv('./data/cars.csv')"
   ]
  },
  {
   "cell_type": "code",
   "execution_count": 145,
   "id": "99f9dbef-d4a6-4929-a529-48fb88a93f57",
   "metadata": {},
   "outputs": [
    {
     "data": {
      "text/html": [
       "<div>\n",
       "<style scoped>\n",
       "    .dataframe tbody tr th:only-of-type {\n",
       "        vertical-align: middle;\n",
       "    }\n",
       "\n",
       "    .dataframe tbody tr th {\n",
       "        vertical-align: top;\n",
       "    }\n",
       "\n",
       "    .dataframe thead th {\n",
       "        text-align: right;\n",
       "    }\n",
       "</style>\n",
       "<table border=\"1\" class=\"dataframe\">\n",
       "  <thead>\n",
       "    <tr style=\"text-align: right;\">\n",
       "      <th></th>\n",
       "      <th>manufacturer</th>\n",
       "      <th>model</th>\n",
       "      <th>year</th>\n",
       "      <th>mileage</th>\n",
       "      <th>engine</th>\n",
       "      <th>transmission</th>\n",
       "      <th>drivetrain</th>\n",
       "      <th>fuel_type</th>\n",
       "      <th>mpg</th>\n",
       "      <th>exterior_color</th>\n",
       "      <th>interior_color</th>\n",
       "      <th>accidents_or_damage</th>\n",
       "      <th>one_owner</th>\n",
       "      <th>personal_use_only</th>\n",
       "      <th>seller_name</th>\n",
       "      <th>seller_rating</th>\n",
       "      <th>driver_rating</th>\n",
       "      <th>driver_reviews_num</th>\n",
       "      <th>price_drop</th>\n",
       "      <th>price</th>\n",
       "    </tr>\n",
       "  </thead>\n",
       "  <tbody>\n",
       "    <tr>\n",
       "      <th>0</th>\n",
       "      <td>Acura</td>\n",
       "      <td>ILX Hybrid 1.5L</td>\n",
       "      <td>2013</td>\n",
       "      <td>92945.0</td>\n",
       "      <td>1.5L I-4 i-VTEC variable valve control, engine...</td>\n",
       "      <td>Automatic</td>\n",
       "      <td>Front-wheel Drive</td>\n",
       "      <td>Gasoline</td>\n",
       "      <td>39-38</td>\n",
       "      <td>Black</td>\n",
       "      <td>Parchment</td>\n",
       "      <td>0.0</td>\n",
       "      <td>0.0</td>\n",
       "      <td>0.0</td>\n",
       "      <td>Iconic Coach</td>\n",
       "      <td>NaN</td>\n",
       "      <td>4.4</td>\n",
       "      <td>12.0</td>\n",
       "      <td>300.0</td>\n",
       "      <td>13988.0</td>\n",
       "    </tr>\n",
       "    <tr>\n",
       "      <th>1</th>\n",
       "      <td>Acura</td>\n",
       "      <td>ILX Hybrid 1.5L</td>\n",
       "      <td>2013</td>\n",
       "      <td>47645.0</td>\n",
       "      <td>1.5L I4 8V MPFI SOHC Hybrid</td>\n",
       "      <td>Automatic CVT</td>\n",
       "      <td>Front-wheel Drive</td>\n",
       "      <td>Hybrid</td>\n",
       "      <td>39-38</td>\n",
       "      <td>Gray</td>\n",
       "      <td>Ebony</td>\n",
       "      <td>1.0</td>\n",
       "      <td>1.0</td>\n",
       "      <td>1.0</td>\n",
       "      <td>Kars Today</td>\n",
       "      <td>NaN</td>\n",
       "      <td>4.4</td>\n",
       "      <td>12.0</td>\n",
       "      <td>NaN</td>\n",
       "      <td>17995.0</td>\n",
       "    </tr>\n",
       "    <tr>\n",
       "      <th>2</th>\n",
       "      <td>Acura</td>\n",
       "      <td>ILX Hybrid 1.5L</td>\n",
       "      <td>2013</td>\n",
       "      <td>53422.0</td>\n",
       "      <td>1.5L I4 8V MPFI SOHC Hybrid</td>\n",
       "      <td>Automatic CVT</td>\n",
       "      <td>Front-wheel Drive</td>\n",
       "      <td>Hybrid</td>\n",
       "      <td>39-38</td>\n",
       "      <td>Bellanova White Pearl</td>\n",
       "      <td>Ebony</td>\n",
       "      <td>0.0</td>\n",
       "      <td>1.0</td>\n",
       "      <td>1.0</td>\n",
       "      <td>Weiss Toyota of South County</td>\n",
       "      <td>4.3</td>\n",
       "      <td>4.4</td>\n",
       "      <td>12.0</td>\n",
       "      <td>500.0</td>\n",
       "      <td>17000.0</td>\n",
       "    </tr>\n",
       "    <tr>\n",
       "      <th>3</th>\n",
       "      <td>Acura</td>\n",
       "      <td>ILX Hybrid 1.5L</td>\n",
       "      <td>2013</td>\n",
       "      <td>117598.0</td>\n",
       "      <td>1.5L I4 8V MPFI SOHC Hybrid</td>\n",
       "      <td>Automatic CVT</td>\n",
       "      <td>Front-wheel Drive</td>\n",
       "      <td>Hybrid</td>\n",
       "      <td>39-38</td>\n",
       "      <td>Polished Metal Metallic</td>\n",
       "      <td>NaN</td>\n",
       "      <td>0.0</td>\n",
       "      <td>1.0</td>\n",
       "      <td>1.0</td>\n",
       "      <td>Apple Tree Acura</td>\n",
       "      <td>NaN</td>\n",
       "      <td>4.4</td>\n",
       "      <td>12.0</td>\n",
       "      <td>675.0</td>\n",
       "      <td>14958.0</td>\n",
       "    </tr>\n",
       "    <tr>\n",
       "      <th>4</th>\n",
       "      <td>Acura</td>\n",
       "      <td>ILX Hybrid 1.5L</td>\n",
       "      <td>2013</td>\n",
       "      <td>114865.0</td>\n",
       "      <td>1.5L I4 8V MPFI SOHC Hybrid</td>\n",
       "      <td>Automatic CVT</td>\n",
       "      <td>Front-wheel Drive</td>\n",
       "      <td>Hybrid</td>\n",
       "      <td>39-38</td>\n",
       "      <td>NaN</td>\n",
       "      <td>Ebony</td>\n",
       "      <td>1.0</td>\n",
       "      <td>0.0</td>\n",
       "      <td>1.0</td>\n",
       "      <td>Herb Connolly Chevrolet</td>\n",
       "      <td>3.7</td>\n",
       "      <td>4.4</td>\n",
       "      <td>12.0</td>\n",
       "      <td>300.0</td>\n",
       "      <td>14498.0</td>\n",
       "    </tr>\n",
       "    <tr>\n",
       "      <th>...</th>\n",
       "      <td>...</td>\n",
       "      <td>...</td>\n",
       "      <td>...</td>\n",
       "      <td>...</td>\n",
       "      <td>...</td>\n",
       "      <td>...</td>\n",
       "      <td>...</td>\n",
       "      <td>...</td>\n",
       "      <td>...</td>\n",
       "      <td>...</td>\n",
       "      <td>...</td>\n",
       "      <td>...</td>\n",
       "      <td>...</td>\n",
       "      <td>...</td>\n",
       "      <td>...</td>\n",
       "      <td>...</td>\n",
       "      <td>...</td>\n",
       "      <td>...</td>\n",
       "      <td>...</td>\n",
       "      <td>...</td>\n",
       "    </tr>\n",
       "    <tr>\n",
       "      <th>762086</th>\n",
       "      <td>Volvo</td>\n",
       "      <td>S60 B5 Momentum</td>\n",
       "      <td>2022</td>\n",
       "      <td>22877.0</td>\n",
       "      <td>2.0L I4 16V GDI DOHC Turbo</td>\n",
       "      <td>8-Speed Automatic</td>\n",
       "      <td>All-wheel Drive</td>\n",
       "      <td>Gasoline</td>\n",
       "      <td>25-33</td>\n",
       "      <td>Bright Silver Metallic</td>\n",
       "      <td>Blond</td>\n",
       "      <td>0.0</td>\n",
       "      <td>1.0</td>\n",
       "      <td>0.0</td>\n",
       "      <td>Volvo Cars Danbury</td>\n",
       "      <td>4.2</td>\n",
       "      <td>4.2</td>\n",
       "      <td>2.0</td>\n",
       "      <td>250.0</td>\n",
       "      <td>34798.0</td>\n",
       "    </tr>\n",
       "    <tr>\n",
       "      <th>762087</th>\n",
       "      <td>Volvo</td>\n",
       "      <td>S60 T5</td>\n",
       "      <td>2012</td>\n",
       "      <td>72900.0</td>\n",
       "      <td>250.0HP 2.5L 5 Cylinder Engine Gasoline Fuel</td>\n",
       "      <td>A/T</td>\n",
       "      <td>Front-wheel Drive</td>\n",
       "      <td>Gasoline</td>\n",
       "      <td>NaN</td>\n",
       "      <td>Red</td>\n",
       "      <td>Beige</td>\n",
       "      <td>NaN</td>\n",
       "      <td>NaN</td>\n",
       "      <td>NaN</td>\n",
       "      <td>NaN</td>\n",
       "      <td>NaN</td>\n",
       "      <td>4.5</td>\n",
       "      <td>101.0</td>\n",
       "      <td>NaN</td>\n",
       "      <td>12500.0</td>\n",
       "    </tr>\n",
       "    <tr>\n",
       "      <th>762088</th>\n",
       "      <td>Volvo</td>\n",
       "      <td>S60 T5</td>\n",
       "      <td>2014</td>\n",
       "      <td>92000.0</td>\n",
       "      <td>2.5L I5 20V MPFI DOHC Turbo</td>\n",
       "      <td>6-Speed Automatic</td>\n",
       "      <td>Front-wheel Drive</td>\n",
       "      <td>Gasoline</td>\n",
       "      <td>21-30</td>\n",
       "      <td>Ice White</td>\n",
       "      <td>Soft Beige</td>\n",
       "      <td>0.0</td>\n",
       "      <td>0.0</td>\n",
       "      <td>1.0</td>\n",
       "      <td>Dapper Car Sales</td>\n",
       "      <td>NaN</td>\n",
       "      <td>4.8</td>\n",
       "      <td>36.0</td>\n",
       "      <td>300.0</td>\n",
       "      <td>12299.0</td>\n",
       "    </tr>\n",
       "    <tr>\n",
       "      <th>762089</th>\n",
       "      <td>Volvo</td>\n",
       "      <td>S60 T5 Platinum</td>\n",
       "      <td>2013</td>\n",
       "      <td>132000.0</td>\n",
       "      <td>2.5L I5 20V MPFI DOHC Turbo</td>\n",
       "      <td>6-Speed Automatic</td>\n",
       "      <td>All-wheel Drive</td>\n",
       "      <td>Gasoline</td>\n",
       "      <td>20-29</td>\n",
       "      <td>Ice White</td>\n",
       "      <td>Off Black</td>\n",
       "      <td>1.0</td>\n",
       "      <td>0.0</td>\n",
       "      <td>0.0</td>\n",
       "      <td>Legend Auto Sales Inc.</td>\n",
       "      <td>4.6</td>\n",
       "      <td>4.7</td>\n",
       "      <td>62.0</td>\n",
       "      <td>1000.0</td>\n",
       "      <td>8995.0</td>\n",
       "    </tr>\n",
       "    <tr>\n",
       "      <th>762090</th>\n",
       "      <td>Volvo</td>\n",
       "      <td>S60 T5 Premier</td>\n",
       "      <td>2015</td>\n",
       "      <td>115592.0</td>\n",
       "      <td>2.5L I5 20V MPFI DOHC Turbo</td>\n",
       "      <td>6-Speed Automatic</td>\n",
       "      <td>All-wheel Drive</td>\n",
       "      <td>Gasoline</td>\n",
       "      <td>20-29</td>\n",
       "      <td>Savile Gray Metallic</td>\n",
       "      <td>Off-Black</td>\n",
       "      <td>1.0</td>\n",
       "      <td>0.0</td>\n",
       "      <td>1.0</td>\n",
       "      <td>Plymouth Auto Sales</td>\n",
       "      <td>NaN</td>\n",
       "      <td>4.7</td>\n",
       "      <td>51.0</td>\n",
       "      <td>501.0</td>\n",
       "      <td>12999.0</td>\n",
       "    </tr>\n",
       "  </tbody>\n",
       "</table>\n",
       "<p>762091 rows × 20 columns</p>\n",
       "</div>"
      ],
      "text/plain": [
       "       manufacturer            model  year   mileage  \\\n",
       "0             Acura  ILX Hybrid 1.5L  2013   92945.0   \n",
       "1             Acura  ILX Hybrid 1.5L  2013   47645.0   \n",
       "2             Acura  ILX Hybrid 1.5L  2013   53422.0   \n",
       "3             Acura  ILX Hybrid 1.5L  2013  117598.0   \n",
       "4             Acura  ILX Hybrid 1.5L  2013  114865.0   \n",
       "...             ...              ...   ...       ...   \n",
       "762086        Volvo  S60 B5 Momentum  2022   22877.0   \n",
       "762087        Volvo           S60 T5  2012   72900.0   \n",
       "762088        Volvo           S60 T5  2014   92000.0   \n",
       "762089        Volvo  S60 T5 Platinum  2013  132000.0   \n",
       "762090        Volvo   S60 T5 Premier  2015  115592.0   \n",
       "\n",
       "                                                   engine       transmission  \\\n",
       "0       1.5L I-4 i-VTEC variable valve control, engine...          Automatic   \n",
       "1                             1.5L I4 8V MPFI SOHC Hybrid      Automatic CVT   \n",
       "2                             1.5L I4 8V MPFI SOHC Hybrid      Automatic CVT   \n",
       "3                             1.5L I4 8V MPFI SOHC Hybrid      Automatic CVT   \n",
       "4                             1.5L I4 8V MPFI SOHC Hybrid      Automatic CVT   \n",
       "...                                                   ...                ...   \n",
       "762086                         2.0L I4 16V GDI DOHC Turbo  8-Speed Automatic   \n",
       "762087       250.0HP 2.5L 5 Cylinder Engine Gasoline Fuel                A/T   \n",
       "762088                        2.5L I5 20V MPFI DOHC Turbo  6-Speed Automatic   \n",
       "762089                        2.5L I5 20V MPFI DOHC Turbo  6-Speed Automatic   \n",
       "762090                        2.5L I5 20V MPFI DOHC Turbo  6-Speed Automatic   \n",
       "\n",
       "               drivetrain fuel_type    mpg           exterior_color  \\\n",
       "0       Front-wheel Drive  Gasoline  39-38                    Black   \n",
       "1       Front-wheel Drive    Hybrid  39-38                     Gray   \n",
       "2       Front-wheel Drive    Hybrid  39-38    Bellanova White Pearl   \n",
       "3       Front-wheel Drive    Hybrid  39-38  Polished Metal Metallic   \n",
       "4       Front-wheel Drive    Hybrid  39-38                      NaN   \n",
       "...                   ...       ...    ...                      ...   \n",
       "762086    All-wheel Drive  Gasoline  25-33   Bright Silver Metallic   \n",
       "762087  Front-wheel Drive  Gasoline    NaN                      Red   \n",
       "762088  Front-wheel Drive  Gasoline  21-30                Ice White   \n",
       "762089    All-wheel Drive  Gasoline  20-29                Ice White   \n",
       "762090    All-wheel Drive  Gasoline  20-29     Savile Gray Metallic   \n",
       "\n",
       "       interior_color  accidents_or_damage  one_owner  personal_use_only  \\\n",
       "0           Parchment                  0.0        0.0                0.0   \n",
       "1               Ebony                  1.0        1.0                1.0   \n",
       "2               Ebony                  0.0        1.0                1.0   \n",
       "3                 NaN                  0.0        1.0                1.0   \n",
       "4               Ebony                  1.0        0.0                1.0   \n",
       "...               ...                  ...        ...                ...   \n",
       "762086          Blond                  0.0        1.0                0.0   \n",
       "762087          Beige                  NaN        NaN                NaN   \n",
       "762088     Soft Beige                  0.0        0.0                1.0   \n",
       "762089      Off Black                  1.0        0.0                0.0   \n",
       "762090      Off-Black                  1.0        0.0                1.0   \n",
       "\n",
       "                         seller_name  seller_rating  driver_rating  \\\n",
       "0                       Iconic Coach            NaN            4.4   \n",
       "1                         Kars Today            NaN            4.4   \n",
       "2       Weiss Toyota of South County            4.3            4.4   \n",
       "3                   Apple Tree Acura            NaN            4.4   \n",
       "4            Herb Connolly Chevrolet            3.7            4.4   \n",
       "...                              ...            ...            ...   \n",
       "762086            Volvo Cars Danbury            4.2            4.2   \n",
       "762087                           NaN            NaN            4.5   \n",
       "762088              Dapper Car Sales            NaN            4.8   \n",
       "762089        Legend Auto Sales Inc.            4.6            4.7   \n",
       "762090           Plymouth Auto Sales            NaN            4.7   \n",
       "\n",
       "        driver_reviews_num  price_drop    price  \n",
       "0                     12.0       300.0  13988.0  \n",
       "1                     12.0         NaN  17995.0  \n",
       "2                     12.0       500.0  17000.0  \n",
       "3                     12.0       675.0  14958.0  \n",
       "4                     12.0       300.0  14498.0  \n",
       "...                    ...         ...      ...  \n",
       "762086                 2.0       250.0  34798.0  \n",
       "762087               101.0         NaN  12500.0  \n",
       "762088                36.0       300.0  12299.0  \n",
       "762089                62.0      1000.0   8995.0  \n",
       "762090                51.0       501.0  12999.0  \n",
       "\n",
       "[762091 rows x 20 columns]"
      ]
     },
     "execution_count": 145,
     "metadata": {},
     "output_type": "execute_result"
    }
   ],
   "source": [
    "df"
   ]
  },
  {
   "cell_type": "code",
   "execution_count": 146,
   "id": "026ef8da-9f8e-462a-be9d-01b025d8a3f7",
   "metadata": {},
   "outputs": [
    {
     "data": {
      "text/plain": [
       "(762091, 20)"
      ]
     },
     "execution_count": 146,
     "metadata": {},
     "output_type": "execute_result"
    }
   ],
   "source": [
    "df.shape"
   ]
  },
  {
   "cell_type": "code",
   "execution_count": 147,
   "id": "bd9f49bd-5f01-482e-a4fd-1f7c9bfaf7d5",
   "metadata": {},
   "outputs": [
    {
     "data": {
      "text/plain": [
       "manufacturer            object\n",
       "model                   object\n",
       "year                     int64\n",
       "mileage                float64\n",
       "engine                  object\n",
       "transmission            object\n",
       "drivetrain              object\n",
       "fuel_type               object\n",
       "mpg                     object\n",
       "exterior_color          object\n",
       "interior_color          object\n",
       "accidents_or_damage    float64\n",
       "one_owner              float64\n",
       "personal_use_only      float64\n",
       "seller_name             object\n",
       "seller_rating          float64\n",
       "driver_rating          float64\n",
       "driver_reviews_num     float64\n",
       "price_drop             float64\n",
       "price                  float64\n",
       "dtype: object"
      ]
     },
     "execution_count": 147,
     "metadata": {},
     "output_type": "execute_result"
    }
   ],
   "source": [
    "df.dtypes"
   ]
  },
  {
   "cell_type": "code",
   "execution_count": 148,
   "id": "93d26358-b701-48a3-851a-7be24ac287e9",
   "metadata": {},
   "outputs": [
    {
     "data": {
      "text/plain": [
       "manufacturer                0\n",
       "model                       0\n",
       "year                        0\n",
       "mileage                   506\n",
       "engine                  15050\n",
       "transmission             9904\n",
       "drivetrain              21562\n",
       "fuel_type               22927\n",
       "mpg                    142071\n",
       "exterior_color           8859\n",
       "interior_color          56975\n",
       "accidents_or_damage     24212\n",
       "one_owner               31483\n",
       "personal_use_only       24852\n",
       "seller_name              8593\n",
       "seller_rating          213973\n",
       "driver_rating           31632\n",
       "driver_reviews_num          0\n",
       "price_drop             351979\n",
       "price                       0\n",
       "dtype: int64"
      ]
     },
     "execution_count": 148,
     "metadata": {},
     "output_type": "execute_result"
    }
   ],
   "source": [
    "df.isnull().sum()"
   ]
  },
  {
   "cell_type": "code",
   "execution_count": 149,
   "id": "b15a39d0-395b-470d-af96-f0a870653d28",
   "metadata": {},
   "outputs": [
    {
     "data": {
      "text/plain": [
       "np.int64(9145)"
      ]
     },
     "execution_count": 149,
     "metadata": {},
     "output_type": "execute_result"
    }
   ],
   "source": [
    "df.duplicated().sum()"
   ]
  },
  {
   "cell_type": "markdown",
   "id": "65986a84-32df-4cc7-ac4a-aac2cd9c4f64",
   "metadata": {},
   "source": [
    "Valores muito discrepantes de máximo e mínimo para price"
   ]
  },
  {
   "cell_type": "code",
   "execution_count": 150,
   "id": "13cfb0a4-4281-47a8-9775-05cf25639ffb",
   "metadata": {},
   "outputs": [
    {
     "data": {
      "text/plain": [
       "np.float64(1.0)"
      ]
     },
     "execution_count": 150,
     "metadata": {},
     "output_type": "execute_result"
    }
   ],
   "source": [
    "df['price'].min()"
   ]
  },
  {
   "cell_type": "code",
   "execution_count": 151,
   "id": "ce2b1f7a-853c-4936-85a9-a498e859a12d",
   "metadata": {},
   "outputs": [
    {
     "data": {
      "text/plain": [
       "np.float64(1000000000.0)"
      ]
     },
     "execution_count": 151,
     "metadata": {},
     "output_type": "execute_result"
    }
   ],
   "source": [
    "df['price'].max()"
   ]
  },
  {
   "cell_type": "markdown",
   "id": "376f95ae-7c96-4a2d-991c-9ad7229daae6",
   "metadata": {
    "jp-MarkdownHeadingCollapsed": true
   },
   "source": [
    "## Gerando a amostra aleatória\n",
    "\n",
    "Geração de uma amostra **repordutível simples** e já tratando suas duplicatas"
   ]
  },
  {
   "cell_type": "markdown",
   "id": "bb12a355-6661-46c3-986c-78acd46a914c",
   "metadata": {},
   "source": [
    "Garantindo que a amostra seja **reprodutível** rodando a célula abaixo"
   ]
  },
  {
   "cell_type": "code",
   "execution_count": 152,
   "id": "2e888c09-3dad-4517-a778-cde3131af441",
   "metadata": {},
   "outputs": [],
   "source": [
    "np.random.seed(33)"
   ]
  },
  {
   "cell_type": "markdown",
   "id": "5d5f9269-d3dd-4d96-8ace-756d808ea8ec",
   "metadata": {},
   "source": [
    "Eu escolhi gerar uma **amostra aleatória simples** de 25% do dataset"
   ]
  },
  {
   "cell_type": "code",
   "execution_count": 153,
   "id": "e57ba39d-3ef1-48e9-8705-7700b30fa48c",
   "metadata": {
    "scrolled": true
   },
   "outputs": [
    {
     "data": {
      "text/html": [
       "<div>\n",
       "<style scoped>\n",
       "    .dataframe tbody tr th:only-of-type {\n",
       "        vertical-align: middle;\n",
       "    }\n",
       "\n",
       "    .dataframe tbody tr th {\n",
       "        vertical-align: top;\n",
       "    }\n",
       "\n",
       "    .dataframe thead th {\n",
       "        text-align: right;\n",
       "    }\n",
       "</style>\n",
       "<table border=\"1\" class=\"dataframe\">\n",
       "  <thead>\n",
       "    <tr style=\"text-align: right;\">\n",
       "      <th></th>\n",
       "      <th>manufacturer</th>\n",
       "      <th>model</th>\n",
       "      <th>year</th>\n",
       "      <th>mileage</th>\n",
       "      <th>engine</th>\n",
       "      <th>transmission</th>\n",
       "      <th>drivetrain</th>\n",
       "      <th>fuel_type</th>\n",
       "      <th>mpg</th>\n",
       "      <th>exterior_color</th>\n",
       "      <th>interior_color</th>\n",
       "      <th>accidents_or_damage</th>\n",
       "      <th>one_owner</th>\n",
       "      <th>personal_use_only</th>\n",
       "      <th>seller_name</th>\n",
       "      <th>seller_rating</th>\n",
       "      <th>driver_rating</th>\n",
       "      <th>driver_reviews_num</th>\n",
       "      <th>price_drop</th>\n",
       "      <th>price</th>\n",
       "    </tr>\n",
       "  </thead>\n",
       "  <tbody>\n",
       "    <tr>\n",
       "      <th>191809</th>\n",
       "      <td>Ford</td>\n",
       "      <td>Focus S</td>\n",
       "      <td>2018</td>\n",
       "      <td>94746.0</td>\n",
       "      <td>2.0L I4 16V GDI DOHC Flexible Fuel</td>\n",
       "      <td>6-Speed Automatic with Auto-Shift</td>\n",
       "      <td>Front-wheel Drive</td>\n",
       "      <td>E85 Flex Fuel</td>\n",
       "      <td>25-34</td>\n",
       "      <td>Shadow Black</td>\n",
       "      <td>Charcoal Black</td>\n",
       "      <td>0.0</td>\n",
       "      <td>1.0</td>\n",
       "      <td>1.0</td>\n",
       "      <td>Blasius Pre-Owned Auto</td>\n",
       "      <td>4.3</td>\n",
       "      <td>4.6</td>\n",
       "      <td>202.0</td>\n",
       "      <td>590.0</td>\n",
       "      <td>10994.0</td>\n",
       "    </tr>\n",
       "    <tr>\n",
       "      <th>488330</th>\n",
       "      <td>Lincoln</td>\n",
       "      <td>MKZ Base</td>\n",
       "      <td>2014</td>\n",
       "      <td>55710.0</td>\n",
       "      <td>2.0L I4 16V GDI DOHC Turbo</td>\n",
       "      <td>6-Speed Automatic</td>\n",
       "      <td>Front-wheel Drive</td>\n",
       "      <td>Gasoline</td>\n",
       "      <td>22-33</td>\n",
       "      <td>White Platinum Tri-Coat Metallic</td>\n",
       "      <td>Charcoal Black</td>\n",
       "      <td>0.0</td>\n",
       "      <td>0.0</td>\n",
       "      <td>1.0</td>\n",
       "      <td>Maxkar Motors</td>\n",
       "      <td>3.8</td>\n",
       "      <td>4.7</td>\n",
       "      <td>69.0</td>\n",
       "      <td>500.0</td>\n",
       "      <td>17498.0</td>\n",
       "    </tr>\n",
       "    <tr>\n",
       "      <th>713389</th>\n",
       "      <td>Toyota</td>\n",
       "      <td>RAV4 Hybrid Limited</td>\n",
       "      <td>2022</td>\n",
       "      <td>15022.0</td>\n",
       "      <td>2.5L</td>\n",
       "      <td>Continuously Variable Transmission</td>\n",
       "      <td>NaN</td>\n",
       "      <td>B</td>\n",
       "      <td>NaN</td>\n",
       "      <td>SILVER SKY METALLIC</td>\n",
       "      <td>EA20</td>\n",
       "      <td>0.0</td>\n",
       "      <td>1.0</td>\n",
       "      <td>1.0</td>\n",
       "      <td>Charlie's Toyota</td>\n",
       "      <td>NaN</td>\n",
       "      <td>4.8</td>\n",
       "      <td>13.0</td>\n",
       "      <td>NaN</td>\n",
       "      <td>42995.0</td>\n",
       "    </tr>\n",
       "    <tr>\n",
       "      <th>531766</th>\n",
       "      <td>Mercedes-Benz</td>\n",
       "      <td>C-Class C300 4MATIC</td>\n",
       "      <td>2014</td>\n",
       "      <td>78600.0</td>\n",
       "      <td>Premium Unleaded V-6 3.5 L/213</td>\n",
       "      <td>Automatic</td>\n",
       "      <td>All-wheel Drive</td>\n",
       "      <td>Gasoline</td>\n",
       "      <td>20-27</td>\n",
       "      <td>Black</td>\n",
       "      <td>Black</td>\n",
       "      <td>0.0</td>\n",
       "      <td>0.0</td>\n",
       "      <td>0.0</td>\n",
       "      <td>Mercedes-Benz of Lynnwood</td>\n",
       "      <td>4.4</td>\n",
       "      <td>4.7</td>\n",
       "      <td>100.0</td>\n",
       "      <td>505.0</td>\n",
       "      <td>17995.0</td>\n",
       "    </tr>\n",
       "    <tr>\n",
       "      <th>216502</th>\n",
       "      <td>Ford</td>\n",
       "      <td>F-250 Platinum</td>\n",
       "      <td>2017</td>\n",
       "      <td>70365.0</td>\n",
       "      <td>6.7L V8 32V DDI OHV Turbo Diesel</td>\n",
       "      <td>6-Speed Automatic</td>\n",
       "      <td>Four-wheel Drive</td>\n",
       "      <td>Diesel</td>\n",
       "      <td>NaN</td>\n",
       "      <td>Magnetic Metallic</td>\n",
       "      <td>Black</td>\n",
       "      <td>0.0</td>\n",
       "      <td>1.0</td>\n",
       "      <td>1.0</td>\n",
       "      <td>Grapevine Ford Lincoln</td>\n",
       "      <td>4.6</td>\n",
       "      <td>4.6</td>\n",
       "      <td>163.0</td>\n",
       "      <td>NaN</td>\n",
       "      <td>63999.0</td>\n",
       "    </tr>\n",
       "    <tr>\n",
       "      <th>...</th>\n",
       "      <td>...</td>\n",
       "      <td>...</td>\n",
       "      <td>...</td>\n",
       "      <td>...</td>\n",
       "      <td>...</td>\n",
       "      <td>...</td>\n",
       "      <td>...</td>\n",
       "      <td>...</td>\n",
       "      <td>...</td>\n",
       "      <td>...</td>\n",
       "      <td>...</td>\n",
       "      <td>...</td>\n",
       "      <td>...</td>\n",
       "      <td>...</td>\n",
       "      <td>...</td>\n",
       "      <td>...</td>\n",
       "      <td>...</td>\n",
       "      <td>...</td>\n",
       "      <td>...</td>\n",
       "      <td>...</td>\n",
       "    </tr>\n",
       "    <tr>\n",
       "      <th>489863</th>\n",
       "      <td>Lincoln</td>\n",
       "      <td>Corsair Standard</td>\n",
       "      <td>2021</td>\n",
       "      <td>22369.0</td>\n",
       "      <td>2.0L I4 16V GDI DOHC Turbo</td>\n",
       "      <td>8-Speed Automatic</td>\n",
       "      <td>All-wheel Drive</td>\n",
       "      <td>Gasoline</td>\n",
       "      <td>21-29</td>\n",
       "      <td>Burgundy Velvet</td>\n",
       "      <td>Sandstone</td>\n",
       "      <td>0.0</td>\n",
       "      <td>1.0</td>\n",
       "      <td>0.0</td>\n",
       "      <td>Zeck Ford</td>\n",
       "      <td>4.9</td>\n",
       "      <td>4.8</td>\n",
       "      <td>9.0</td>\n",
       "      <td>500.0</td>\n",
       "      <td>32000.0</td>\n",
       "    </tr>\n",
       "    <tr>\n",
       "      <th>513217</th>\n",
       "      <td>Mercedes-Benz</td>\n",
       "      <td>GLC 300 Base 4MATIC</td>\n",
       "      <td>2020</td>\n",
       "      <td>51915.0</td>\n",
       "      <td>2.0L I4 16V GDI DOHC Turbo</td>\n",
       "      <td>9-Speed Automatic</td>\n",
       "      <td>All-wheel Drive</td>\n",
       "      <td>Gasoline</td>\n",
       "      <td>21-28</td>\n",
       "      <td>Polar White</td>\n",
       "      <td>Black</td>\n",
       "      <td>0.0</td>\n",
       "      <td>1.0</td>\n",
       "      <td>1.0</td>\n",
       "      <td>Mercedes-Benz of Massapequa</td>\n",
       "      <td>4.8</td>\n",
       "      <td>4.8</td>\n",
       "      <td>36.0</td>\n",
       "      <td>NaN</td>\n",
       "      <td>32217.0</td>\n",
       "    </tr>\n",
       "    <tr>\n",
       "      <th>59014</th>\n",
       "      <td>BMW</td>\n",
       "      <td>X3</td>\n",
       "      <td>2021</td>\n",
       "      <td>41279.0</td>\n",
       "      <td>NaN</td>\n",
       "      <td>AUTOMATIC</td>\n",
       "      <td>NaN</td>\n",
       "      <td>NaN</td>\n",
       "      <td>NaN</td>\n",
       "      <td>Glacier Silver Metallic</td>\n",
       "      <td>NaN</td>\n",
       "      <td>0.0</td>\n",
       "      <td>0.0</td>\n",
       "      <td>0.0</td>\n",
       "      <td>BMW of Cincinnati North</td>\n",
       "      <td>NaN</td>\n",
       "      <td>4.7</td>\n",
       "      <td>29.0</td>\n",
       "      <td>NaN</td>\n",
       "      <td>40000.0</td>\n",
       "    </tr>\n",
       "    <tr>\n",
       "      <th>314423</th>\n",
       "      <td>Honda</td>\n",
       "      <td>HR-V LX</td>\n",
       "      <td>2021</td>\n",
       "      <td>16722.0</td>\n",
       "      <td>1.8L I4 16V MPFI SOHC</td>\n",
       "      <td>Automatic CVT</td>\n",
       "      <td>All-wheel Drive</td>\n",
       "      <td>Gasoline</td>\n",
       "      <td>27-31</td>\n",
       "      <td>Silver</td>\n",
       "      <td>Gray</td>\n",
       "      <td>1.0</td>\n",
       "      <td>1.0</td>\n",
       "      <td>1.0</td>\n",
       "      <td>West Herr Honda of Canandaigua</td>\n",
       "      <td>4.5</td>\n",
       "      <td>4.7</td>\n",
       "      <td>45.0</td>\n",
       "      <td>253.0</td>\n",
       "      <td>23892.0</td>\n",
       "    </tr>\n",
       "    <tr>\n",
       "      <th>42849</th>\n",
       "      <td>BMW</td>\n",
       "      <td>230 i</td>\n",
       "      <td>2020</td>\n",
       "      <td>28559.0</td>\n",
       "      <td>2.0L I4 16V GDI DOHC Turbo</td>\n",
       "      <td>8-Speed Automatic</td>\n",
       "      <td>Rear-wheel Drive</td>\n",
       "      <td>Gasoline</td>\n",
       "      <td>24-32</td>\n",
       "      <td>Jet Black</td>\n",
       "      <td>Oyster / Black</td>\n",
       "      <td>0.0</td>\n",
       "      <td>1.0</td>\n",
       "      <td>0.0</td>\n",
       "      <td>AutoLenders Toms River</td>\n",
       "      <td>4.7</td>\n",
       "      <td>4.9</td>\n",
       "      <td>5.0</td>\n",
       "      <td>382.0</td>\n",
       "      <td>30276.0</td>\n",
       "    </tr>\n",
       "  </tbody>\n",
       "</table>\n",
       "<p>190523 rows × 20 columns</p>\n",
       "</div>"
      ],
      "text/plain": [
       "         manufacturer                model  year  mileage  \\\n",
       "191809           Ford              Focus S  2018  94746.0   \n",
       "488330        Lincoln             MKZ Base  2014  55710.0   \n",
       "713389         Toyota  RAV4 Hybrid Limited  2022  15022.0   \n",
       "531766  Mercedes-Benz  C-Class C300 4MATIC  2014  78600.0   \n",
       "216502           Ford       F-250 Platinum  2017  70365.0   \n",
       "...               ...                  ...   ...      ...   \n",
       "489863        Lincoln     Corsair Standard  2021  22369.0   \n",
       "513217  Mercedes-Benz  GLC 300 Base 4MATIC  2020  51915.0   \n",
       "59014             BMW                   X3  2021  41279.0   \n",
       "314423          Honda              HR-V LX  2021  16722.0   \n",
       "42849             BMW                230 i  2020  28559.0   \n",
       "\n",
       "                                    engine  \\\n",
       "191809  2.0L I4 16V GDI DOHC Flexible Fuel   \n",
       "488330          2.0L I4 16V GDI DOHC Turbo   \n",
       "713389                                2.5L   \n",
       "531766      Premium Unleaded V-6 3.5 L/213   \n",
       "216502    6.7L V8 32V DDI OHV Turbo Diesel   \n",
       "...                                    ...   \n",
       "489863          2.0L I4 16V GDI DOHC Turbo   \n",
       "513217          2.0L I4 16V GDI DOHC Turbo   \n",
       "59014                                  NaN   \n",
       "314423               1.8L I4 16V MPFI SOHC   \n",
       "42849           2.0L I4 16V GDI DOHC Turbo   \n",
       "\n",
       "                              transmission         drivetrain      fuel_type  \\\n",
       "191809   6-Speed Automatic with Auto-Shift  Front-wheel Drive  E85 Flex Fuel   \n",
       "488330                   6-Speed Automatic  Front-wheel Drive       Gasoline   \n",
       "713389  Continuously Variable Transmission                NaN              B   \n",
       "531766                           Automatic    All-wheel Drive       Gasoline   \n",
       "216502                   6-Speed Automatic   Four-wheel Drive         Diesel   \n",
       "...                                    ...                ...            ...   \n",
       "489863                   8-Speed Automatic    All-wheel Drive       Gasoline   \n",
       "513217                   9-Speed Automatic    All-wheel Drive       Gasoline   \n",
       "59014                            AUTOMATIC                NaN            NaN   \n",
       "314423                       Automatic CVT    All-wheel Drive       Gasoline   \n",
       "42849                    8-Speed Automatic   Rear-wheel Drive       Gasoline   \n",
       "\n",
       "          mpg                    exterior_color  interior_color  \\\n",
       "191809  25-34                      Shadow Black  Charcoal Black   \n",
       "488330  22-33  White Platinum Tri-Coat Metallic  Charcoal Black   \n",
       "713389    NaN               SILVER SKY METALLIC            EA20   \n",
       "531766  20-27                             Black           Black   \n",
       "216502    NaN                 Magnetic Metallic           Black   \n",
       "...       ...                               ...             ...   \n",
       "489863  21-29                   Burgundy Velvet       Sandstone   \n",
       "513217  21-28                       Polar White           Black   \n",
       "59014     NaN           Glacier Silver Metallic             NaN   \n",
       "314423  27-31                            Silver            Gray   \n",
       "42849   24-32                         Jet Black  Oyster / Black   \n",
       "\n",
       "        accidents_or_damage  one_owner  personal_use_only  \\\n",
       "191809                  0.0        1.0                1.0   \n",
       "488330                  0.0        0.0                1.0   \n",
       "713389                  0.0        1.0                1.0   \n",
       "531766                  0.0        0.0                0.0   \n",
       "216502                  0.0        1.0                1.0   \n",
       "...                     ...        ...                ...   \n",
       "489863                  0.0        1.0                0.0   \n",
       "513217                  0.0        1.0                1.0   \n",
       "59014                   0.0        0.0                0.0   \n",
       "314423                  1.0        1.0                1.0   \n",
       "42849                   0.0        1.0                0.0   \n",
       "\n",
       "                           seller_name  seller_rating  driver_rating  \\\n",
       "191809          Blasius Pre-Owned Auto            4.3            4.6   \n",
       "488330                   Maxkar Motors            3.8            4.7   \n",
       "713389                Charlie's Toyota            NaN            4.8   \n",
       "531766       Mercedes-Benz of Lynnwood            4.4            4.7   \n",
       "216502          Grapevine Ford Lincoln            4.6            4.6   \n",
       "...                                ...            ...            ...   \n",
       "489863                       Zeck Ford            4.9            4.8   \n",
       "513217     Mercedes-Benz of Massapequa            4.8            4.8   \n",
       "59014          BMW of Cincinnati North            NaN            4.7   \n",
       "314423  West Herr Honda of Canandaigua            4.5            4.7   \n",
       "42849           AutoLenders Toms River            4.7            4.9   \n",
       "\n",
       "        driver_reviews_num  price_drop    price  \n",
       "191809               202.0       590.0  10994.0  \n",
       "488330                69.0       500.0  17498.0  \n",
       "713389                13.0         NaN  42995.0  \n",
       "531766               100.0       505.0  17995.0  \n",
       "216502               163.0         NaN  63999.0  \n",
       "...                    ...         ...      ...  \n",
       "489863                 9.0       500.0  32000.0  \n",
       "513217                36.0         NaN  32217.0  \n",
       "59014                 29.0         NaN  40000.0  \n",
       "314423                45.0       253.0  23892.0  \n",
       "42849                  5.0       382.0  30276.0  \n",
       "\n",
       "[190523 rows x 20 columns]"
      ]
     },
     "execution_count": 153,
     "metadata": {},
     "output_type": "execute_result"
    }
   ],
   "source": [
    "sample = df.sample(frac=0.25)\n",
    "sample"
   ]
  },
  {
   "cell_type": "code",
   "execution_count": 154,
   "id": "5996df4b-a028-4f16-a0b8-48c3de1e9b47",
   "metadata": {},
   "outputs": [
    {
     "data": {
      "text/plain": [
       "manufacturer              30\n",
       "model                   7992\n",
       "year                      93\n",
       "mileage                99257\n",
       "engine                  3903\n",
       "transmission             684\n",
       "drivetrain                25\n",
       "fuel_type                 23\n",
       "mpg                      635\n",
       "exterior_color          4675\n",
       "interior_color          2663\n",
       "accidents_or_damage        2\n",
       "one_owner                  2\n",
       "personal_use_only          2\n",
       "seller_name            16936\n",
       "seller_rating             41\n",
       "driver_rating             30\n",
       "driver_reviews_num       369\n",
       "price_drop              4508\n",
       "price                  36393\n",
       "dtype: int64"
      ]
     },
     "execution_count": 154,
     "metadata": {},
     "output_type": "execute_result"
    }
   ],
   "source": [
    "sample.nunique()"
   ]
  },
  {
   "cell_type": "code",
   "execution_count": 155,
   "id": "841f1ab4-079f-4096-9587-6fe5aa2a9892",
   "metadata": {},
   "outputs": [
    {
     "data": {
      "text/plain": [
       "np.int64(553)"
      ]
     },
     "execution_count": 155,
     "metadata": {},
     "output_type": "execute_result"
    }
   ],
   "source": [
    "sample.duplicated().sum()"
   ]
  },
  {
   "cell_type": "markdown",
   "id": "085990e2-6c43-4456-bcd5-8ef3f6fda1ff",
   "metadata": {},
   "source": [
    "Removendo as **duplicatas** da amostra"
   ]
  },
  {
   "cell_type": "code",
   "execution_count": 156,
   "id": "4c5cbeba-533e-493d-91c3-38ff7d7c9e4b",
   "metadata": {},
   "outputs": [],
   "source": [
    "sample = sample.drop_duplicates()"
   ]
  },
  {
   "cell_type": "markdown",
   "id": "ce6587a1-8095-4d06-9afe-2bb9bec59f3f",
   "metadata": {
    "jp-MarkdownHeadingCollapsed": true
   },
   "source": [
    "## Tratando valores nulos das variáveis\n",
    "\n",
    "Tratei os valores nulos do dataframe de forma que as variáveis **categóricas** fossem substituídas pela string **'Not Informed'** e as variáveis **númericas** pela **Moda** e **Mediana**"
   ]
  },
  {
   "cell_type": "code",
   "execution_count": 157,
   "id": "7fd171c6-30f8-431f-84ba-a19ca23693ec",
   "metadata": {
    "scrolled": true
   },
   "outputs": [
    {
     "data": {
      "text/plain": [
       "manufacturer            object\n",
       "model                   object\n",
       "year                     int64\n",
       "mileage                float64\n",
       "engine                  object\n",
       "transmission            object\n",
       "drivetrain              object\n",
       "fuel_type               object\n",
       "mpg                     object\n",
       "exterior_color          object\n",
       "interior_color          object\n",
       "accidents_or_damage    float64\n",
       "one_owner              float64\n",
       "personal_use_only      float64\n",
       "seller_name             object\n",
       "seller_rating          float64\n",
       "driver_rating          float64\n",
       "driver_reviews_num     float64\n",
       "price_drop             float64\n",
       "price                  float64\n",
       "dtype: object"
      ]
     },
     "execution_count": 157,
     "metadata": {},
     "output_type": "execute_result"
    }
   ],
   "source": [
    "sample.dtypes"
   ]
  },
  {
   "cell_type": "code",
   "execution_count": 158,
   "id": "3c1cbdcb-df58-4c85-8264-a5d154706dd4",
   "metadata": {
    "scrolled": true
   },
   "outputs": [
    {
     "data": {
      "text/plain": [
       "manufacturer               0\n",
       "model                      0\n",
       "year                       0\n",
       "mileage                  129\n",
       "engine                  3699\n",
       "transmission            2428\n",
       "drivetrain              5365\n",
       "fuel_type               5708\n",
       "mpg                    35549\n",
       "exterior_color          2224\n",
       "interior_color         14182\n",
       "accidents_or_damage     6098\n",
       "one_owner               7941\n",
       "personal_use_only       6275\n",
       "seller_name             2188\n",
       "seller_rating          53368\n",
       "driver_rating           8014\n",
       "driver_reviews_num         0\n",
       "price_drop             87577\n",
       "price                      0\n",
       "dtype: int64"
      ]
     },
     "execution_count": 158,
     "metadata": {},
     "output_type": "execute_result"
    }
   ],
   "source": [
    "sample.isnull().sum()"
   ]
  },
  {
   "cell_type": "markdown",
   "id": "dde3e588-14cf-45ff-a6cc-cd057a70e59f",
   "metadata": {},
   "source": [
    "### Variáveis categóricas"
   ]
  },
  {
   "cell_type": "code",
   "execution_count": 159,
   "id": "5622e805-9ecc-4480-9a59-44dcfe238280",
   "metadata": {},
   "outputs": [
    {
     "data": {
      "text/html": [
       "<div>\n",
       "<style scoped>\n",
       "    .dataframe tbody tr th:only-of-type {\n",
       "        vertical-align: middle;\n",
       "    }\n",
       "\n",
       "    .dataframe tbody tr th {\n",
       "        vertical-align: top;\n",
       "    }\n",
       "\n",
       "    .dataframe thead th {\n",
       "        text-align: right;\n",
       "    }\n",
       "</style>\n",
       "<table border=\"1\" class=\"dataframe\">\n",
       "  <thead>\n",
       "    <tr style=\"text-align: right;\">\n",
       "      <th></th>\n",
       "      <th>engine</th>\n",
       "      <th>transmission</th>\n",
       "      <th>drivetrain</th>\n",
       "      <th>fuel_type</th>\n",
       "      <th>mpg</th>\n",
       "      <th>exterior_color</th>\n",
       "      <th>interior_color</th>\n",
       "      <th>seller_name</th>\n",
       "    </tr>\n",
       "  </thead>\n",
       "  <tbody>\n",
       "    <tr>\n",
       "      <th>191809</th>\n",
       "      <td>2.0L I4 16V GDI DOHC Flexible Fuel</td>\n",
       "      <td>6-Speed Automatic with Auto-Shift</td>\n",
       "      <td>Front-wheel Drive</td>\n",
       "      <td>E85 Flex Fuel</td>\n",
       "      <td>25-34</td>\n",
       "      <td>Shadow Black</td>\n",
       "      <td>Charcoal Black</td>\n",
       "      <td>Blasius Pre-Owned Auto</td>\n",
       "    </tr>\n",
       "    <tr>\n",
       "      <th>488330</th>\n",
       "      <td>2.0L I4 16V GDI DOHC Turbo</td>\n",
       "      <td>6-Speed Automatic</td>\n",
       "      <td>Front-wheel Drive</td>\n",
       "      <td>Gasoline</td>\n",
       "      <td>22-33</td>\n",
       "      <td>White Platinum Tri-Coat Metallic</td>\n",
       "      <td>Charcoal Black</td>\n",
       "      <td>Maxkar Motors</td>\n",
       "    </tr>\n",
       "    <tr>\n",
       "      <th>713389</th>\n",
       "      <td>2.5L</td>\n",
       "      <td>Continuously Variable Transmission</td>\n",
       "      <td>NaN</td>\n",
       "      <td>B</td>\n",
       "      <td>NaN</td>\n",
       "      <td>SILVER SKY METALLIC</td>\n",
       "      <td>EA20</td>\n",
       "      <td>Charlie's Toyota</td>\n",
       "    </tr>\n",
       "    <tr>\n",
       "      <th>531766</th>\n",
       "      <td>Premium Unleaded V-6 3.5 L/213</td>\n",
       "      <td>Automatic</td>\n",
       "      <td>All-wheel Drive</td>\n",
       "      <td>Gasoline</td>\n",
       "      <td>20-27</td>\n",
       "      <td>Black</td>\n",
       "      <td>Black</td>\n",
       "      <td>Mercedes-Benz of Lynnwood</td>\n",
       "    </tr>\n",
       "    <tr>\n",
       "      <th>216502</th>\n",
       "      <td>6.7L V8 32V DDI OHV Turbo Diesel</td>\n",
       "      <td>6-Speed Automatic</td>\n",
       "      <td>Four-wheel Drive</td>\n",
       "      <td>Diesel</td>\n",
       "      <td>NaN</td>\n",
       "      <td>Magnetic Metallic</td>\n",
       "      <td>Black</td>\n",
       "      <td>Grapevine Ford Lincoln</td>\n",
       "    </tr>\n",
       "    <tr>\n",
       "      <th>...</th>\n",
       "      <td>...</td>\n",
       "      <td>...</td>\n",
       "      <td>...</td>\n",
       "      <td>...</td>\n",
       "      <td>...</td>\n",
       "      <td>...</td>\n",
       "      <td>...</td>\n",
       "      <td>...</td>\n",
       "    </tr>\n",
       "    <tr>\n",
       "      <th>489863</th>\n",
       "      <td>2.0L I4 16V GDI DOHC Turbo</td>\n",
       "      <td>8-Speed Automatic</td>\n",
       "      <td>All-wheel Drive</td>\n",
       "      <td>Gasoline</td>\n",
       "      <td>21-29</td>\n",
       "      <td>Burgundy Velvet</td>\n",
       "      <td>Sandstone</td>\n",
       "      <td>Zeck Ford</td>\n",
       "    </tr>\n",
       "    <tr>\n",
       "      <th>513217</th>\n",
       "      <td>2.0L I4 16V GDI DOHC Turbo</td>\n",
       "      <td>9-Speed Automatic</td>\n",
       "      <td>All-wheel Drive</td>\n",
       "      <td>Gasoline</td>\n",
       "      <td>21-28</td>\n",
       "      <td>Polar White</td>\n",
       "      <td>Black</td>\n",
       "      <td>Mercedes-Benz of Massapequa</td>\n",
       "    </tr>\n",
       "    <tr>\n",
       "      <th>59014</th>\n",
       "      <td>NaN</td>\n",
       "      <td>AUTOMATIC</td>\n",
       "      <td>NaN</td>\n",
       "      <td>NaN</td>\n",
       "      <td>NaN</td>\n",
       "      <td>Glacier Silver Metallic</td>\n",
       "      <td>NaN</td>\n",
       "      <td>BMW of Cincinnati North</td>\n",
       "    </tr>\n",
       "    <tr>\n",
       "      <th>314423</th>\n",
       "      <td>1.8L I4 16V MPFI SOHC</td>\n",
       "      <td>Automatic CVT</td>\n",
       "      <td>All-wheel Drive</td>\n",
       "      <td>Gasoline</td>\n",
       "      <td>27-31</td>\n",
       "      <td>Silver</td>\n",
       "      <td>Gray</td>\n",
       "      <td>West Herr Honda of Canandaigua</td>\n",
       "    </tr>\n",
       "    <tr>\n",
       "      <th>42849</th>\n",
       "      <td>2.0L I4 16V GDI DOHC Turbo</td>\n",
       "      <td>8-Speed Automatic</td>\n",
       "      <td>Rear-wheel Drive</td>\n",
       "      <td>Gasoline</td>\n",
       "      <td>24-32</td>\n",
       "      <td>Jet Black</td>\n",
       "      <td>Oyster / Black</td>\n",
       "      <td>AutoLenders Toms River</td>\n",
       "    </tr>\n",
       "  </tbody>\n",
       "</table>\n",
       "<p>189970 rows × 8 columns</p>\n",
       "</div>"
      ],
      "text/plain": [
       "                                    engine  \\\n",
       "191809  2.0L I4 16V GDI DOHC Flexible Fuel   \n",
       "488330          2.0L I4 16V GDI DOHC Turbo   \n",
       "713389                                2.5L   \n",
       "531766      Premium Unleaded V-6 3.5 L/213   \n",
       "216502    6.7L V8 32V DDI OHV Turbo Diesel   \n",
       "...                                    ...   \n",
       "489863          2.0L I4 16V GDI DOHC Turbo   \n",
       "513217          2.0L I4 16V GDI DOHC Turbo   \n",
       "59014                                  NaN   \n",
       "314423               1.8L I4 16V MPFI SOHC   \n",
       "42849           2.0L I4 16V GDI DOHC Turbo   \n",
       "\n",
       "                              transmission         drivetrain      fuel_type  \\\n",
       "191809   6-Speed Automatic with Auto-Shift  Front-wheel Drive  E85 Flex Fuel   \n",
       "488330                   6-Speed Automatic  Front-wheel Drive       Gasoline   \n",
       "713389  Continuously Variable Transmission                NaN              B   \n",
       "531766                           Automatic    All-wheel Drive       Gasoline   \n",
       "216502                   6-Speed Automatic   Four-wheel Drive         Diesel   \n",
       "...                                    ...                ...            ...   \n",
       "489863                   8-Speed Automatic    All-wheel Drive       Gasoline   \n",
       "513217                   9-Speed Automatic    All-wheel Drive       Gasoline   \n",
       "59014                            AUTOMATIC                NaN            NaN   \n",
       "314423                       Automatic CVT    All-wheel Drive       Gasoline   \n",
       "42849                    8-Speed Automatic   Rear-wheel Drive       Gasoline   \n",
       "\n",
       "          mpg                    exterior_color  interior_color  \\\n",
       "191809  25-34                      Shadow Black  Charcoal Black   \n",
       "488330  22-33  White Platinum Tri-Coat Metallic  Charcoal Black   \n",
       "713389    NaN               SILVER SKY METALLIC            EA20   \n",
       "531766  20-27                             Black           Black   \n",
       "216502    NaN                 Magnetic Metallic           Black   \n",
       "...       ...                               ...             ...   \n",
       "489863  21-29                   Burgundy Velvet       Sandstone   \n",
       "513217  21-28                       Polar White           Black   \n",
       "59014     NaN           Glacier Silver Metallic             NaN   \n",
       "314423  27-31                            Silver            Gray   \n",
       "42849   24-32                         Jet Black  Oyster / Black   \n",
       "\n",
       "                           seller_name  \n",
       "191809          Blasius Pre-Owned Auto  \n",
       "488330                   Maxkar Motors  \n",
       "713389                Charlie's Toyota  \n",
       "531766       Mercedes-Benz of Lynnwood  \n",
       "216502          Grapevine Ford Lincoln  \n",
       "...                                ...  \n",
       "489863                       Zeck Ford  \n",
       "513217     Mercedes-Benz of Massapequa  \n",
       "59014          BMW of Cincinnati North  \n",
       "314423  West Herr Honda of Canandaigua  \n",
       "42849           AutoLenders Toms River  \n",
       "\n",
       "[189970 rows x 8 columns]"
      ]
     },
     "execution_count": 159,
     "metadata": {},
     "output_type": "execute_result"
    }
   ],
   "source": [
    "object_sample_vars = sample[['engine', 'transmission', 'drivetrain', 'fuel_type', 'mpg', 'exterior_color', 'interior_color', 'seller_name']]\n",
    "object_sample_vars"
   ]
  },
  {
   "cell_type": "markdown",
   "id": "e145aba1-6aba-4b91-bb21-59d5d6579a58",
   "metadata": {},
   "source": [
    "Preenchendo valores faltantes das colunas categóricas com **'Not Informed'**"
   ]
  },
  {
   "cell_type": "code",
   "execution_count": 160,
   "id": "659a4eed-f0f5-4664-82f0-e2150bbfa92b",
   "metadata": {},
   "outputs": [],
   "source": [
    "sample = sample.copy()\n",
    "\n",
    "for col_name in object_sample_vars:\n",
    "    sample.loc[:, col_name] = sample[col_name].fillna('Not Informed')"
   ]
  },
  {
   "cell_type": "markdown",
   "id": "51a9cba5-8dcd-4bea-a650-26863747161b",
   "metadata": {},
   "source": [
    "### Variáveis numéricas"
   ]
  },
  {
   "cell_type": "markdown",
   "id": "f2505f16-9d4c-4061-81c2-d17012352776",
   "metadata": {},
   "source": [
    "Com base em características das variáveis, separei algumas para serem preenchidas pela **moda** e outras pela **mediana**\n",
    "\n",
    "'accidents_or_damage', 'one_owner' e 'personal_use_only' foram substituídas pela moda por possuírem apenas valores 0 e 1.<br>\n",
    "'mileage','seller_rating', 'driver_rating' e 'price_drop' foram substituídas pela mediana por possuírem valores diversos."
   ]
  },
  {
   "cell_type": "code",
   "execution_count": 161,
   "id": "68dbb196-d2e0-4509-9e3c-043702886eb9",
   "metadata": {},
   "outputs": [],
   "source": [
    "mode_numeric_sample_vars = sample[['accidents_or_damage', 'one_owner', 'personal_use_only']]\n",
    "median_numeric_sample_vars = sample[['mileage','seller_rating', 'driver_rating', 'price_drop']]"
   ]
  },
  {
   "cell_type": "code",
   "execution_count": 162,
   "id": "242c3639-dd0c-4fc4-ab1e-a4dd7cfd6c50",
   "metadata": {
    "scrolled": true
   },
   "outputs": [
    {
     "data": {
      "text/html": [
       "<div>\n",
       "<style scoped>\n",
       "    .dataframe tbody tr th:only-of-type {\n",
       "        vertical-align: middle;\n",
       "    }\n",
       "\n",
       "    .dataframe tbody tr th {\n",
       "        vertical-align: top;\n",
       "    }\n",
       "\n",
       "    .dataframe thead th {\n",
       "        text-align: right;\n",
       "    }\n",
       "</style>\n",
       "<table border=\"1\" class=\"dataframe\">\n",
       "  <thead>\n",
       "    <tr style=\"text-align: right;\">\n",
       "      <th></th>\n",
       "      <th>accidents_or_damage</th>\n",
       "      <th>one_owner</th>\n",
       "      <th>personal_use_only</th>\n",
       "    </tr>\n",
       "  </thead>\n",
       "  <tbody>\n",
       "    <tr>\n",
       "      <th>191809</th>\n",
       "      <td>0.0</td>\n",
       "      <td>1.0</td>\n",
       "      <td>1.0</td>\n",
       "    </tr>\n",
       "    <tr>\n",
       "      <th>488330</th>\n",
       "      <td>0.0</td>\n",
       "      <td>0.0</td>\n",
       "      <td>1.0</td>\n",
       "    </tr>\n",
       "    <tr>\n",
       "      <th>713389</th>\n",
       "      <td>0.0</td>\n",
       "      <td>1.0</td>\n",
       "      <td>1.0</td>\n",
       "    </tr>\n",
       "    <tr>\n",
       "      <th>531766</th>\n",
       "      <td>0.0</td>\n",
       "      <td>0.0</td>\n",
       "      <td>0.0</td>\n",
       "    </tr>\n",
       "    <tr>\n",
       "      <th>216502</th>\n",
       "      <td>0.0</td>\n",
       "      <td>1.0</td>\n",
       "      <td>1.0</td>\n",
       "    </tr>\n",
       "    <tr>\n",
       "      <th>...</th>\n",
       "      <td>...</td>\n",
       "      <td>...</td>\n",
       "      <td>...</td>\n",
       "    </tr>\n",
       "    <tr>\n",
       "      <th>489863</th>\n",
       "      <td>0.0</td>\n",
       "      <td>1.0</td>\n",
       "      <td>0.0</td>\n",
       "    </tr>\n",
       "    <tr>\n",
       "      <th>513217</th>\n",
       "      <td>0.0</td>\n",
       "      <td>1.0</td>\n",
       "      <td>1.0</td>\n",
       "    </tr>\n",
       "    <tr>\n",
       "      <th>59014</th>\n",
       "      <td>0.0</td>\n",
       "      <td>0.0</td>\n",
       "      <td>0.0</td>\n",
       "    </tr>\n",
       "    <tr>\n",
       "      <th>314423</th>\n",
       "      <td>1.0</td>\n",
       "      <td>1.0</td>\n",
       "      <td>1.0</td>\n",
       "    </tr>\n",
       "    <tr>\n",
       "      <th>42849</th>\n",
       "      <td>0.0</td>\n",
       "      <td>1.0</td>\n",
       "      <td>0.0</td>\n",
       "    </tr>\n",
       "  </tbody>\n",
       "</table>\n",
       "<p>189970 rows × 3 columns</p>\n",
       "</div>"
      ],
      "text/plain": [
       "        accidents_or_damage  one_owner  personal_use_only\n",
       "191809                  0.0        1.0                1.0\n",
       "488330                  0.0        0.0                1.0\n",
       "713389                  0.0        1.0                1.0\n",
       "531766                  0.0        0.0                0.0\n",
       "216502                  0.0        1.0                1.0\n",
       "...                     ...        ...                ...\n",
       "489863                  0.0        1.0                0.0\n",
       "513217                  0.0        1.0                1.0\n",
       "59014                   0.0        0.0                0.0\n",
       "314423                  1.0        1.0                1.0\n",
       "42849                   0.0        1.0                0.0\n",
       "\n",
       "[189970 rows x 3 columns]"
      ]
     },
     "execution_count": 162,
     "metadata": {},
     "output_type": "execute_result"
    }
   ],
   "source": [
    "mode_numeric_sample_vars"
   ]
  },
  {
   "cell_type": "code",
   "execution_count": 163,
   "id": "282a8614-9350-40e5-a0a8-11c60ca2eaa1",
   "metadata": {
    "scrolled": true
   },
   "outputs": [
    {
     "data": {
      "text/html": [
       "<div>\n",
       "<style scoped>\n",
       "    .dataframe tbody tr th:only-of-type {\n",
       "        vertical-align: middle;\n",
       "    }\n",
       "\n",
       "    .dataframe tbody tr th {\n",
       "        vertical-align: top;\n",
       "    }\n",
       "\n",
       "    .dataframe thead th {\n",
       "        text-align: right;\n",
       "    }\n",
       "</style>\n",
       "<table border=\"1\" class=\"dataframe\">\n",
       "  <thead>\n",
       "    <tr style=\"text-align: right;\">\n",
       "      <th></th>\n",
       "      <th>mileage</th>\n",
       "      <th>seller_rating</th>\n",
       "      <th>driver_rating</th>\n",
       "      <th>price_drop</th>\n",
       "    </tr>\n",
       "  </thead>\n",
       "  <tbody>\n",
       "    <tr>\n",
       "      <th>191809</th>\n",
       "      <td>94746.0</td>\n",
       "      <td>4.3</td>\n",
       "      <td>4.6</td>\n",
       "      <td>590.0</td>\n",
       "    </tr>\n",
       "    <tr>\n",
       "      <th>488330</th>\n",
       "      <td>55710.0</td>\n",
       "      <td>3.8</td>\n",
       "      <td>4.7</td>\n",
       "      <td>500.0</td>\n",
       "    </tr>\n",
       "    <tr>\n",
       "      <th>713389</th>\n",
       "      <td>15022.0</td>\n",
       "      <td>NaN</td>\n",
       "      <td>4.8</td>\n",
       "      <td>NaN</td>\n",
       "    </tr>\n",
       "    <tr>\n",
       "      <th>531766</th>\n",
       "      <td>78600.0</td>\n",
       "      <td>4.4</td>\n",
       "      <td>4.7</td>\n",
       "      <td>505.0</td>\n",
       "    </tr>\n",
       "    <tr>\n",
       "      <th>216502</th>\n",
       "      <td>70365.0</td>\n",
       "      <td>4.6</td>\n",
       "      <td>4.6</td>\n",
       "      <td>NaN</td>\n",
       "    </tr>\n",
       "    <tr>\n",
       "      <th>...</th>\n",
       "      <td>...</td>\n",
       "      <td>...</td>\n",
       "      <td>...</td>\n",
       "      <td>...</td>\n",
       "    </tr>\n",
       "    <tr>\n",
       "      <th>489863</th>\n",
       "      <td>22369.0</td>\n",
       "      <td>4.9</td>\n",
       "      <td>4.8</td>\n",
       "      <td>500.0</td>\n",
       "    </tr>\n",
       "    <tr>\n",
       "      <th>513217</th>\n",
       "      <td>51915.0</td>\n",
       "      <td>4.8</td>\n",
       "      <td>4.8</td>\n",
       "      <td>NaN</td>\n",
       "    </tr>\n",
       "    <tr>\n",
       "      <th>59014</th>\n",
       "      <td>41279.0</td>\n",
       "      <td>NaN</td>\n",
       "      <td>4.7</td>\n",
       "      <td>NaN</td>\n",
       "    </tr>\n",
       "    <tr>\n",
       "      <th>314423</th>\n",
       "      <td>16722.0</td>\n",
       "      <td>4.5</td>\n",
       "      <td>4.7</td>\n",
       "      <td>253.0</td>\n",
       "    </tr>\n",
       "    <tr>\n",
       "      <th>42849</th>\n",
       "      <td>28559.0</td>\n",
       "      <td>4.7</td>\n",
       "      <td>4.9</td>\n",
       "      <td>382.0</td>\n",
       "    </tr>\n",
       "  </tbody>\n",
       "</table>\n",
       "<p>189970 rows × 4 columns</p>\n",
       "</div>"
      ],
      "text/plain": [
       "        mileage  seller_rating  driver_rating  price_drop\n",
       "191809  94746.0            4.3            4.6       590.0\n",
       "488330  55710.0            3.8            4.7       500.0\n",
       "713389  15022.0            NaN            4.8         NaN\n",
       "531766  78600.0            4.4            4.7       505.0\n",
       "216502  70365.0            4.6            4.6         NaN\n",
       "...         ...            ...            ...         ...\n",
       "489863  22369.0            4.9            4.8       500.0\n",
       "513217  51915.0            4.8            4.8         NaN\n",
       "59014   41279.0            NaN            4.7         NaN\n",
       "314423  16722.0            4.5            4.7       253.0\n",
       "42849   28559.0            4.7            4.9       382.0\n",
       "\n",
       "[189970 rows x 4 columns]"
      ]
     },
     "execution_count": 163,
     "metadata": {},
     "output_type": "execute_result"
    }
   ],
   "source": [
    "median_numeric_sample_vars"
   ]
  },
  {
   "cell_type": "markdown",
   "id": "957a6912-47e6-49cb-9c44-a842342705bc",
   "metadata": {},
   "source": [
    "Preenchendo valores faltantes de colunas numéricas com a **moda**"
   ]
  },
  {
   "cell_type": "code",
   "execution_count": 164,
   "id": "0ab8f609-d945-4cde-9311-e84084f8c1ea",
   "metadata": {},
   "outputs": [],
   "source": [
    "for col_name in mode_numeric_sample_vars:\n",
    "    mode = sample[col_name].mode()[0]\n",
    "    sample.loc[:, col_name] = sample[col_name].fillna(mode)"
   ]
  },
  {
   "cell_type": "markdown",
   "id": "124048b6-95c3-4655-a4e9-c8bd5eeb118f",
   "metadata": {},
   "source": [
    "Preenchendo valores faltantes de colunas numéricas com a **mediana**"
   ]
  },
  {
   "cell_type": "code",
   "execution_count": 165,
   "id": "374fe663-2aad-4527-b844-3b16170404e8",
   "metadata": {},
   "outputs": [],
   "source": [
    "for col_name in median_numeric_sample_vars:\n",
    "    median = sample[col_name].median()\n",
    "    sample.loc[:, col_name] = sample[col_name].fillna(median)"
   ]
  },
  {
   "cell_type": "markdown",
   "id": "782ef803-9ed8-487d-86a8-4edb292bba53",
   "metadata": {},
   "source": [
    "Nenhum registro nulo em nossa sample"
   ]
  },
  {
   "cell_type": "code",
   "execution_count": 166,
   "id": "75e5c950-8eb2-4663-af83-bacf713eb460",
   "metadata": {},
   "outputs": [
    {
     "data": {
      "text/plain": [
       "manufacturer           0\n",
       "model                  0\n",
       "year                   0\n",
       "mileage                0\n",
       "engine                 0\n",
       "transmission           0\n",
       "drivetrain             0\n",
       "fuel_type              0\n",
       "mpg                    0\n",
       "exterior_color         0\n",
       "interior_color         0\n",
       "accidents_or_damage    0\n",
       "one_owner              0\n",
       "personal_use_only      0\n",
       "seller_name            0\n",
       "seller_rating          0\n",
       "driver_rating          0\n",
       "driver_reviews_num     0\n",
       "price_drop             0\n",
       "price                  0\n",
       "dtype: int64"
      ]
     },
     "execution_count": 166,
     "metadata": {},
     "output_type": "execute_result"
    }
   ],
   "source": [
    "sample.isnull().sum()"
   ]
  },
  {
   "cell_type": "code",
   "execution_count": 167,
   "id": "a28ac3b8-c14a-495f-af1b-69568f3a1e42",
   "metadata": {
    "scrolled": true
   },
   "outputs": [
    {
     "data": {
      "text/html": [
       "<div>\n",
       "<style scoped>\n",
       "    .dataframe tbody tr th:only-of-type {\n",
       "        vertical-align: middle;\n",
       "    }\n",
       "\n",
       "    .dataframe tbody tr th {\n",
       "        vertical-align: top;\n",
       "    }\n",
       "\n",
       "    .dataframe thead th {\n",
       "        text-align: right;\n",
       "    }\n",
       "</style>\n",
       "<table border=\"1\" class=\"dataframe\">\n",
       "  <thead>\n",
       "    <tr style=\"text-align: right;\">\n",
       "      <th></th>\n",
       "      <th>manufacturer</th>\n",
       "      <th>model</th>\n",
       "      <th>year</th>\n",
       "      <th>mileage</th>\n",
       "      <th>engine</th>\n",
       "      <th>transmission</th>\n",
       "      <th>drivetrain</th>\n",
       "      <th>fuel_type</th>\n",
       "      <th>mpg</th>\n",
       "      <th>exterior_color</th>\n",
       "      <th>interior_color</th>\n",
       "      <th>accidents_or_damage</th>\n",
       "      <th>one_owner</th>\n",
       "      <th>personal_use_only</th>\n",
       "      <th>seller_name</th>\n",
       "      <th>seller_rating</th>\n",
       "      <th>driver_rating</th>\n",
       "      <th>driver_reviews_num</th>\n",
       "      <th>price_drop</th>\n",
       "      <th>price</th>\n",
       "    </tr>\n",
       "  </thead>\n",
       "  <tbody>\n",
       "    <tr>\n",
       "      <th>191809</th>\n",
       "      <td>Ford</td>\n",
       "      <td>Focus S</td>\n",
       "      <td>2018</td>\n",
       "      <td>94746.0</td>\n",
       "      <td>2.0L I4 16V GDI DOHC Flexible Fuel</td>\n",
       "      <td>6-Speed Automatic with Auto-Shift</td>\n",
       "      <td>Front-wheel Drive</td>\n",
       "      <td>E85 Flex Fuel</td>\n",
       "      <td>25-34</td>\n",
       "      <td>Shadow Black</td>\n",
       "      <td>Charcoal Black</td>\n",
       "      <td>0.0</td>\n",
       "      <td>1.0</td>\n",
       "      <td>1.0</td>\n",
       "      <td>Blasius Pre-Owned Auto</td>\n",
       "      <td>4.3</td>\n",
       "      <td>4.6</td>\n",
       "      <td>202.0</td>\n",
       "      <td>590.0</td>\n",
       "      <td>10994.0</td>\n",
       "    </tr>\n",
       "    <tr>\n",
       "      <th>488330</th>\n",
       "      <td>Lincoln</td>\n",
       "      <td>MKZ Base</td>\n",
       "      <td>2014</td>\n",
       "      <td>55710.0</td>\n",
       "      <td>2.0L I4 16V GDI DOHC Turbo</td>\n",
       "      <td>6-Speed Automatic</td>\n",
       "      <td>Front-wheel Drive</td>\n",
       "      <td>Gasoline</td>\n",
       "      <td>22-33</td>\n",
       "      <td>White Platinum Tri-Coat Metallic</td>\n",
       "      <td>Charcoal Black</td>\n",
       "      <td>0.0</td>\n",
       "      <td>0.0</td>\n",
       "      <td>1.0</td>\n",
       "      <td>Maxkar Motors</td>\n",
       "      <td>3.8</td>\n",
       "      <td>4.7</td>\n",
       "      <td>69.0</td>\n",
       "      <td>500.0</td>\n",
       "      <td>17498.0</td>\n",
       "    </tr>\n",
       "    <tr>\n",
       "      <th>713389</th>\n",
       "      <td>Toyota</td>\n",
       "      <td>RAV4 Hybrid Limited</td>\n",
       "      <td>2022</td>\n",
       "      <td>15022.0</td>\n",
       "      <td>2.5L</td>\n",
       "      <td>Continuously Variable Transmission</td>\n",
       "      <td>Not Informed</td>\n",
       "      <td>B</td>\n",
       "      <td>Not Informed</td>\n",
       "      <td>SILVER SKY METALLIC</td>\n",
       "      <td>EA20</td>\n",
       "      <td>0.0</td>\n",
       "      <td>1.0</td>\n",
       "      <td>1.0</td>\n",
       "      <td>Charlie's Toyota</td>\n",
       "      <td>4.5</td>\n",
       "      <td>4.8</td>\n",
       "      <td>13.0</td>\n",
       "      <td>644.0</td>\n",
       "      <td>42995.0</td>\n",
       "    </tr>\n",
       "    <tr>\n",
       "      <th>531766</th>\n",
       "      <td>Mercedes-Benz</td>\n",
       "      <td>C-Class C300 4MATIC</td>\n",
       "      <td>2014</td>\n",
       "      <td>78600.0</td>\n",
       "      <td>Premium Unleaded V-6 3.5 L/213</td>\n",
       "      <td>Automatic</td>\n",
       "      <td>All-wheel Drive</td>\n",
       "      <td>Gasoline</td>\n",
       "      <td>20-27</td>\n",
       "      <td>Black</td>\n",
       "      <td>Black</td>\n",
       "      <td>0.0</td>\n",
       "      <td>0.0</td>\n",
       "      <td>0.0</td>\n",
       "      <td>Mercedes-Benz of Lynnwood</td>\n",
       "      <td>4.4</td>\n",
       "      <td>4.7</td>\n",
       "      <td>100.0</td>\n",
       "      <td>505.0</td>\n",
       "      <td>17995.0</td>\n",
       "    </tr>\n",
       "    <tr>\n",
       "      <th>216502</th>\n",
       "      <td>Ford</td>\n",
       "      <td>F-250 Platinum</td>\n",
       "      <td>2017</td>\n",
       "      <td>70365.0</td>\n",
       "      <td>6.7L V8 32V DDI OHV Turbo Diesel</td>\n",
       "      <td>6-Speed Automatic</td>\n",
       "      <td>Four-wheel Drive</td>\n",
       "      <td>Diesel</td>\n",
       "      <td>Not Informed</td>\n",
       "      <td>Magnetic Metallic</td>\n",
       "      <td>Black</td>\n",
       "      <td>0.0</td>\n",
       "      <td>1.0</td>\n",
       "      <td>1.0</td>\n",
       "      <td>Grapevine Ford Lincoln</td>\n",
       "      <td>4.6</td>\n",
       "      <td>4.6</td>\n",
       "      <td>163.0</td>\n",
       "      <td>644.0</td>\n",
       "      <td>63999.0</td>\n",
       "    </tr>\n",
       "    <tr>\n",
       "      <th>...</th>\n",
       "      <td>...</td>\n",
       "      <td>...</td>\n",
       "      <td>...</td>\n",
       "      <td>...</td>\n",
       "      <td>...</td>\n",
       "      <td>...</td>\n",
       "      <td>...</td>\n",
       "      <td>...</td>\n",
       "      <td>...</td>\n",
       "      <td>...</td>\n",
       "      <td>...</td>\n",
       "      <td>...</td>\n",
       "      <td>...</td>\n",
       "      <td>...</td>\n",
       "      <td>...</td>\n",
       "      <td>...</td>\n",
       "      <td>...</td>\n",
       "      <td>...</td>\n",
       "      <td>...</td>\n",
       "      <td>...</td>\n",
       "    </tr>\n",
       "    <tr>\n",
       "      <th>489863</th>\n",
       "      <td>Lincoln</td>\n",
       "      <td>Corsair Standard</td>\n",
       "      <td>2021</td>\n",
       "      <td>22369.0</td>\n",
       "      <td>2.0L I4 16V GDI DOHC Turbo</td>\n",
       "      <td>8-Speed Automatic</td>\n",
       "      <td>All-wheel Drive</td>\n",
       "      <td>Gasoline</td>\n",
       "      <td>21-29</td>\n",
       "      <td>Burgundy Velvet</td>\n",
       "      <td>Sandstone</td>\n",
       "      <td>0.0</td>\n",
       "      <td>1.0</td>\n",
       "      <td>0.0</td>\n",
       "      <td>Zeck Ford</td>\n",
       "      <td>4.9</td>\n",
       "      <td>4.8</td>\n",
       "      <td>9.0</td>\n",
       "      <td>500.0</td>\n",
       "      <td>32000.0</td>\n",
       "    </tr>\n",
       "    <tr>\n",
       "      <th>513217</th>\n",
       "      <td>Mercedes-Benz</td>\n",
       "      <td>GLC 300 Base 4MATIC</td>\n",
       "      <td>2020</td>\n",
       "      <td>51915.0</td>\n",
       "      <td>2.0L I4 16V GDI DOHC Turbo</td>\n",
       "      <td>9-Speed Automatic</td>\n",
       "      <td>All-wheel Drive</td>\n",
       "      <td>Gasoline</td>\n",
       "      <td>21-28</td>\n",
       "      <td>Polar White</td>\n",
       "      <td>Black</td>\n",
       "      <td>0.0</td>\n",
       "      <td>1.0</td>\n",
       "      <td>1.0</td>\n",
       "      <td>Mercedes-Benz of Massapequa</td>\n",
       "      <td>4.8</td>\n",
       "      <td>4.8</td>\n",
       "      <td>36.0</td>\n",
       "      <td>644.0</td>\n",
       "      <td>32217.0</td>\n",
       "    </tr>\n",
       "    <tr>\n",
       "      <th>59014</th>\n",
       "      <td>BMW</td>\n",
       "      <td>X3</td>\n",
       "      <td>2021</td>\n",
       "      <td>41279.0</td>\n",
       "      <td>Not Informed</td>\n",
       "      <td>AUTOMATIC</td>\n",
       "      <td>Not Informed</td>\n",
       "      <td>Not Informed</td>\n",
       "      <td>Not Informed</td>\n",
       "      <td>Glacier Silver Metallic</td>\n",
       "      <td>Not Informed</td>\n",
       "      <td>0.0</td>\n",
       "      <td>0.0</td>\n",
       "      <td>0.0</td>\n",
       "      <td>BMW of Cincinnati North</td>\n",
       "      <td>4.5</td>\n",
       "      <td>4.7</td>\n",
       "      <td>29.0</td>\n",
       "      <td>644.0</td>\n",
       "      <td>40000.0</td>\n",
       "    </tr>\n",
       "    <tr>\n",
       "      <th>314423</th>\n",
       "      <td>Honda</td>\n",
       "      <td>HR-V LX</td>\n",
       "      <td>2021</td>\n",
       "      <td>16722.0</td>\n",
       "      <td>1.8L I4 16V MPFI SOHC</td>\n",
       "      <td>Automatic CVT</td>\n",
       "      <td>All-wheel Drive</td>\n",
       "      <td>Gasoline</td>\n",
       "      <td>27-31</td>\n",
       "      <td>Silver</td>\n",
       "      <td>Gray</td>\n",
       "      <td>1.0</td>\n",
       "      <td>1.0</td>\n",
       "      <td>1.0</td>\n",
       "      <td>West Herr Honda of Canandaigua</td>\n",
       "      <td>4.5</td>\n",
       "      <td>4.7</td>\n",
       "      <td>45.0</td>\n",
       "      <td>253.0</td>\n",
       "      <td>23892.0</td>\n",
       "    </tr>\n",
       "    <tr>\n",
       "      <th>42849</th>\n",
       "      <td>BMW</td>\n",
       "      <td>230 i</td>\n",
       "      <td>2020</td>\n",
       "      <td>28559.0</td>\n",
       "      <td>2.0L I4 16V GDI DOHC Turbo</td>\n",
       "      <td>8-Speed Automatic</td>\n",
       "      <td>Rear-wheel Drive</td>\n",
       "      <td>Gasoline</td>\n",
       "      <td>24-32</td>\n",
       "      <td>Jet Black</td>\n",
       "      <td>Oyster / Black</td>\n",
       "      <td>0.0</td>\n",
       "      <td>1.0</td>\n",
       "      <td>0.0</td>\n",
       "      <td>AutoLenders Toms River</td>\n",
       "      <td>4.7</td>\n",
       "      <td>4.9</td>\n",
       "      <td>5.0</td>\n",
       "      <td>382.0</td>\n",
       "      <td>30276.0</td>\n",
       "    </tr>\n",
       "  </tbody>\n",
       "</table>\n",
       "<p>189970 rows × 20 columns</p>\n",
       "</div>"
      ],
      "text/plain": [
       "         manufacturer                model  year  mileage  \\\n",
       "191809           Ford              Focus S  2018  94746.0   \n",
       "488330        Lincoln             MKZ Base  2014  55710.0   \n",
       "713389         Toyota  RAV4 Hybrid Limited  2022  15022.0   \n",
       "531766  Mercedes-Benz  C-Class C300 4MATIC  2014  78600.0   \n",
       "216502           Ford       F-250 Platinum  2017  70365.0   \n",
       "...               ...                  ...   ...      ...   \n",
       "489863        Lincoln     Corsair Standard  2021  22369.0   \n",
       "513217  Mercedes-Benz  GLC 300 Base 4MATIC  2020  51915.0   \n",
       "59014             BMW                   X3  2021  41279.0   \n",
       "314423          Honda              HR-V LX  2021  16722.0   \n",
       "42849             BMW                230 i  2020  28559.0   \n",
       "\n",
       "                                    engine  \\\n",
       "191809  2.0L I4 16V GDI DOHC Flexible Fuel   \n",
       "488330          2.0L I4 16V GDI DOHC Turbo   \n",
       "713389                                2.5L   \n",
       "531766      Premium Unleaded V-6 3.5 L/213   \n",
       "216502    6.7L V8 32V DDI OHV Turbo Diesel   \n",
       "...                                    ...   \n",
       "489863          2.0L I4 16V GDI DOHC Turbo   \n",
       "513217          2.0L I4 16V GDI DOHC Turbo   \n",
       "59014                         Not Informed   \n",
       "314423               1.8L I4 16V MPFI SOHC   \n",
       "42849           2.0L I4 16V GDI DOHC Turbo   \n",
       "\n",
       "                              transmission         drivetrain      fuel_type  \\\n",
       "191809   6-Speed Automatic with Auto-Shift  Front-wheel Drive  E85 Flex Fuel   \n",
       "488330                   6-Speed Automatic  Front-wheel Drive       Gasoline   \n",
       "713389  Continuously Variable Transmission       Not Informed              B   \n",
       "531766                           Automatic    All-wheel Drive       Gasoline   \n",
       "216502                   6-Speed Automatic   Four-wheel Drive         Diesel   \n",
       "...                                    ...                ...            ...   \n",
       "489863                   8-Speed Automatic    All-wheel Drive       Gasoline   \n",
       "513217                   9-Speed Automatic    All-wheel Drive       Gasoline   \n",
       "59014                            AUTOMATIC       Not Informed   Not Informed   \n",
       "314423                       Automatic CVT    All-wheel Drive       Gasoline   \n",
       "42849                    8-Speed Automatic   Rear-wheel Drive       Gasoline   \n",
       "\n",
       "                 mpg                    exterior_color  interior_color  \\\n",
       "191809         25-34                      Shadow Black  Charcoal Black   \n",
       "488330         22-33  White Platinum Tri-Coat Metallic  Charcoal Black   \n",
       "713389  Not Informed               SILVER SKY METALLIC            EA20   \n",
       "531766         20-27                             Black           Black   \n",
       "216502  Not Informed                 Magnetic Metallic           Black   \n",
       "...              ...                               ...             ...   \n",
       "489863         21-29                   Burgundy Velvet       Sandstone   \n",
       "513217         21-28                       Polar White           Black   \n",
       "59014   Not Informed           Glacier Silver Metallic    Not Informed   \n",
       "314423         27-31                            Silver            Gray   \n",
       "42849          24-32                         Jet Black  Oyster / Black   \n",
       "\n",
       "        accidents_or_damage  one_owner  personal_use_only  \\\n",
       "191809                  0.0        1.0                1.0   \n",
       "488330                  0.0        0.0                1.0   \n",
       "713389                  0.0        1.0                1.0   \n",
       "531766                  0.0        0.0                0.0   \n",
       "216502                  0.0        1.0                1.0   \n",
       "...                     ...        ...                ...   \n",
       "489863                  0.0        1.0                0.0   \n",
       "513217                  0.0        1.0                1.0   \n",
       "59014                   0.0        0.0                0.0   \n",
       "314423                  1.0        1.0                1.0   \n",
       "42849                   0.0        1.0                0.0   \n",
       "\n",
       "                           seller_name  seller_rating  driver_rating  \\\n",
       "191809          Blasius Pre-Owned Auto            4.3            4.6   \n",
       "488330                   Maxkar Motors            3.8            4.7   \n",
       "713389                Charlie's Toyota            4.5            4.8   \n",
       "531766       Mercedes-Benz of Lynnwood            4.4            4.7   \n",
       "216502          Grapevine Ford Lincoln            4.6            4.6   \n",
       "...                                ...            ...            ...   \n",
       "489863                       Zeck Ford            4.9            4.8   \n",
       "513217     Mercedes-Benz of Massapequa            4.8            4.8   \n",
       "59014          BMW of Cincinnati North            4.5            4.7   \n",
       "314423  West Herr Honda of Canandaigua            4.5            4.7   \n",
       "42849           AutoLenders Toms River            4.7            4.9   \n",
       "\n",
       "        driver_reviews_num  price_drop    price  \n",
       "191809               202.0       590.0  10994.0  \n",
       "488330                69.0       500.0  17498.0  \n",
       "713389                13.0       644.0  42995.0  \n",
       "531766               100.0       505.0  17995.0  \n",
       "216502               163.0       644.0  63999.0  \n",
       "...                    ...         ...      ...  \n",
       "489863                 9.0       500.0  32000.0  \n",
       "513217                36.0       644.0  32217.0  \n",
       "59014                 29.0       644.0  40000.0  \n",
       "314423                45.0       253.0  23892.0  \n",
       "42849                  5.0       382.0  30276.0  \n",
       "\n",
       "[189970 rows x 20 columns]"
      ]
     },
     "execution_count": 167,
     "metadata": {},
     "output_type": "execute_result"
    }
   ],
   "source": [
    "sample"
   ]
  },
  {
   "cell_type": "markdown",
   "id": "2f44003b-fb91-41ab-8e8b-def643bd9446",
   "metadata": {},
   "source": [
    "\n",
    "Para melhor entendimento do dataset, foram selecionadas algumas variáveis que proveram insights sobre as variáveis e possíveis limpezas/análises a se fazer"
   ]
  },
  {
   "cell_type": "markdown",
   "id": "ae1d789e-f46e-4ed9-b657-4a7bc50f1478",
   "metadata": {},
   "source": [
    "## Análise de variáveis"
   ]
  },
  {
   "cell_type": "markdown",
   "id": "3bb73c98-90ac-49b0-b015-f9170c4769c0",
   "metadata": {},
   "source": [
    "### Correlação de Pearson"
   ]
  },
  {
   "cell_type": "markdown",
   "id": "b353eb7e-cad1-43ce-b2a7-3e1cd21abade",
   "metadata": {},
   "source": [
    "Variáveis numéricas"
   ]
  },
  {
   "cell_type": "code",
   "execution_count": 168,
   "id": "31e1df94-7248-4f82-a010-14fda3074be4",
   "metadata": {},
   "outputs": [],
   "source": [
    "corr= sample[['price', 'year', 'mileage', 'personal_use_only', 'accidents_or_damage', 'one_owner', 'seller_rating', 'driver_rating', 'driver_reviews_num']].corr()"
   ]
  },
  {
   "cell_type": "code",
   "execution_count": 169,
   "id": "1bd02845-7927-4dc2-8c6a-1e85ae63b466",
   "metadata": {},
   "outputs": [
    {
     "data": {
      "image/png": "[encoded data removed]",
      "text/plain": [
       "<Figure size 1000x600 with 2 Axes>"
      ]
     },
     "metadata": {},
     "output_type": "display_data"
    }
   ],
   "source": [
    "plt.figure(figsize=(10,6))\n",
    "sns.heatmap(corr, annot=True);\n",
    "plt.title(\"Correlação de Pearson entre Variáveis Numéricas\")\n",
    "plt.show()"
   ]
  },
  {
   "cell_type": "markdown",
   "id": "0cee81ef-363f-4b5b-b429-598992af07bd",
   "metadata": {},
   "source": [
    "O heatmap evidencia que existem correlações **positivas** que estão classificadas em **muito fracas** e **fracas**<br>\n",
    "As correlações **negativas** se encontram em **fracas** e **moderadas**\n"
   ]
  },
  {
   "cell_type": "markdown",
   "id": "21f18f2f-a170-4bb2-85a5-2794ceadd833",
   "metadata": {},
   "source": [
    "### year"
   ]
  },
  {
   "cell_type": "code",
   "execution_count": 170,
   "id": "28702a55-0b4e-485e-8e47-8604294f50dc",
   "metadata": {},
   "outputs": [
    {
     "data": {
      "text/plain": [
       "year\n",
       "2020    33498\n",
       "2021    27138\n",
       "2019    26347\n",
       "2022    20036\n",
       "2018    15729\n",
       "        ...  \n",
       "1948        1\n",
       "1917        1\n",
       "1937        1\n",
       "1951        1\n",
       "1946        1\n",
       "Name: count, Length: 93, dtype: int64"
      ]
     },
     "execution_count": 170,
     "metadata": {},
     "output_type": "execute_result"
    }
   ],
   "source": [
    "sample['year'].value_counts()"
   ]
  },
  {
   "cell_type": "code",
   "execution_count": 171,
   "id": "4bae8cd6-a804-471e-a4b2-f70cee8ee01b",
   "metadata": {},
   "outputs": [
    {
     "data": {
      "text/plain": [
       "np.int64(1915)"
      ]
     },
     "execution_count": 171,
     "metadata": {},
     "output_type": "execute_result"
    }
   ],
   "source": [
    "sample['year'].min()"
   ]
  },
  {
   "cell_type": "markdown",
   "id": "6ac03f54-ef5b-4dfd-ade0-36dc5bed4448",
   "metadata": {},
   "source": [
    "Não faz sentido ter um carro do ano de **1915** no dataset."
   ]
  },
  {
   "cell_type": "code",
   "execution_count": 172,
   "id": "e3e6938c-fcd7-44d3-b9d6-269616a50ac6",
   "metadata": {},
   "outputs": [
    {
     "data": {
      "text/plain": [
       "np.int64(2023)"
      ]
     },
     "execution_count": 172,
     "metadata": {},
     "output_type": "execute_result"
    }
   ],
   "source": [
    "sample['year'].max()"
   ]
  },
  {
   "cell_type": "code",
   "execution_count": 173,
   "id": "96d9f666-d8e1-49d0-9a81-6a2a9f9741a8",
   "metadata": {},
   "outputs": [
    {
     "data": {
      "image/png": "[encoded data removed]",
      "text/plain": [
       "<Figure size 1000x600 with 1 Axes>"
      ]
     },
     "metadata": {},
     "output_type": "display_data"
    }
   ],
   "source": [
    "plt.figure(figsize=(10, 6))\n",
    "sns.histplot(sample['year'], bins=60, kde=False, color='blue')\n",
    "plt.title('Distribuição dos Anos de Fabricação')\n",
    "plt.xlabel('Ano')\n",
    "plt.ylabel('Frequência')\n",
    "plt.grid(visible=True, linestyle=\"--\", alpha=0.7)\n",
    "plt.show()"
   ]
  },
  {
   "cell_type": "markdown",
   "id": "d64275c7-71c2-43db-ba80-34fa72886812",
   "metadata": {},
   "source": [
    "Talvez seja interessante limitar o ano de fabricação de **2000 até 2023**"
   ]
  },
  {
   "cell_type": "code",
   "execution_count": 174,
   "id": "d074c339-0c75-40d0-b3e0-ee3891b4440e",
   "metadata": {},
   "outputs": [],
   "source": [
    "sample = sample[(sample['year'] >= 2000) & (sample['year'] <= 2023)]"
   ]
  },
  {
   "cell_type": "code",
   "execution_count": 175,
   "id": "109fa444-8f51-4585-86c1-a22f337ba89c",
   "metadata": {},
   "outputs": [
    {
     "data": {
      "text/plain": [
       "(188466, 20)"
      ]
     },
     "execution_count": 175,
     "metadata": {},
     "output_type": "execute_result"
    }
   ],
   "source": [
    "sample.shape"
   ]
  },
  {
   "cell_type": "code",
   "execution_count": 176,
   "id": "0b0d67ad-9a8f-4e5a-b2cd-15ad807b0a66",
   "metadata": {},
   "outputs": [
    {
     "data": {
      "image/png": "[encoded data removed]",
      "text/plain": [
       "<Figure size 1000x600 with 1 Axes>"
      ]
     },
     "metadata": {},
     "output_type": "display_data"
    }
   ],
   "source": [
    "plt.figure(figsize=(10, 6))\n",
    "sns.histplot(sample['year'], bins=20, kde=True, color='blue')\n",
    "plt.title('Distribuição dos Anos de Fabricação')\n",
    "plt.xlabel('Ano')\n",
    "plt.ylabel('Frequência')\n",
    "plt.grid(visible=True, linestyle=\"--\", alpha=0.7)\n",
    "plt.show()"
   ]
  },
  {
   "cell_type": "markdown",
   "id": "5fccff79-d1f6-4e0f-ac78-98283baad5e6",
   "metadata": {},
   "source": [
    "O tratamento da variável *year* de forma manual permitiu a remoção de registros discrepantes que não acrescentariam na análise, além de evidenciar o **alto pico na distribuição no ano de 2020**, o que indica muitos carros foram fabricados nesse ano."
   ]
  },
  {
   "cell_type": "markdown",
   "id": "b84858e6-ecef-40eb-9f33-8e132f28a2ff",
   "metadata": {},
   "source": [
    "### price"
   ]
  },
  {
   "cell_type": "markdown",
   "id": "9179c940-c760-4053-9a63-55729ac3ec6f",
   "metadata": {},
   "source": [
    "É possível perceber que o **desvio padrão** está muito alto em relação à **média**, então a coluna *price* deve possuir **muitos outliers**"
   ]
  },
  {
   "cell_type": "code",
   "execution_count": 177,
   "id": "52a7cea9-c45b-46f5-86d1-ab7db4f52737",
   "metadata": {},
   "outputs": [
    {
     "data": {
      "text/plain": [
       "count    1.884660e+05\n",
       "mean     3.781306e+04\n",
       "std      2.303519e+06\n",
       "min      1.000000e+00\n",
       "25%      1.967500e+04\n",
       "50%      2.799000e+04\n",
       "75%      3.943700e+04\n",
       "max      1.000000e+09\n",
       "Name: price, dtype: float64"
      ]
     },
     "execution_count": 177,
     "metadata": {},
     "output_type": "execute_result"
    }
   ],
   "source": [
    "sample['price'].describe()"
   ]
  },
  {
   "cell_type": "markdown",
   "id": "d213a381-f928-4bf2-9722-d03c54614d3e",
   "metadata": {},
   "source": [
    "#### Método IQR\n",
    "\n",
    "Este método tem como objetivo representar a amplitude do conjunto de dados de **forma central** por meio da distância entre o primeiro quartil(separa os 25% menores valores do restante dos dados) e o terceiro quartil(separa os 25% maiores valores do restante dos dados)."
   ]
  },
  {
   "cell_type": "code",
   "execution_count": 179,
   "id": "c4e6c46b-7cd8-4aab-a8aa-6aba71de0848",
   "metadata": {},
   "outputs": [
    {
     "data": {
      "text/plain": [
       "(188466, 20)"
      ]
     },
     "execution_count": 179,
     "metadata": {},
     "output_type": "execute_result"
    }
   ],
   "source": [
    "sample.shape"
   ]
  },
  {
   "cell_type": "code",
   "execution_count": 178,
   "id": "9a080fd4-2593-48e2-863b-b4e60ad47f29",
   "metadata": {},
   "outputs": [
    {
     "data": {
      "text/html": [
       "<div>\n",
       "<style scoped>\n",
       "    .dataframe tbody tr th:only-of-type {\n",
       "        vertical-align: middle;\n",
       "    }\n",
       "\n",
       "    .dataframe tbody tr th {\n",
       "        vertical-align: top;\n",
       "    }\n",
       "\n",
       "    .dataframe thead th {\n",
       "        text-align: right;\n",
       "    }\n",
       "</style>\n",
       "<table border=\"1\" class=\"dataframe\">\n",
       "  <thead>\n",
       "    <tr style=\"text-align: right;\">\n",
       "      <th></th>\n",
       "      <th>year</th>\n",
       "      <th>mileage</th>\n",
       "      <th>accidents_or_damage</th>\n",
       "      <th>one_owner</th>\n",
       "      <th>personal_use_only</th>\n",
       "      <th>seller_rating</th>\n",
       "      <th>driver_rating</th>\n",
       "      <th>driver_reviews_num</th>\n",
       "      <th>price_drop</th>\n",
       "      <th>price</th>\n",
       "    </tr>\n",
       "  </thead>\n",
       "  <tbody>\n",
       "    <tr>\n",
       "      <th>count</th>\n",
       "      <td>188466.000000</td>\n",
       "      <td>1.884660e+05</td>\n",
       "      <td>188466.00000</td>\n",
       "      <td>188466.000000</td>\n",
       "      <td>188466.000000</td>\n",
       "      <td>188466.000000</td>\n",
       "      <td>188466.000000</td>\n",
       "      <td>188466.000000</td>\n",
       "      <td>188466.000000</td>\n",
       "      <td>1.884660e+05</td>\n",
       "    </tr>\n",
       "    <tr>\n",
       "      <th>mean</th>\n",
       "      <td>2018.067705</td>\n",
       "      <td>5.555846e+04</td>\n",
       "      <td>0.22222</td>\n",
       "      <td>0.582890</td>\n",
       "      <td>0.666476</td>\n",
       "      <td>4.254026</td>\n",
       "      <td>4.627717</td>\n",
       "      <td>90.273004</td>\n",
       "      <td>837.274113</td>\n",
       "      <td>3.781306e+04</td>\n",
       "    </tr>\n",
       "    <tr>\n",
       "      <th>std</th>\n",
       "      <td>3.818919</td>\n",
       "      <td>4.322693e+04</td>\n",
       "      <td>0.41574</td>\n",
       "      <td>0.493083</td>\n",
       "      <td>0.471473</td>\n",
       "      <td>0.701367</td>\n",
       "      <td>0.269512</td>\n",
       "      <td>115.298449</td>\n",
       "      <td>976.629237</td>\n",
       "      <td>2.303519e+06</td>\n",
       "    </tr>\n",
       "    <tr>\n",
       "      <th>min</th>\n",
       "      <td>2000.000000</td>\n",
       "      <td>0.000000e+00</td>\n",
       "      <td>0.00000</td>\n",
       "      <td>0.000000</td>\n",
       "      <td>0.000000</td>\n",
       "      <td>1.000000</td>\n",
       "      <td>1.000000</td>\n",
       "      <td>0.000000</td>\n",
       "      <td>100.000000</td>\n",
       "      <td>1.000000e+00</td>\n",
       "    </tr>\n",
       "    <tr>\n",
       "      <th>25%</th>\n",
       "      <td>2016.000000</td>\n",
       "      <td>2.325425e+04</td>\n",
       "      <td>0.00000</td>\n",
       "      <td>0.000000</td>\n",
       "      <td>0.000000</td>\n",
       "      <td>4.100000</td>\n",
       "      <td>4.500000</td>\n",
       "      <td>14.000000</td>\n",
       "      <td>571.250000</td>\n",
       "      <td>1.967500e+04</td>\n",
       "    </tr>\n",
       "    <tr>\n",
       "      <th>50%</th>\n",
       "      <td>2019.000000</td>\n",
       "      <td>4.552150e+04</td>\n",
       "      <td>0.00000</td>\n",
       "      <td>1.000000</td>\n",
       "      <td>1.000000</td>\n",
       "      <td>4.500000</td>\n",
       "      <td>4.700000</td>\n",
       "      <td>51.000000</td>\n",
       "      <td>644.000000</td>\n",
       "      <td>2.799000e+04</td>\n",
       "    </tr>\n",
       "    <tr>\n",
       "      <th>75%</th>\n",
       "      <td>2021.000000</td>\n",
       "      <td>7.800000e+04</td>\n",
       "      <td>0.00000</td>\n",
       "      <td>1.000000</td>\n",
       "      <td>1.000000</td>\n",
       "      <td>4.600000</td>\n",
       "      <td>4.800000</td>\n",
       "      <td>120.000000</td>\n",
       "      <td>750.000000</td>\n",
       "      <td>3.943700e+04</td>\n",
       "    </tr>\n",
       "    <tr>\n",
       "      <th>max</th>\n",
       "      <td>2023.000000</td>\n",
       "      <td>1.119067e+06</td>\n",
       "      <td>1.00000</td>\n",
       "      <td>1.000000</td>\n",
       "      <td>1.000000</td>\n",
       "      <td>5.000000</td>\n",
       "      <td>5.000000</td>\n",
       "      <td>1025.000000</td>\n",
       "      <td>50004.000000</td>\n",
       "      <td>1.000000e+09</td>\n",
       "    </tr>\n",
       "  </tbody>\n",
       "</table>\n",
       "</div>"
      ],
      "text/plain": [
       "                year       mileage  accidents_or_damage      one_owner  \\\n",
       "count  188466.000000  1.884660e+05         188466.00000  188466.000000   \n",
       "mean     2018.067705  5.555846e+04              0.22222       0.582890   \n",
       "std         3.818919  4.322693e+04              0.41574       0.493083   \n",
       "min      2000.000000  0.000000e+00              0.00000       0.000000   \n",
       "25%      2016.000000  2.325425e+04              0.00000       0.000000   \n",
       "50%      2019.000000  4.552150e+04              0.00000       1.000000   \n",
       "75%      2021.000000  7.800000e+04              0.00000       1.000000   \n",
       "max      2023.000000  1.119067e+06              1.00000       1.000000   \n",
       "\n",
       "       personal_use_only  seller_rating  driver_rating  driver_reviews_num  \\\n",
       "count      188466.000000  188466.000000  188466.000000       188466.000000   \n",
       "mean            0.666476       4.254026       4.627717           90.273004   \n",
       "std             0.471473       0.701367       0.269512          115.298449   \n",
       "min             0.000000       1.000000       1.000000            0.000000   \n",
       "25%             0.000000       4.100000       4.500000           14.000000   \n",
       "50%             1.000000       4.500000       4.700000           51.000000   \n",
       "75%             1.000000       4.600000       4.800000          120.000000   \n",
       "max             1.000000       5.000000       5.000000         1025.000000   \n",
       "\n",
       "          price_drop         price  \n",
       "count  188466.000000  1.884660e+05  \n",
       "mean      837.274113  3.781306e+04  \n",
       "std       976.629237  2.303519e+06  \n",
       "min       100.000000  1.000000e+00  \n",
       "25%       571.250000  1.967500e+04  \n",
       "50%       644.000000  2.799000e+04  \n",
       "75%       750.000000  3.943700e+04  \n",
       "max     50004.000000  1.000000e+09  "
      ]
     },
     "execution_count": 178,
     "metadata": {},
     "output_type": "execute_result"
    }
   ],
   "source": [
    "sample.describe()"
   ]
  },
  {
   "cell_type": "markdown",
   "id": "26f7a31e-6795-4b05-80a7-12d952969496",
   "metadata": {},
   "source": [
    "É possível observar extremos muito grandes, por exemplo:<br>\n",
    "min = 1.0<br>\n",
    "max = 1000000000.0"
   ]
  },
  {
   "cell_type": "code",
   "execution_count": 182,
   "id": "c103bc4d-6480-4744-bb4d-74109ecb2ccf",
   "metadata": {},
   "outputs": [
    {
     "data": {
      "text/plain": [
       "(np.float64(1.0), np.float64(1000000000.0))"
      ]
     },
     "execution_count": 182,
     "metadata": {},
     "output_type": "execute_result"
    }
   ],
   "source": [
    "sample['price'].min(), sample['price'].max()"
   ]
  },
  {
   "cell_type": "code",
   "execution_count": 203,
   "id": "1cf381cb-1955-4426-96a5-e5364c78f0ea",
   "metadata": {},
   "outputs": [
    {
     "name": "stdout",
     "output_type": "stream",
     "text": [
      "1ª Quartil:  19675.0\n",
      "3º Quartil:  39437.0\n"
     ]
    }
   ],
   "source": [
    "Q1_price = sample['price'].quantile(0.25)\n",
    "Q3_price = sample['price'].quantile(0.75)\n",
    "\n",
    "print(\"1ª Quartil: \", Q1_price)\n",
    "print(\"3º Quartil: \", Q3_price)"
   ]
  },
  {
   "cell_type": "code",
   "execution_count": 184,
   "id": "15602c4e-d95a-4013-8b7b-6c326d450aa2",
   "metadata": {},
   "outputs": [
    {
     "name": "stdout",
     "output_type": "stream",
     "text": [
      "IQR de price:  19762.0\n"
     ]
    }
   ],
   "source": [
    "IQR_price = Q3_price - Q1_price\n",
    "\n",
    "print(\"IQR de price: \", IQR_price)"
   ]
  },
  {
   "cell_type": "markdown",
   "id": "d7963b78-1fea-4b2f-ab19-20df6d4fa0b2",
   "metadata": {},
   "source": [
    "Os valores são considerados outliers se estiverem fora desse intervalo(limites):\n",
    "\n",
    "Para **outliers inferiores**: Q1 − 1.5 * IQR<br>\n",
    "Para **outliers superiores**: Q3 + 1.5 * IQR"
   ]
  },
  {
   "cell_type": "code",
   "execution_count": 204,
   "id": "f191914a-41b4-4e63-8148-e4e8c49b37b9",
   "metadata": {},
   "outputs": [
    {
     "name": "stdout",
     "output_type": "stream",
     "text": [
      "Limite inferior:  -9968.0\n",
      "Limite superior:  69080.0\n"
     ]
    }
   ],
   "source": [
    "lower_limit = Q1_price - (1.5 * IQR_price)\n",
    "higher_limit = Q3_price + (1.5 * IQR_price)\n",
    "\n",
    "print(\"Limite inferior: \", lower_limit)\n",
    "print(\"Limite superior: \", higher_limit)"
   ]
  },
  {
   "cell_type": "code",
   "execution_count": 209,
   "id": "0598ecc2-5da6-4848-9b98-513dff05ec0a",
   "metadata": {},
   "outputs": [],
   "source": [
    "price_outliers = sample[(sample['price'] < lower_limit) | (sample['price'] > higher_limit)]"
   ]
  },
  {
   "cell_type": "code",
   "execution_count": 210,
   "id": "19c4d7b6-1718-4572-945f-a6e1edf7ef80",
   "metadata": {
    "scrolled": true
   },
   "outputs": [
    {
     "name": "stdout",
     "output_type": "stream",
     "text": [
      "Valores outliers: [69100.0, 69111.0, 69112.0, 69115.0, 69125.0, 69140.0, 69173.0, 69184.0, 69190.0, 69190.0, 69190.0, 69191.0, 69200.0, 69206.0, 69206.0, 69206.0, 69210.0, 69215.0, 69233.0, 69256.0, 69259.0, 69280.0, 69280.0, 69287.0, 69290.0, 69291.0, 69307.0, 69308.0, 69323.0, 69366.0, 69370.0, 69371.0, 69376.0, 69376.0, 69383.0, 69383.0, 69385.0, 69390.0, 69393.0, 69400.0, 69400.0, 69410.0, 69420.0, 69421.0, 69434.0, 69435.0, 69436.0, 69437.0, 69446.0, 69451.0, 69457.0, 69462.0, 69477.0, 69478.0, 69481.0, 69490.0, 69492.0, 69493.0, 69494.0, 69495.0, 69495.0, 69495.0, 69495.0, 69495.0, 69495.0, 69496.0, 69497.0, 69498.0, 69499.0, 69500.0, 69500.0, 69500.0, 69500.0, 69500.0, 69500.0, 69500.0, 69500.0, 69500.0, 69500.0, 69500.0, 69500.0, 69500.0, 69500.0, 69500.0, 69500.0, 69500.0, 69500.0, 69500.0, 69500.0, 69500.0, 69511.0, 69518.0, 69520.0, 69521.0, 69523.0, 69533.0, 69534.0, 69545.0, 69550.0, 69555.0, 69557.0, 69571.0, 69573.0, 69575.0, 69577.0, 69580.0, 69581.0, 69586.0, 69588.0, 69588.0, 69590.0, 69593.0, 69595.0, 69595.0, 69598.0, 69599.0, 69599.0, 69599.0, 69599.0, 69599.0, 69600.0, 69604.0, 69615.0, 69625.0, 69640.0, 69640.0, 69646.0, 69653.0, 69669.0, 69677.0, 69680.0, 69685.0, 69687.0, 69688.0, 69688.0, 69690.0, 69690.0, 69692.0, 69694.0, 69695.0, 69698.0, 69698.0, 69699.0, 69699.0, 69699.0, 69703.0, 69705.0, 69712.0, 69713.0, 69720.0, 69747.0, 69750.0, 69754.0, 69758.0, 69769.0, 69770.0, 69775.0, 69777.0, 69777.0, 69777.0, 69777.0, 69783.0, 69788.0, 69788.0, 69788.0, 69790.0, 69795.0, 69795.0, 69795.0, 69798.0, 69798.0, 69800.0, 69800.0, 69800.0, 69800.0, 69800.0, 69800.0, 69805.0, 69806.0, 69808.0, 69820.0, 69831.0, 69832.0, 69839.0, 69840.0, 69840.0, 69850.0, 69850.0, 69851.0, 69856.0, 69858.0, 69868.0, 69870.0, 69870.0, 69873.0, 69875.0, 69875.0, 69875.0, 69881.0, 69882.0, 69883.0, 69884.0, 69884.0, 69888.0, 69888.0, 69888.0, 69888.0, 69888.0, 69888.0, 69889.0, 69889.0, 69889.0, 69890.0, 69890.0, 69890.0, 69890.0, 69892.0, 69894.0, 69894.0, 69895.0, 69895.0, 69897.0, 69898.0, 69899.0, 69899.0, 69899.0, 69899.0, 69899.0, 69899.0, 69899.0, 69900.0, 69900.0, 69900.0, 69900.0, 69900.0, 69900.0, 69900.0, 69900.0, 69900.0, 69900.0, 69900.0, 69900.0, 69900.0, 69900.0, 69900.0, 69900.0, 69900.0, 69900.0, 69900.0, 69900.0, 69900.0, 69900.0, 69900.0, 69900.0, 69900.0, 69900.0, 69900.0, 69900.0, 69900.0, 69900.0, 69900.0, 69900.0, 69900.0, 69900.0, 69900.0, 69900.0, 69900.0, 69900.0, 69900.0, 69900.0, 69900.0, 69900.0, 69900.0, 69900.0, 69900.0, 69900.0, 69900.0, 69900.0, 69901.0, 69902.0, 69904.0, 69904.0, 69904.0, 69910.0, 69910.0, 69911.0, 69911.0, 69916.0, 69919.0, 69924.0, 69925.0, 69928.0, 69932.0, 69933.0, 69933.0, 69937.0, 69940.0, 69940.0, 69944.0, 69947.0, 69949.0, 69950.0, 69950.0, 69950.0, 69950.0, 69950.0, 69950.0, 69950.0, 69950.0, 69950.0, 69950.0, 69950.0, 69950.0, 69950.0, 69950.0, 69951.0, 69951.0, 69952.0, 69953.0, 69957.0, 69959.0, 69959.0, 69959.0, 69961.0, 69969.0, 69969.0, 69969.0, 69970.0, 69970.0, 69970.0, 69970.0, 69974.0, 69975.0, 69975.0, 69977.0, 69977.0, 69977.0, 69977.0, 69979.0, 69980.0, 69980.0, 69980.0, 69981.0, 69981.0, 69981.0, 69981.0, 69981.0, 69981.0, 69981.0, 69981.0, 69983.0, 69984.0, 69984.0, 69984.0, 69985.0, 69985.0, 69985.0, 69985.0, 69985.0, 69985.0, 69985.0, 69986.0, 69987.0, 69987.0, 69987.0, 69987.0, 69988.0, 69988.0, 69988.0, 69988.0, 69988.0, 69988.0, 69988.0, 69988.0, 69988.0, 69988.0, 69988.0, 69988.0, 69988.0, 69988.0, 69988.0, 69988.0, 69988.0, 69988.0, 69988.0, 69988.0, 69988.0, 69988.0, 69988.0, 69989.0, 69989.0, 69989.0, 69989.0, 69989.0, 69989.0, 69989.0, 69990.0, 69990.0, 69990.0, 69990.0, 69990.0, 69990.0, 69990.0, 69990.0, 69990.0, 69990.0, 69990.0, 69990.0, 69990.0, 69990.0, 69990.0, 69990.0, 69990.0, 69990.0, 69990.0, 69990.0, 69990.0, 69990.0, 69990.0, 69990.0, 69990.0, 69990.0, 69990.0, 69990.0, 69990.0, 69990.0, 69990.0, 69990.0, 69990.0, 69990.0, 69990.0, 69990.0, 69990.0, 69990.0, 69990.0, 69990.0, 69990.0, 69990.0, 69990.0, 69990.0, 69990.0, 69990.0, 69991.0, 69991.0, 69991.0, 69991.0, 69991.0, 69991.0, 69991.0, 69991.0, 69991.0, 69991.0, 69991.0, 69991.0, 69991.0, 69991.0, 69991.0, 69991.0, 69991.0, 69991.0, 69993.0, 69993.0, 69994.0, 69994.0, 69994.0, 69995.0, 69995.0, 69995.0, 69995.0, 69995.0, 69995.0, 69995.0, 69995.0, 69995.0, 69995.0, 69995.0, 69995.0, 69995.0, 69995.0, 69995.0, 69995.0, 69995.0, 69995.0, 69995.0, 69995.0, 69995.0, 69995.0, 69995.0, 69995.0, 69995.0, 69995.0, 69995.0, 69995.0, 69995.0, 69995.0, 69995.0, 69995.0, 69995.0, 69995.0, 69995.0, 69995.0, 69995.0, 69995.0, 69995.0, 69995.0, 69995.0, 69995.0, 69995.0, 69995.0, 69995.0, 69995.0, 69995.0, 69995.0, 69995.0, 69995.0, 69995.0, 69995.0, 69995.0, 69995.0, 69995.0, 69995.0, 69995.0, 69995.0, 69995.0, 69995.0, 69995.0, 69995.0, 69995.0, 69995.0, 69995.0, 69995.0, 69995.0, 69995.0, 69995.0, 69995.0, 69995.0, 69995.0, 69995.0, 69995.0, 69995.0, 69995.0, 69995.0, 69995.0, 69995.0, 69995.0, 69995.0, 69995.0, 69995.0, 69995.0, 69995.0, 69995.0, 69995.0, 69995.0, 69995.0, 69995.0, 69995.0, 69995.0, 69995.0, 69996.0, 69996.0, 69996.0, 69996.0, 69996.0, 69996.0, 69997.0, 69997.0, 69997.0, 69997.0, 69997.0, 69997.0, 69997.0, 69997.0, 69997.0, 69997.0, 69997.0, 69997.0, 69997.0, 69997.0, 69997.0, 69998.0, 69998.0, 69998.0, 69998.0, 69998.0, 69998.0, 69998.0, 69998.0, 69998.0, 69998.0, 69998.0, 69998.0, 69998.0, 69998.0, 69998.0, 69998.0, 69998.0, 69998.0, 69998.0, 69998.0, 69998.0, 69998.0, 69998.0, 69998.0, 69998.0, 69998.0, 69998.0, 69999.0, 69999.0, 69999.0, 69999.0, 69999.0, 69999.0, 69999.0, 69999.0, 69999.0, 69999.0, 69999.0, 69999.0, 69999.0, 69999.0, 69999.0, 69999.0, 69999.0, 69999.0, 69999.0, 69999.0, 69999.0, 69999.0, 69999.0, 69999.0, 69999.0, 69999.0, 69999.0, 69999.0, 69999.0, 69999.0, 69999.0, 69999.0, 69999.0, 69999.0, 69999.0, 69999.0, 69999.0, 69999.0, 69999.0, 69999.0, 69999.0, 69999.0, 69999.0, 69999.0, 69999.0, 69999.0, 69999.0, 69999.0, 69999.0, 69999.0, 69999.0, 69999.0, 69999.0, 70000.0, 70000.0, 70000.0, 70000.0, 70000.0, 70000.0, 70000.0, 70000.0, 70000.0, 70000.0, 70000.0, 70000.0, 70000.0, 70000.0, 70000.0, 70000.0, 70000.0, 70000.0, 70000.0, 70000.0, 70000.0, 70000.0, 70000.0, 70000.0, 70000.0, 70000.0, 70000.0, 70002.0, 70005.0, 70020.0, 70030.0, 70070.0, 70070.0, 70095.0, 70109.0, 70175.0, 70177.0, 70190.0, 70199.0, 70207.0, 70209.0, 70220.0, 70228.0, 70240.0, 70252.0, 70270.0, 70282.0, 70335.0, 70435.0, 70472.0, 70479.0, 70480.0, 70480.0, 70488.0, 70488.0, 70490.0, 70491.0, 70495.0, 70495.0, 70497.0, 70498.0, 70499.0, 70499.0, 70499.0, 70499.0, 70499.0, 70499.0, 70500.0, 70500.0, 70500.0, 70500.0, 70500.0, 70500.0, 70500.0, 70505.0, 70525.0, 70527.0, 70550.0, 70559.0, 70562.0, 70570.0, 70580.0, 70582.0, 70589.0, 70595.0, 70598.0, 70599.0, 70599.0, 70605.0, 70623.0, 70631.0, 70669.0, 70677.0, 70688.0, 70690.0, 70691.0, 70692.0, 70699.0, 70700.0, 70700.0, 70700.0, 70720.0, 70720.0, 70744.0, 70747.0, 70766.0, 70777.0, 70777.0, 70777.0, 70785.0, 70795.0, 70798.0, 70800.0, 70800.0, 70800.0, 70800.0, 70800.0, 70800.0, 70827.0, 70830.0, 70833.0, 70842.0, 70855.0, 70877.0, 70879.0, 70879.0, 70881.0, 70886.0, 70888.0, 70888.0, 70888.0, 70895.0, 70895.0, 70895.0, 70897.0, 70898.0, 70899.0, 70900.0, 70900.0, 70900.0, 70900.0, 70900.0, 70900.0, 70900.0, 70900.0, 70900.0, 70900.0, 70900.0, 70903.0, 70928.0, 70930.0, 70943.0, 70945.0, 70950.0, 70950.0, 70950.0, 70950.0, 70950.0, 70956.0, 70970.0, 70970.0, 70970.0, 70977.0, 70980.0, 70980.0, 70980.0, 70982.0, 70985.0, 70987.0, 70987.0, 70987.0, 70988.0, 70988.0, 70988.0, 70988.0, 70989.0, 70989.0, 70989.0, 70989.0, 70989.0, 70990.0, 70990.0, 70990.0, 70990.0, 70990.0, 70990.0, 70990.0, 70991.0, 70991.0, 70992.0, 70992.0, 70992.0, 70992.0, 70993.0, 70995.0, 70995.0, 70995.0, 70995.0, 70995.0, 70995.0, 70995.0, 70995.0, 70995.0, 70995.0, 70995.0, 70995.0, 70995.0, 70995.0, 70995.0, 70995.0, 70995.0, 70995.0, 70995.0, 70995.0, 70995.0, 70995.0, 70995.0, 70995.0, 70997.0, 70998.0, 70998.0, 70998.0, 70998.0, 70998.0, 70998.0, 70998.0, 70998.0, 70999.0, 70999.0, 70999.0, 70999.0, 70999.0, 70999.0, 70999.0, 70999.0, 70999.0, 70999.0, 70999.0, 70999.0, 71000.0, 71000.0, 71000.0, 71000.0, 71000.0, 71000.0, 71000.0, 71000.0, 71000.0, 71000.0, 71000.0, 71000.0, 71000.0, 71001.0, 71057.0, 71073.0, 71084.0, 71092.0, 71111.0, 71113.0, 71124.0, 71125.0, 71142.0, 71154.0, 71170.0, 71175.0, 71179.0, 71183.0, 71195.0, 71200.0, 71200.0, 71206.0, 71220.0, 71226.0, 71231.0, 71240.0, 71250.0, 71250.0, 71259.0, 71271.0, 71274.0, 71274.0, 71290.0, 71298.0, 71299.0, 71299.0, 71299.0, 71312.0, 71315.0, 71336.0, 71337.0, 71350.0, 71380.0, 71383.0, 71398.0, 71400.0, 71417.0, 71420.0, 71420.0, 71428.0, 71460.0, 71460.0, 71470.0, 71471.0, 71473.0, 71475.0, 71477.0, 71480.0, 71488.0, 71488.0, 71488.0, 71488.0, 71490.0, 71491.0, 71493.0, 71494.0, 71494.0, 71495.0, 71495.0, 71495.0, 71495.0, 71495.0, 71496.0, 71497.0, 71499.0, 71499.0, 71499.0, 71500.0, 71500.0, 71500.0, 71500.0, 71500.0, 71500.0, 71500.0, 71500.0, 71500.0, 71500.0, 71500.0, 71500.0, 71505.0, 71533.0, 71542.0, 71550.0, 71564.0, 71591.0, 71595.0, 71597.0, 71614.0, 71648.0, 71690.0, 71690.0, 71694.0, 71695.0, 71697.0, 71699.0, 71700.0, 71704.0, 71722.0, 71726.0, 71733.0, 71749.0, 71750.0, 71751.0, 71751.0, 71752.0, 71769.0, 71770.0, 71775.0, 71777.0, 71777.0, 71780.0, 71798.0, 71799.0, 71799.0, 71800.0, 71800.0, 71806.0, 71815.0, 71822.0, 71823.0, 71823.0, 71830.0, 71843.0, 71846.0, 71862.0, 71865.0, 71870.0, 71873.0, 71876.0, 71876.0, 71880.0, 71880.0, 71885.0, 71885.0, 71887.0, 71888.0, 71890.0, 71890.0, 71897.0, 71899.0, 71900.0, 71900.0, 71900.0, 71900.0, 71900.0, 71900.0, 71900.0, 71900.0, 71900.0, 71900.0, 71900.0, 71900.0, 71900.0, 71900.0, 71900.0, 71900.0, 71900.0, 71901.0, 71919.0, 71926.0, 71928.0, 71931.0, 71944.0, 71945.0, 71950.0, 71950.0, 71950.0, 71950.0, 71955.0, 71963.0, 71963.0, 71966.0, 71967.0, 71970.0, 71975.0, 71977.0, 71977.0, 71977.0, 71978.0, 71979.0, 71980.0, 71980.0, 71981.0, 71982.0, 71983.0, 71985.0, 71986.0, 71987.0, 71987.0, 71988.0, 71988.0, 71988.0, 71988.0, 71989.0, 71989.0, 71989.0, 71989.0, 71989.0, 71989.0, 71990.0, 71990.0, 71990.0, 71990.0, 71990.0, 71990.0, 71990.0, 71990.0, 71990.0, 71990.0, 71990.0, 71990.0, 71990.0, 71991.0, 71991.0, 71991.0, 71991.0, 71991.0, 71991.0, 71991.0, 71991.0, 71991.0, 71991.0, 71993.0, 71994.0, 71995.0, 71995.0, 71995.0, 71995.0, 71995.0, 71995.0, 71995.0, 71995.0, 71995.0, 71995.0, 71995.0, 71995.0, 71995.0, 71995.0, 71995.0, 71995.0, 71995.0, 71995.0, 71995.0, 71995.0, 71995.0, 71995.0, 71995.0, 71995.0, 71995.0, 71995.0, 71995.0, 71996.0, 71996.0, 71997.0, 71997.0, 71997.0, 71998.0, 71998.0, 71998.0, 71998.0, 71998.0, 71998.0, 71998.0, 71998.0, 71998.0, 71998.0, 71998.0, 71999.0, 71999.0, 71999.0, 71999.0, 71999.0, 71999.0, 71999.0, 71999.0, 71999.0, 71999.0, 71999.0, 71999.0, 71999.0, 71999.0, 71999.0, 71999.0, 71999.0, 71999.0, 71999.0, 72000.0, 72000.0, 72000.0, 72000.0, 72000.0, 72000.0, 72000.0, 72000.0, 72000.0, 72000.0, 72000.0, 72000.0, 72000.0, 72000.0, 72000.0, 72000.0, 72000.0, 72000.0, 72000.0, 72000.0, 72045.0, 72110.0, 72120.0, 72135.0, 72168.0, 72171.0, 72173.0, 72181.0, 72200.0, 72214.0, 72218.0, 72222.0, 72230.0, 72241.0, 72259.0, 72265.0, 72283.0, 72283.0, 72287.0, 72289.0, 72292.0, 72298.0, 72299.0, 72300.0, 72300.0, 72333.0, 72335.0, 72348.0, 72350.0, 72355.0, 72377.0, 72387.0, 72391.0, 72395.0, 72395.0, 72410.0, 72411.0, 72420.0, 72420.0, 72443.0, 72445.0, 72450.0, 72458.0, 72463.0, 72465.0, 72471.0, 72473.0, 72481.0, 72485.0, 72488.0, 72488.0, 72488.0, 72491.0, 72491.0, 72495.0, 72495.0, 72495.0, 72497.0, 72498.0, 72498.0, 72499.0, 72500.0, 72500.0, 72500.0, 72500.0, 72500.0, 72500.0, 72500.0, 72500.0, 72500.0, 72500.0, 72500.0, 72500.0, 72511.0, 72524.0, 72555.0, 72555.0, 72555.0, 72558.0, 72562.0, 72563.0, 72578.0, 72580.0, 72580.0, 72581.0, 72583.0, 72587.0, 72597.0, 72598.0, 72599.0, 72599.0, 72616.0, 72630.0, 72644.0, 72647.0, 72650.0, 72657.0, 72673.0, 72688.0, 72695.0, 72695.0, 72698.0, 72699.0, 72699.0, 72700.0, 72700.0, 72709.0, 72725.0, 72745.0, 72750.0, 72750.0, 72756.0, 72764.0, 72770.0, 72771.0, 72775.0, 72777.0, 72778.0, 72779.0, 72781.0, 72790.0, 72790.0, 72796.0, 72799.0, 72800.0, 72842.0, 72844.0, 72844.0, 72845.0, 72850.0, 72857.0, 72857.0, 72873.0, 72873.0, 72877.0, 72878.0, 72880.0, 72880.0, 72880.0, 72880.0, 72881.0, 72885.0, 72885.0, 72888.0, 72888.0, 72890.0, 72890.0, 72890.0, 72894.0, 72894.0, 72894.0, 72894.0, 72895.0, 72898.0, 72898.0, 72899.0, 72899.0, 72899.0, 72899.0, 72900.0, 72900.0, 72900.0, 72900.0, 72900.0, 72900.0, 72900.0, 72900.0, 72900.0, 72900.0, 72900.0, 72900.0, 72900.0, 72900.0, 72900.0, 72900.0, 72903.0, 72904.0, 72905.0, 72929.0, 72941.0, 72944.0, 72944.0, 72948.0, 72950.0, 72950.0, 72950.0, 72950.0, 72950.0, 72951.0, 72960.0, 72965.0, 72966.0, 72969.0, 72970.0, 72973.0, 72975.0, 72977.0, 72977.0, 72980.0, 72980.0, 72981.0, 72981.0, 72981.0, 72982.0, 72983.0, 72984.0, 72985.0, 72985.0, 72986.0, 72986.0, 72987.0, 72987.0, 72987.0, 72987.0, 72988.0, 72988.0, 72988.0, 72988.0, 72988.0, 72988.0, 72988.0, 72988.0, 72988.0, 72989.0, 72989.0, 72989.0, 72989.0, 72989.0, 72989.0, 72990.0, 72990.0, 72990.0, 72990.0, 72990.0, 72990.0, 72990.0, 72990.0, 72990.0, 72990.0, 72990.0, 72990.0, 72990.0, 72990.0, 72991.0, 72991.0, 72991.0, 72991.0, 72991.0, 72991.0, 72991.0, 72992.0, 72993.0, 72994.0, 72994.0, 72994.0, 72994.0, 72995.0, 72995.0, 72995.0, 72995.0, 72995.0, 72995.0, 72995.0, 72995.0, 72995.0, 72995.0, 72995.0, 72995.0, 72995.0, 72995.0, 72995.0, 72995.0, 72995.0, 72995.0, 72995.0, 72995.0, 72995.0, 72995.0, 72995.0, 72995.0, 72995.0, 72996.0, 72997.0, 72997.0, 72997.0, 72997.0, 72997.0, 72997.0, 72998.0, 72998.0, 72998.0, 72998.0, 72998.0, 72998.0, 72998.0, 72998.0, 72998.0, 72998.0, 72998.0, 72998.0, 72998.0, 72998.0, 72998.0, 72999.0, 72999.0, 72999.0, 72999.0, 72999.0, 72999.0, 72999.0, 72999.0, 72999.0, 72999.0, 73000.0, 73000.0, 73000.0, 73000.0, 73000.0, 73000.0, 73000.0, 73000.0, 73000.0, 73000.0, 73000.0, 73000.0, 73000.0, 73000.0, 73000.0, 73000.0, 73000.0, 73000.0, 73000.0, 73000.0, 73111.0, 73132.0, 73138.0, 73140.0, 73197.0, 73199.0, 73200.0, 73200.0, 73205.0, 73213.0, 73221.0, 73226.0, 73228.0, 73228.0, 73288.0, 73316.0, 73326.0, 73343.0, 73350.0, 73370.0, 73370.0, 73378.0, 73387.0, 73408.0, 73409.0, 73420.0, 73432.0, 73435.0, 73440.0, 73441.0, 73443.0, 73450.0, 73460.0, 73460.0, 73465.0, 73480.0, 73486.0, 73494.0, 73495.0, 73495.0, 73495.0, 73495.0, 73495.0, 73496.0, 73497.0, 73498.0, 73498.0, 73499.0, 73499.0, 73500.0, 73500.0, 73500.0, 73500.0, 73500.0, 73500.0, 73500.0, 73500.0, 73500.0, 73500.0, 73500.0, 73504.0, 73518.0, 73545.0, 73550.0, 73565.0, 73574.0, 73584.0, 73590.0, 73593.0, 73599.0, 73620.0, 73652.0, 73665.0, 73673.0, 73684.0, 73691.0, 73695.0, 73700.0, 73705.0, 73705.0, 73707.0, 73720.0, 73723.0, 73732.0, 73747.0, 73761.0, 73772.0, 73777.0, 73778.0, 73778.0, 73788.0, 73790.0, 73793.0, 73798.0, 73800.0, 73800.0, 73806.0, 73806.0, 73810.0, 73810.0, 73817.0, 73825.0, 73827.0, 73840.0, 73841.0, 73842.0, 73843.0, 73850.0, 73850.0, 73850.0, 73850.0, 73859.0, 73871.0, 73874.0, 73874.0, 73880.0, 73881.0, 73885.0, 73885.0, 73886.0, 73887.0, 73888.0, 73888.0, 73888.0, 73888.0, 73890.0, 73895.0, 73895.0, 73896.0, 73898.0, 73899.0, 73899.0, 73899.0, 73900.0, 73900.0, 73900.0, 73900.0, 73900.0, 73900.0, 73900.0, 73900.0, 73900.0, 73900.0, 73900.0, 73900.0, 73900.0, 73900.0, 73900.0, 73900.0, 73900.0, 73900.0, 73900.0, 73900.0, 73900.0, 73900.0, 73905.0, 73911.0, 73921.0, 73926.0, 73931.0, 73945.0, 73947.0, 73949.0, 73949.0, 73950.0, 73951.0, 73954.0, 73960.0, 73962.0, 73969.0, 73971.0, 73972.0, 73973.0, 73975.0, 73976.0, 73977.0, 73977.0, 73977.0, 73980.0, 73980.0, 73980.0, 73980.0, 73984.0, 73984.0, 73986.0, 73987.0, 73987.0, 73987.0, 73987.0, 73987.0, 73988.0, 73988.0, 73988.0, 73988.0, 73988.0, 73988.0, 73989.0, 73990.0, 73990.0, 73990.0, 73990.0, 73990.0, 73990.0, 73990.0, 73990.0, 73990.0, 73990.0, 73990.0, 73990.0, 73990.0, 73991.0, 73991.0, 73991.0, 73991.0, 73991.0, 73991.0, 73991.0, 73991.0, 73991.0, 73992.0, 73992.0, 73993.0, 73994.0, 73995.0, 73995.0, 73995.0, 73995.0, 73995.0, 73995.0, 73995.0, 73995.0, 73995.0, 73995.0, 73995.0, 73995.0, 73995.0, 73995.0, 73995.0, 73995.0, 73995.0, 73995.0, 73995.0, 73995.0, 73995.0, 73995.0, 73995.0, 73995.0, 73995.0, 73995.0, 73995.0, 73995.0, 73997.0, 73997.0, 73997.0, 73997.0, 73998.0, 73998.0, 73998.0, 73998.0, 73998.0, 73998.0, 73998.0, 73998.0, 73998.0, 73998.0, 73998.0, 73998.0, 73999.0, 73999.0, 73999.0, 73999.0, 73999.0, 73999.0, 73999.0, 73999.0, 73999.0, 73999.0, 73999.0, 73999.0, 73999.0, 73999.0, 73999.0, 73999.0, 73999.0, 73999.0, 73999.0, 74000.0, 74000.0, 74000.0, 74000.0, 74000.0, 74000.0, 74000.0, 74000.0, 74000.0, 74000.0, 74000.0, 74000.0, 74000.0, 74000.0, 74000.0, 74001.0, 74070.0, 74082.0, 74100.0, 74111.0, 74111.0, 74148.0, 74170.0, 74184.0, 74184.0, 74190.0, 74199.0, 74200.0, 74246.0, 74249.0, 74250.0, 74267.0, 74291.0, 74298.0, 74325.0, 74326.0, 74332.0, 74351.0, 74374.0, 74375.0, 74376.0, 74378.0, 74391.0, 74400.0, 74437.0, 74438.0, 74443.0, 74445.0, 74450.0, 74450.0, 74460.0, 74468.0, 74470.0, 74471.0, 74478.0, 74481.0, 74490.0, 74491.0, 74495.0, 74495.0, 74500.0, 74500.0, 74500.0, 74500.0, 74500.0, 74500.0, 74500.0, 74500.0, 74500.0, 74500.0, 74500.0, 74500.0, 74500.0, 74500.0, 74500.0, 74500.0, 74520.0, 74521.0, 74544.0, 74548.0, 74555.0, 74555.0, 74555.0, 74560.0, 74561.0, 74575.0, 74576.0, 74578.0, 74585.0, 74588.0, 74600.0, 74600.0, 74654.0, 74667.0, 74675.0, 74681.0, 74682.0, 74683.0, 74688.0, 74688.0, 74696.0, 74698.0, 74699.0, 74699.0, 74700.0, 74701.0, 74702.0, 74739.0, 74745.0, 74746.0, 74747.0, 74747.0, 74754.0, 74771.0, 74795.0, 74795.0, 74795.0, 74795.0, 74799.0, 74799.0, 74800.0, 74800.0, 74800.0, 74800.0, 74800.0, 74800.0, 74805.0, 74838.0, 74844.0, 74845.0, 74850.0, 74852.0, 74853.0, 74853.0, 74853.0, 74854.0, 74854.0, 74855.0, 74878.0, 74880.0, 74880.0, 74880.0, 74880.0, 74882.0, 74887.0, 74888.0, 74888.0, 74888.0, 74888.0, 74888.0, 74890.0, 74895.0, 74895.0, 74895.0, 74895.0, 74895.0, 74895.0, 74900.0, 74900.0, 74900.0, 74900.0, 74900.0, 74900.0, 74900.0, 74900.0, 74900.0, 74900.0, 74900.0, 74900.0, 74900.0, 74900.0, 74900.0, 74900.0, 74900.0, 74900.0, 74900.0, 74900.0, 74900.0, 74900.0, 74900.0, 74900.0, 74900.0, 74900.0, 74900.0, 74900.0, 74900.0, 74900.0, 74900.0, 74900.0, 74900.0, 74903.0, 74906.0, 74921.0, 74928.0, 74930.0, 74933.0, 74934.0, 74935.0, 74940.0, 74941.0, 74944.0, 74945.0, 74950.0, 74950.0, 74950.0, 74950.0, 74950.0, 74950.0, 74950.0, 74951.0, 74955.0, 74955.0, 74955.0, 74958.0, 74959.0, 74965.0, 74970.0, 74977.0, 74977.0, 74980.0, 74981.0, 74981.0, 74981.0, 74981.0, 74984.0, 74985.0, 74986.0, 74987.0, 74987.0, 74987.0, 74987.0, 74988.0, 74988.0, 74988.0, 74988.0, 74988.0, 74988.0, 74988.0, 74988.0, 74988.0, 74988.0, 74988.0, 74988.0, 74989.0, 74990.0, 74990.0, 74990.0, 74990.0, 74990.0, 74990.0, 74990.0, 74990.0, 74990.0, 74990.0, 74990.0, 74990.0, 74990.0, 74990.0, 74990.0, 74990.0, 74991.0, 74991.0, 74991.0, 74991.0, 74991.0, 74991.0, 74991.0, 74992.0, 74994.0, 74994.0, 74994.0, 74995.0, 74995.0, 74995.0, 74995.0, 74995.0, 74995.0, 74995.0, 74995.0, 74995.0, 74995.0, 74995.0, 74995.0, 74995.0, 74995.0, 74995.0, 74995.0, 74995.0, 74995.0, 74995.0, 74995.0, 74995.0, 74995.0, 74995.0, 74995.0, 74995.0, 74995.0, 74995.0, 74995.0, 74995.0, 74995.0, 74995.0, 74995.0, 74995.0, 74995.0, 74995.0, 74995.0, 74995.0, 74995.0, 74995.0, 74995.0, 74995.0, 74995.0, 74995.0, 74995.0, 74995.0, 74995.0, 74995.0, 74995.0, 74995.0, 74995.0, 74995.0, 74995.0, 74995.0, 74995.0, 74995.0, 74995.0, 74997.0, 74997.0, 74997.0, 74997.0, 74997.0, 74998.0, 74998.0, 74998.0, 74998.0, 74998.0, 74998.0, 74998.0, 74998.0, 74998.0, 74998.0, 74998.0, 74998.0, 74998.0, 74998.0, 74998.0, 74999.0, 74999.0, 74999.0, 74999.0, 74999.0, 74999.0, 74999.0, 74999.0, 74999.0, 74999.0, 74999.0, 74999.0, 74999.0, 74999.0, 74999.0, 74999.0, 74999.0, 74999.0, 74999.0, 74999.0, 74999.0, 74999.0, 74999.0, 74999.0, 74999.0, 74999.0, 75000.0, 75000.0, 75000.0, 75000.0, 75000.0, 75000.0, 75000.0, 75000.0, 75000.0, 75000.0, 75000.0, 75000.0, 75000.0, 75000.0, 75000.0, 75000.0, 75000.0, 75000.0, 75000.0, 75000.0, 75000.0, 75000.0, 75000.0, 75000.0, 75000.0, 75000.0, 75000.0, 75000.0, 75000.0, 75000.0, 75000.0, 75000.0, 75000.0, 75000.0, 75000.0, 75029.0, 75029.0, 75041.0, 75052.0, 75066.0, 75080.0, 75115.0, 75138.0, 75181.0, 75200.0, 75205.0, 75221.0, 75250.0, 75250.0, 75255.0, 75275.0, 75281.0, 75288.0, 75304.0, 75306.0, 75307.0, 75333.0, 75337.0, 75343.0, 75343.0, 75343.0, 75344.0, 75350.0, 75371.0, 75383.0, 75387.0, 75390.0, 75392.0, 75399.0, 75400.0, 75400.0, 75400.0, 75400.0, 75431.0, 75431.0, 75441.0, 75450.0, 75451.0, 75473.0, 75475.0, 75475.0, 75483.0, 75486.0, 75487.0, 75488.0, 75489.0, 75490.0, 75490.0, 75491.0, 75491.0, 75493.0, 75495.0, 75496.0, 75497.0, 75499.0, 75499.0, 75499.0, 75499.0, 75500.0, 75500.0, 75500.0, 75516.0, 75550.0, 75550.0, 75555.0, 75589.0, 75589.0, 75598.0, 75599.0, 75600.0, 75618.0, 75621.0, 75623.0, 75630.0, 75640.0, 75649.0, 75649.0, 75669.0, 75673.0, 75682.0, 75695.0, 75699.0, 75700.0, 75704.0, 75711.0, 75725.0, 75745.0, 75749.0, 75777.0, 75778.0, 75781.0, 75785.0, 75787.0, 75788.0, 75789.0, 75795.0, 75795.0, 75795.0, 75798.0, 75800.0, 75800.0, 75810.0, 75822.0, 75841.0, 75850.0, 75874.0, 75875.0, 75880.0, 75880.0, 75887.0, 75888.0, 75890.0, 75894.0, 75895.0, 75895.0, 75898.0, 75900.0, 75900.0, 75900.0, 75900.0, 75900.0, 75900.0, 75900.0, 75900.0, 75900.0, 75900.0, 75900.0, 75900.0, 75900.0, 75900.0, 75900.0, 75900.0, 75900.0, 75900.0, 75900.0, 75904.0, 75912.0, 75925.0, 75933.0, 75934.0, 75935.0, 75943.0, 75944.0, 75944.0, 75944.0, 75944.0, 75950.0, 75951.0, 75955.0, 75956.0, 75962.0, 75965.0, 75968.0, 75969.0, 75971.0, 75975.0, 75975.0, 75975.0, 75980.0, 75980.0, 75980.0, 75981.0, 75984.0, 75984.0, 75986.0, 75986.0, 75987.0, 75987.0, 75987.0, 75987.0, 75988.0, 75988.0, 75988.0, 75988.0, 75988.0, 75988.0, 75988.0, 75988.0, 75989.0, 75989.0, 75990.0, 75990.0, 75990.0, 75990.0, 75990.0, 75990.0, 75990.0, 75990.0, 75990.0, 75990.0, 75990.0, 75990.0, 75991.0, 75991.0, 75991.0, 75991.0, 75991.0, 75991.0, 75992.0, 75993.0, 75994.0, 75994.0, 75995.0, 75995.0, 75995.0, 75995.0, 75995.0, 75995.0, 75995.0, 75995.0, 75995.0, 75995.0, 75995.0, 75995.0, 75995.0, 75995.0, 75995.0, 75995.0, 75995.0, 75995.0, 75995.0, 75995.0, 75995.0, 75995.0, 75995.0, 75995.0, 75995.0, 75995.0, 75996.0, 75997.0, 75997.0, 75997.0, 75997.0, 75997.0, 75997.0, 75998.0, 75998.0, 75998.0, 75998.0, 75998.0, 75998.0, 75998.0, 75998.0, 75998.0, 75998.0, 75999.0, 75999.0, 75999.0, 75999.0, 75999.0, 75999.0, 75999.0, 75999.0, 75999.0, 75999.0, 75999.0, 75999.0, 75999.0, 75999.0, 75999.0, 75999.0, 75999.0, 75999.0, 76000.0, 76000.0, 76000.0, 76000.0, 76000.0, 76000.0, 76000.0, 76000.0, 76000.0, 76000.0, 76000.0, 76000.0, 76000.0, 76023.0, 76050.0, 76110.0, 76117.0, 76152.0, 76157.0, 76162.0, 76177.0, 76180.0, 76188.0, 76201.0, 76204.0, 76222.0, 76235.0, 76250.0, 76259.0, 76293.0, 76295.0, 76325.0, 76334.0, 76349.0, 76350.0, 76352.0, 76355.0, 76369.0, 76370.0, 76383.0, 76395.0, 76400.0, 76400.0, 76406.0, 76410.0, 76420.0, 76420.0, 76423.0, 76424.0, 76444.0, 76476.0, 76477.0, 76481.0, 76485.0, 76488.0, 76488.0, 76490.0, 76490.0, 76491.0, 76491.0, 76491.0, 76491.0, 76495.0, 76495.0, 76496.0, 76498.0, 76498.0, 76498.0, 76499.0, 76500.0, 76500.0, 76500.0, 76500.0, 76500.0, 76500.0, 76500.0, 76532.0, 76552.0, 76572.0, 76572.0, 76585.0, 76587.0, 76589.0, 76590.0, 76598.0, 76599.0, 76672.0, 76683.0, 76698.0, 76699.0, 76710.0, 76715.0, 76722.0, 76745.0, 76765.0, 76777.0, 76778.0, 76785.0, 76785.0, 76787.0, 76788.0, 76788.0, 76790.0, 76790.0, 76790.0, 76790.0, 76793.0, 76795.0, 76797.0, 76798.0, 76800.0, 76800.0, 76808.0, 76811.0, 76822.0, 76824.0, 76833.0, 76837.0, 76848.0, 76850.0, 76880.0, 76885.0, 76888.0, 76888.0, 76888.0, 76888.0, 76888.0, 76889.0, 76890.0, 76890.0, 76893.0, 76894.0, 76894.0, 76895.0, 76898.0, 76899.0, 76899.0, 76900.0, 76900.0, 76900.0, 76900.0, 76900.0, 76900.0, 76900.0, 76900.0, 76900.0, 76900.0, 76900.0, 76900.0, 76900.0, 76900.0, 76900.0, 76900.0, 76900.0, 76901.0, 76911.0, 76918.0, 76930.0, 76933.0, 76944.0, 76946.0, 76950.0, 76950.0, 76950.0, 76950.0, 76950.0, 76950.0, 76953.0, 76958.0, 76961.0, 76962.0, 76968.0, 76968.0, 76969.0, 76970.0, 76970.0, 76973.0, 76975.0, 76976.0, 76977.0, 76981.0, 76981.0, 76983.0, 76984.0, 76987.0, 76988.0, 76988.0, 76988.0, 76989.0, 76989.0, 76989.0, 76990.0, 76990.0, 76990.0, 76990.0, 76990.0, 76990.0, 76990.0, 76990.0, 76990.0, 76990.0, 76990.0, 76991.0, 76991.0, 76991.0, 76991.0, 76991.0, 76993.0, 76993.0, 76994.0, 76994.0, 76995.0, 76995.0, 76995.0, 76995.0, 76995.0, 76995.0, 76995.0, 76995.0, 76995.0, 76995.0, 76995.0, 76995.0, 76995.0, 76995.0, 76995.0, 76995.0, 76995.0, 76995.0, 76995.0, 76995.0, 76995.0, 76995.0, 76995.0, 76995.0, 76995.0, 76995.0, 76995.0, 76995.0, 76995.0, 76995.0, 76996.0, 76997.0, 76997.0, 76997.0, 76997.0, 76997.0, 76997.0, 76997.0, 76998.0, 76998.0, 76998.0, 76998.0, 76998.0, 76998.0, 76998.0, 76998.0, 76998.0, 76998.0, 76999.0, 76999.0, 76999.0, 76999.0, 76999.0, 76999.0, 77000.0, 77000.0, 77000.0, 77000.0, 77000.0, 77000.0, 77000.0, 77000.0, 77000.0, 77000.0, 77000.0, 77000.0, 77000.0, 77009.0, 77011.0, 77021.0, 77028.0, 77029.0, 77140.0, 77155.0, 77200.0, 77250.0, 77254.0, 77255.0, 77260.0, 77265.0, 77271.0, 77275.0, 77298.0, 77308.0, 77321.0, 77322.0, 77331.0, 77333.0, 77338.0, 77352.0, 77359.0, 77359.0, 77372.0, 77388.0, 77390.0, 77410.0, 77413.0, 77429.0, 77441.0, 77444.0, 77444.0, 77453.0, 77460.0, 77484.0, 77486.0, 77489.0, 77490.0, 77492.0, 77495.0, 77495.0, 77495.0, 77495.0, 77495.0, 77497.0, 77497.0, 77498.0, 77499.0, 77499.0, 77499.0, 77500.0, 77500.0, 77500.0, 77500.0, 77500.0, 77500.0, 77500.0, 77500.0, 77500.0, 77500.0, 77500.0, 77500.0, 77500.0, 77500.0, 77500.0, 77501.0, 77520.0, 77529.0, 77530.0, 77537.0, 77545.0, 77550.0, 77575.0, 77575.0, 77575.0, 77585.0, 77591.0, 77591.0, 77595.0, 77600.0, 77633.0, 77659.0, 77700.0, 77709.0, 77723.0, 77750.0, 77750.0, 77761.0, 77764.0, 77770.0, 77771.0, 77777.0, 77777.0, 77792.0, 77796.0, 77800.0, 77811.0, 77816.0, 77817.0, 77823.0, 77839.0, 77847.0, 77850.0, 77850.0, 77860.0, 77862.0, 77880.0, 77881.0, 77885.0, 77885.0, 77888.0, 77888.0, 77888.0, 77889.0, 77890.0, 77890.0, 77895.0, 77895.0, 77899.0, 77899.0, 77899.0, 77899.0, 77899.0, 77900.0, 77900.0, 77900.0, 77900.0, 77900.0, 77900.0, 77900.0, 77900.0, 77900.0, 77900.0, 77900.0, 77900.0, 77900.0, 77901.0, 77904.0, 77913.0, 77913.0, 77918.0, 77930.0, 77946.0, 77950.0, 77950.0, 77950.0, 77962.0, 77972.0, 77975.0, 77975.0, 77975.0, 77977.0, 77977.0, 77977.0, 77980.0, 77981.0, 77981.0, 77981.0, 77981.0, 77984.0, 77987.0, 77987.0, 77988.0, 77988.0, 77988.0, 77988.0, 77989.0, 77989.0, 77989.0, 77989.0, 77989.0, 77989.0, 77990.0, 77990.0, 77990.0, 77990.0, 77990.0, 77990.0, 77990.0, 77990.0, 77990.0, 77990.0, 77990.0, 77991.0, 77991.0, 77992.0, 77992.0, 77994.0, 77995.0, 77995.0, 77995.0, 77995.0, 77995.0, 77995.0, 77995.0, 77995.0, 77995.0, 77995.0, 77995.0, 77995.0, 77995.0, 77995.0, 77995.0, 77995.0, 77995.0, 77995.0, 77995.0, 77995.0, 77995.0, 77995.0, 77996.0, 77997.0, 77997.0, 77997.0, 77997.0, 77997.0, 77998.0, 77998.0, 77998.0, 77998.0, 77998.0, 77999.0, 77999.0, 77999.0, 77999.0, 77999.0, 77999.0, 77999.0, 77999.0, 77999.0, 77999.0, 77999.0, 78000.0, 78000.0, 78000.0, 78000.0, 78000.0, 78000.0, 78000.0, 78000.0, 78000.0, 78000.0, 78000.0, 78000.0, 78000.0, 78000.0, 78000.0, 78000.0, 78094.0, 78095.0, 78148.0, 78148.0, 78160.0, 78181.0, 78200.0, 78200.0, 78206.0, 78210.0, 78253.0, 78276.0, 78291.0, 78300.0, 78336.0, 78350.0, 78351.0, 78367.0, 78371.0, 78382.0, 78395.0, 78395.0, 78398.0, 78400.0, 78416.0, 78420.0, 78432.0, 78444.0, 78445.0, 78446.0, 78448.0, 78453.0, 78462.0, 78471.0, 78488.0, 78491.0, 78495.0, 78495.0, 78495.0, 78495.0, 78495.0, 78497.0, 78498.0, 78499.0, 78500.0, 78500.0, 78500.0, 78500.0, 78500.0, 78500.0, 78500.0, 78500.0, 78500.0, 78500.0, 78500.0, 78500.0, 78500.0, 78500.0, 78500.0, 78505.0, 78534.0, 78540.0, 78577.0, 78581.0, 78588.0, 78594.0, 78599.0, 78599.0, 78621.0, 78644.0, 78649.0, 78650.0, 78672.0, 78675.0, 78677.0, 78690.0, 78694.0, 78695.0, 78698.0, 78700.0, 78711.0, 78731.0, 78740.0, 78740.0, 78742.0, 78745.0, 78746.0, 78756.0, 78760.0, 78770.0, 78777.0, 78777.0, 78778.0, 78781.0, 78783.0, 78795.0, 78799.0, 78800.0, 78800.0, 78800.0, 78800.0, 78800.0, 78815.0, 78819.0, 78830.0, 78847.0, 78850.0, 78850.0, 78850.0, 78850.0, 78850.0, 78850.0, 78859.0, 78859.0, 78860.0, 78867.0, 78868.0, 78879.0, 78880.0, 78885.0, 78885.0, 78885.0, 78885.0, 78885.0, 78888.0, 78888.0, 78888.0, 78888.0, 78888.0, 78890.0, 78890.0, 78891.0, 78893.0, 78894.0, 78896.0, 78897.0, 78900.0, 78900.0, 78900.0, 78900.0, 78900.0, 78900.0, 78900.0, 78900.0, 78900.0, 78900.0, 78900.0, 78903.0, 78909.0, 78920.0, 78921.0, 78944.0, 78957.0, 78971.0, 78975.0, 78984.0, 78984.0, 78984.0, 78988.0, 78988.0, 78988.0, 78988.0, 78988.0, 78989.0, 78989.0, 78990.0, 78990.0, 78990.0, 78990.0, 78990.0, 78990.0, 78990.0, 78990.0, 78990.0, 78990.0, 78990.0, 78990.0, 78991.0, 78991.0, 78991.0, 78991.0, 78991.0, 78991.0, 78991.0, 78991.0, 78992.0, 78994.0, 78994.0, 78994.0, 78994.0, 78995.0, 78995.0, 78995.0, 78995.0, 78995.0, 78995.0, 78995.0, 78995.0, 78995.0, 78995.0, 78995.0, 78995.0, 78995.0, 78995.0, 78995.0, 78995.0, 78995.0, 78995.0, 78995.0, 78995.0, 78995.0, 78995.0, 78995.0, 78995.0, 78997.0, 78997.0, 78997.0, 78997.0, 78998.0, 78998.0, 78998.0, 78998.0, 78998.0, 78999.0, 78999.0, 78999.0, 78999.0, 78999.0, 78999.0, 78999.0, 78999.0, 79000.0, 79000.0, 79000.0, 79000.0, 79000.0, 79000.0, 79000.0, 79000.0, 79000.0, 79000.0, 79000.0, 79000.0, 79000.0, 79000.0, 79000.0, 79000.0, 79000.0, 79000.0, 79048.0, 79087.0, 79140.0, 79144.0, 79150.0, 79199.0, 79200.0, 79200.0, 79209.0, 79245.0, 79250.0, 79250.0, 79283.0, 79290.0, 79295.0, 79299.0, 79300.0, 79301.0, 79315.0, 79377.0, 79388.0, 79395.0, 79395.0, 79399.0, 79405.0, 79418.0, 79437.0, 79458.0, 79480.0, 79487.0, 79487.0, 79488.0, 79490.0, 79490.0, 79491.0, 79491.0, 79492.0, 79493.0, 79495.0, 79495.0, 79495.0, 79495.0, 79495.0, 79495.0, 79497.0, 79498.0, 79499.0, 79500.0, 79500.0, 79500.0, 79500.0, 79500.0, 79500.0, 79500.0, 79500.0, 79546.0, 79564.0, 79570.0, 79577.0, 79589.0, 79595.0, 79595.0, 79596.0, 79599.0, 79600.0, 79600.0, 79658.0, 79665.0, 79680.0, 79690.0, 79692.0, 79697.0, 79698.0, 79700.0, 79700.0, 79750.0, 79750.0, 79750.0, 79770.0, 79775.0, 79777.0, 79777.0, 79777.0, 79777.0, 79781.0, 79788.0, 79788.0, 79799.0, 79812.0, 79829.0, 79847.0, 79848.0, 79850.0, 79850.0, 79850.0, 79852.0, 79855.0, 79858.0, 79860.0, 79863.0, 79864.0, 79876.0, 79877.0, 79880.0, 79880.0, 79880.0, 79880.0, 79880.0, 79881.0, 79887.0, 79887.0, 79888.0, 79888.0, 79888.0, 79888.0, 79888.0, 79888.0, 79888.0, 79890.0, 79890.0, 79891.0, 79891.0, 79894.0, 79895.0, 79896.0, 79898.0, 79899.0, 79900.0, 79900.0, 79900.0, 79900.0, 79900.0, 79900.0, 79900.0, 79900.0, 79900.0, 79900.0, 79900.0, 79900.0, 79900.0, 79900.0, 79900.0, 79900.0, 79900.0, 79900.0, 79900.0, 79900.0, 79900.0, 79900.0, 79900.0, 79900.0, 79900.0, 79900.0, 79900.0, 79909.0, 79913.0, 79916.0, 79922.0, 79922.0, 79930.0, 79943.0, 79944.0, 79949.0, 79949.0, 79950.0, 79950.0, 79950.0, 79950.0, 79950.0, 79950.0, 79950.0, 79950.0, 79950.0, 79950.0, 79950.0, 79955.0, 79955.0, 79958.0, 79960.0, 79962.0, 79965.0, 79971.0, 79971.0, 79975.0, 79977.0, 79978.0, 79978.0, 79980.0, 79980.0, 79980.0, 79980.0, 79980.0, 79981.0, 79981.0, 79982.0, 79983.0, 79985.0, 79985.0, 79985.0, 79985.0, 79985.0, 79987.0, 79987.0, 79987.0, 79988.0, 79988.0, 79988.0, 79988.0, 79988.0, 79988.0, 79988.0, 79988.0, 79988.0, 79988.0, 79988.0, 79988.0, 79989.0, 79989.0, 79989.0, 79990.0, 79990.0, 79990.0, 79990.0, 79990.0, 79990.0, 79990.0, 79990.0, 79990.0, 79990.0, 79990.0, 79990.0, 79990.0, 79990.0, 79990.0, 79990.0, 79990.0, 79990.0, 79990.0, 79990.0, 79990.0, 79990.0, 79990.0, 79990.0, 79990.0, 79990.0, 79990.0, 79990.0, 79990.0, 79990.0, 79991.0, 79991.0, 79991.0, 79991.0, 79991.0, 79991.0, 79991.0, 79991.0, 79991.0, 79991.0, 79992.0, 79992.0, 79993.0, 79993.0, 79994.0, 79994.0, 79994.0, 79995.0, 79995.0, 79995.0, 79995.0, 79995.0, 79995.0, 79995.0, 79995.0, 79995.0, 79995.0, 79995.0, 79995.0, 79995.0, 79995.0, 79995.0, 79995.0, 79995.0, 79995.0, 79995.0, 79995.0, 79995.0, 79995.0, 79995.0, 79995.0, 79995.0, 79995.0, 79995.0, 79995.0, 79995.0, 79995.0, 79995.0, 79995.0, 79995.0, 79995.0, 79995.0, 79995.0, 79995.0, 79995.0, 79995.0, 79995.0, 79995.0, 79995.0, 79995.0, 79995.0, 79995.0, 79995.0, 79995.0, 79995.0, 79995.0, 79995.0, 79995.0, 79995.0, 79995.0, 79995.0, 79995.0, 79995.0, 79996.0, 79996.0, 79996.0, 79997.0, 79997.0, 79997.0, 79997.0, 79997.0, 79997.0, 79997.0, 79997.0, 79997.0, 79997.0, 79997.0, 79997.0, 79998.0, 79998.0, 79998.0, 79998.0, 79998.0, 79998.0, 79998.0, 79998.0, 79998.0, 79998.0, 79998.0, 79998.0, 79998.0, 79998.0, 79998.0, 79999.0, 79999.0, 79999.0, 79999.0, 79999.0, 79999.0, 79999.0, 79999.0, 79999.0, 79999.0, 79999.0, 79999.0, 79999.0, 79999.0, 79999.0, 79999.0, 79999.0, 79999.0, 80000.0, 80000.0, 80000.0, 80000.0, 80000.0, 80000.0, 80000.0, 80000.0, 80000.0, 80000.0, 80000.0, 80000.0, 80000.0, 80000.0, 80000.0, 80000.0, 80000.0, 80075.0, 80154.0, 80200.0, 80204.0, 80235.0, 80242.0, 80250.0, 80385.0, 80386.0, 80386.0, 80400.0, 80417.0, 80431.0, 80450.0, 80450.0, 80468.0, 80480.0, 80490.0, 80491.0, 80491.0, 80495.0, 80497.0, 80500.0, 80500.0, 80500.0, 80579.0, 80592.0, 80595.0, 80618.0, 80690.0, 80695.0, 80700.0, 80706.0, 80711.0, 80725.0, 80753.0, 80757.0, 80789.0, 80797.0, 80799.0, 80819.0, 80825.0, 80854.0, 80873.0, 80888.0, 80890.0, 80890.0, 80893.0, 80894.0, 80895.0, 80899.0, 80900.0, 80900.0, 80900.0, 80914.0, 80927.0, 80935.0, 80942.0, 80950.0, 80955.0, 80974.0, 80975.0, 80977.0, 80981.0, 80981.0, 80987.0, 80987.0, 80987.0, 80988.0, 80989.0, 80989.0, 80989.0, 80989.0, 80990.0, 80990.0, 80991.0, 80992.0, 80995.0, 80995.0, 80995.0, 80995.0, 80995.0, 80995.0, 80995.0, 80997.0, 80998.0, 80998.0, 80998.0, 80998.0, 80998.0, 80998.0, 80998.0, 80998.0, 80999.0, 80999.0, 80999.0, 80999.0, 80999.0, 81000.0, 81000.0, 81000.0, 81000.0, 81000.0, 81000.0, 81000.0, 81000.0, 81000.0, 81000.0, 81000.0, 81000.0, 81000.0, 81000.0, 81035.0, 81081.0, 81100.0, 81100.0, 81122.0, 81170.0, 81171.0, 81185.0, 81202.0, 81222.0, 81226.0, 81234.0, 81249.0, 81282.0, 81291.0, 81295.0, 81305.0, 81311.0, 81366.0, 81386.0, 81390.0, 81391.0, 81396.0, 81400.0, 81420.0, 81435.0, 81445.0, 81445.0, 81477.0, 81487.0, 81488.0, 81495.0, 81495.0, 81495.0, 81499.0, 81499.0, 81500.0, 81500.0, 81500.0, 81500.0, 81500.0, 81500.0, 81504.0, 81521.0, 81560.0, 81585.0, 81586.0, 81590.0, 81595.0, 81599.0, 81600.0, 81623.0, 81636.0, 81650.0, 81657.0, 81688.0, 81699.0, 81712.0, 81712.0, 81722.0, 81725.0, 81729.0, 81750.0, 81750.0, 81771.0, 81776.0, 81778.0, 81788.0, 81800.0, 81800.0, 81814.0, 81847.0, 81849.0, 81875.0, 81875.0, 81878.0, 81880.0, 81881.0, 81881.0, 81885.0, 81885.0, 81886.0, 81888.0, 81888.0, 81890.0, 81893.0, 81895.0, 81895.0, 81897.0, 81897.0, 81898.0, 81900.0, 81900.0, 81900.0, 81900.0, 81900.0, 81900.0, 81900.0, 81902.0, 81908.0, 81913.0, 81933.0, 81937.0, 81937.0, 81950.0, 81950.0, 81963.0, 81969.0, 81970.0, 81970.0, 81971.0, 81971.0, 81980.0, 81981.0, 81982.0, 81984.0, 81985.0, 81986.0, 81987.0, 81988.0, 81988.0, 81988.0, 81988.0, 81988.0, 81990.0, 81990.0, 81990.0, 81990.0, 81990.0, 81990.0, 81990.0, 81991.0, 81991.0, 81991.0, 81991.0, 81991.0, 81991.0, 81992.0, 81993.0, 81995.0, 81995.0, 81995.0, 81995.0, 81995.0, 81995.0, 81995.0, 81995.0, 81995.0, 81995.0, 81995.0, 81995.0, 81995.0, 81995.0, 81995.0, 81995.0, 81995.0, 81995.0, 81995.0, 81995.0, 81996.0, 81997.0, 81998.0, 81998.0, 81998.0, 81998.0, 81998.0, 81998.0, 81998.0, 81998.0, 81999.0, 81999.0, 81999.0, 81999.0, 81999.0, 81999.0, 81999.0, 81999.0, 81999.0, 81999.0, 81999.0, 81999.0, 81999.0, 81999.0, 81999.0, 81999.0, 81999.0, 81999.0, 81999.0, 82000.0, 82000.0, 82000.0, 82000.0, 82000.0, 82000.0, 82000.0, 82000.0, 82000.0, 82000.0, 82000.0, 82000.0, 82004.0, 82022.0, 82067.0, 82070.0, 82077.0, 82082.0, 82087.0, 82092.0, 82170.0, 82179.0, 82190.0, 82200.0, 82256.0, 82295.0, 82299.0, 82310.0, 82313.0, 82325.0, 82331.0, 82354.0, 82390.0, 82397.0, 82400.0, 82400.0, 82400.0, 82408.0, 82444.0, 82450.0, 82454.0, 82460.0, 82466.0, 82472.0, 82475.0, 82476.0, 82486.0, 82488.0, 82490.0, 82495.0, 82496.0, 82497.0, 82498.0, 82499.0, 82499.0, 82500.0, 82500.0, 82500.0, 82500.0, 82500.0, 82500.0, 82500.0, 82500.0, 82500.0, 82500.0, 82503.0, 82518.0, 82537.0, 82544.0, 82582.0, 82591.0, 82596.0, 82597.0, 82600.0, 82603.0, 82623.0, 82633.0, 82645.0, 82699.0, 82737.0, 82775.0, 82776.0, 82777.0, 82795.0, 82795.0, 82798.0, 82800.0, 82800.0, 82800.0, 82804.0, 82834.0, 82852.0, 82864.0, 82868.0, 82874.0, 82880.0, 82880.0, 82880.0, 82880.0, 82881.0, 82881.0, 82881.0, 82888.0, 82888.0, 82888.0, 82889.0, 82890.0, 82893.0, 82894.0, 82898.0, 82899.0, 82900.0, 82900.0, 82900.0, 82900.0, 82900.0, 82900.0, 82900.0, 82900.0, 82900.0, 82900.0, 82900.0, 82900.0, 82900.0, 82900.0, 82900.0, 82900.0, 82900.0, 82900.0, 82900.0, 82900.0, 82901.0, 82901.0, 82919.0, 82930.0, 82950.0, 82950.0, 82950.0, 82950.0, 82950.0, 82963.0, 82965.0, 82971.0, 82971.0, 82971.0, 82973.0, 82975.0, 82977.0, 82984.0, 82984.0, 82987.0, 82988.0, 82988.0, 82988.0, 82988.0, 82988.0, 82988.0, 82988.0, 82988.0, 82988.0, 82988.0, 82988.0, 82988.0, 82989.0, 82989.0, 82990.0, 82990.0, 82990.0, 82990.0, 82990.0, 82991.0, 82991.0, 82991.0, 82991.0, 82991.0, 82991.0, 82991.0, 82991.0, 82993.0, 82994.0, 82995.0, 82995.0, 82995.0, 82995.0, 82995.0, 82995.0, 82995.0, 82995.0, 82995.0, 82995.0, 82995.0, 82995.0, 82995.0, 82995.0, 82995.0, 82995.0, 82995.0, 82995.0, 82995.0, 82995.0, 82995.0, 82995.0, 82995.0, 82995.0, 82995.0, 82996.0, 82997.0, 82997.0, 82997.0, 82998.0, 82998.0, 82998.0, 82998.0, 82998.0, 82998.0, 82998.0, 82998.0, 82998.0, 82998.0, 82998.0, 82998.0, 82998.0, 82999.0, 82999.0, 82999.0, 82999.0, 82999.0, 82999.0, 82999.0, 82999.0, 83000.0, 83000.0, 83000.0, 83000.0, 83000.0, 83000.0, 83000.0, 83000.0, 83000.0, 83026.0, 83040.0, 83045.0, 83092.0, 83094.0, 83171.0, 83175.0, 83192.0, 83204.0, 83243.0, 83279.0, 83286.0, 83295.0, 83333.0, 83350.0, 83354.0, 83397.0, 83410.0, 83411.0, 83421.0, 83444.0, 83444.0, 83477.0, 83478.0, 83482.0, 83487.0, 83491.0, 83494.0, 83495.0, 83495.0, 83495.0, 83498.0, 83499.0, 83500.0, 83500.0, 83500.0, 83500.0, 83505.0, 83550.0, 83550.0, 83552.0, 83592.0, 83595.0, 83598.0, 83600.0, 83601.0, 83621.0, 83664.0, 83666.0, 83671.0, 83690.0, 83712.0, 83718.0, 83721.0, 83723.0, 83726.0, 83762.0, 83771.0, 83798.0, 83799.0, 83833.0, 83848.0, 83857.0, 83858.0, 83860.0, 83868.0, 83887.0, 83890.0, 83891.0, 83891.0, 83894.0, 83900.0, 83900.0, 83900.0, 83900.0, 83900.0, 83900.0, 83900.0, 83900.0, 83900.0, 83900.0, 83905.0, 83911.0, 83926.0, 83931.0, 83933.0, 83936.0, 83946.0, 83950.0, 83950.0, 83950.0, 83950.0, 83950.0, 83950.0, 83950.0, 83958.0, 83966.0, 83971.0, 83975.0, 83975.0, 83975.0, 83977.0, 83977.0, 83980.0, 83981.0, 83981.0, 83981.0, 83981.0, 83983.0, 83983.0, 83983.0, 83983.0, 83983.0, 83983.0, 83985.0, 83987.0, 83987.0, 83988.0, 83988.0, 83988.0, 83988.0, 83988.0, 83988.0, 83988.0, 83988.0, 83989.0, 83990.0, 83990.0, 83990.0, 83990.0, 83990.0, 83990.0, 83990.0, 83990.0, 83990.0, 83990.0, 83993.0, 83995.0, 83995.0, 83995.0, 83995.0, 83995.0, 83995.0, 83995.0, 83995.0, 83995.0, 83995.0, 83995.0, 83995.0, 83995.0, 83995.0, 83995.0, 83995.0, 83995.0, 83995.0, 83995.0, 83995.0, 83995.0, 83997.0, 83997.0, 83997.0, 83997.0, 83998.0, 83998.0, 83998.0, 83998.0, 83998.0, 83998.0, 83998.0, 83998.0, 83998.0, 83999.0, 83999.0, 83999.0, 83999.0, 83999.0, 83999.0, 83999.0, 84000.0, 84000.0, 84000.0, 84000.0, 84000.0, 84000.0, 84000.0, 84000.0, 84000.0, 84050.0, 84073.0, 84117.0, 84163.0, 84187.0, 84215.0, 84240.0, 84242.0, 84260.0, 84260.0, 84300.0, 84300.0, 84391.0, 84399.0, 84400.0, 84403.0, 84416.0, 84444.0, 84447.0, 84480.0, 84488.0, 84490.0, 84497.0, 84497.0, 84497.0, 84499.0, 84499.0, 84500.0, 84500.0, 84500.0, 84500.0, 84500.0, 84500.0, 84512.0, 84531.0, 84540.0, 84542.0, 84544.0, 84550.0, 84555.0, 84555.0, 84585.0, 84587.0, 84598.0, 84641.0, 84649.0, 84683.0, 84710.0, 84729.0, 84740.0, 84750.0, 84750.0, 84750.0, 84779.0, 84780.0, 84781.0, 84787.0, 84788.0, 84791.0, 84795.0, 84795.0, 84800.0, 84801.0, 84811.0, 84813.0, 84815.0, 84829.0, 84856.0, 84860.0, 84860.0, 84863.0, 84873.0, 84877.0, 84879.0, 84880.0, 84882.0, 84888.0, 84888.0, 84888.0, 84890.0, 84891.0, 84894.0, 84900.0, 84900.0, 84900.0, 84900.0, 84900.0, 84900.0, 84900.0, 84900.0, 84900.0, 84900.0, 84900.0, 84900.0, 84900.0, 84900.0, 84900.0, 84900.0, 84911.0, 84911.0, 84927.0, 84944.0, 84949.0, 84950.0, 84950.0, 84950.0, 84950.0, 84951.0, 84951.0, 84952.0, 84960.0, 84965.0, 84966.0, 84968.0, 84969.0, 84975.0, 84975.0, 84977.0, 84977.0, 84977.0, 84980.0, 84980.0, 84980.0, 84980.0, 84981.0, 84984.0, 84985.0, 84986.0, 84986.0, 84987.0, 84987.0, 84988.0, 84988.0, 84988.0, 84988.0, 84988.0, 84988.0, 84988.0, 84988.0, 84990.0, 84990.0, 84990.0, 84990.0, 84990.0, 84990.0, 84990.0, 84990.0, 84990.0, 84990.0, 84990.0, 84990.0, 84990.0, 84990.0, 84990.0, 84990.0, 84990.0, 84990.0, 84991.0, 84991.0, 84991.0, 84991.0, 84991.0, 84991.0, 84991.0, 84992.0, 84992.0, 84993.0, 84994.0, 84995.0, 84995.0, 84995.0, 84995.0, 84995.0, 84995.0, 84995.0, 84995.0, 84995.0, 84995.0, 84995.0, 84995.0, 84995.0, 84995.0, 84995.0, 84995.0, 84995.0, 84995.0, 84995.0, 84996.0, 84996.0, 84996.0, 84997.0, 84997.0, 84997.0, 84997.0, 84998.0, 84998.0, 84998.0, 84998.0, 84998.0, 84998.0, 84998.0, 84998.0, 84998.0, 84998.0, 84999.0, 84999.0, 84999.0, 84999.0, 84999.0, 84999.0, 84999.0, 84999.0, 84999.0, 84999.0, 84999.0, 84999.0, 84999.0, 84999.0, 84999.0, 84999.0, 84999.0, 84999.0, 85000.0, 85000.0, 85000.0, 85000.0, 85000.0, 85000.0, 85000.0, 85000.0, 85000.0, 85000.0, 85000.0, 85000.0, 85000.0, 85000.0, 85000.0, 85000.0, 85000.0, 85000.0, 85000.0, 85000.0, 85000.0, 85000.0, 85081.0, 85111.0, 85113.0, 85203.0, 85236.0, 85241.0, 85246.0, 85251.0, 85310.0, 85342.0, 85349.0, 85385.0, 85388.0, 85391.0, 85428.0, 85448.0, 85491.0, 85495.0, 85495.0, 85498.0, 85499.0, 85500.0, 85500.0, 85500.0, 85500.0, 85500.0, 85500.0, 85548.0, 85550.0, 85555.0, 85563.0, 85588.0, 85615.0, 85640.0, 85682.0, 85687.0, 85690.0, 85700.0, 85700.0, 85702.0, 85724.0, 85750.0, 85771.0, 85792.0, 85795.0, 85800.0, 85806.0, 85825.0, 85826.0, 85832.0, 85858.0, 85872.0, 85879.0, 85881.0, 85881.0, 85884.0, 85885.0, 85886.0, 85888.0, 85888.0, 85890.0, 85900.0, 85900.0, 85900.0, 85900.0, 85900.0, 85900.0, 85900.0, 85900.0, 85900.0, 85900.0, 85900.0, 85900.0, 85900.0, 85900.0, 85905.0, 85915.0, 85930.0, 85932.0, 85935.0, 85943.0, 85950.0, 85950.0, 85950.0, 85950.0, 85960.0, 85962.0, 85965.0, 85971.0, 85976.0, 85981.0, 85981.0, 85981.0, 85983.0, 85985.0, 85987.0, 85987.0, 85987.0, 85987.0, 85988.0, 85988.0, 85988.0, 85988.0, 85990.0, 85990.0, 85990.0, 85990.0, 85990.0, 85990.0, 85991.0, 85991.0, 85991.0, 85991.0, 85991.0, 85992.0, 85993.0, 85993.0, 85995.0, 85995.0, 85995.0, 85995.0, 85995.0, 85995.0, 85995.0, 85995.0, 85995.0, 85995.0, 85995.0, 85995.0, 85995.0, 85995.0, 85995.0, 85995.0, 85995.0, 85995.0, 85995.0, 85995.0, 85996.0, 85997.0, 85997.0, 85997.0, 85997.0, 85998.0, 85998.0, 85998.0, 85998.0, 85999.0, 85999.0, 85999.0, 85999.0, 85999.0, 85999.0, 85999.0, 85999.0, 85999.0, 86000.0, 86000.0, 86000.0, 86000.0, 86000.0, 86000.0, 86000.0, 86000.0, 86000.0, 86016.0, 86176.0, 86200.0, 86221.0, 86228.0, 86234.0, 86273.0, 86299.0, 86300.0, 86375.0, 86383.0, 86385.0, 86393.0, 86400.0, 86410.0, 86424.0, 86444.0, 86480.0, 86490.0, 86491.0, 86492.0, 86495.0, 86495.0, 86495.0, 86499.0, 86499.0, 86500.0, 86500.0, 86500.0, 86500.0, 86526.0, 86540.0, 86577.0, 86588.0, 86588.0, 86590.0, 86592.0, 86592.0, 86600.0, 86610.0, 86613.0, 86625.0, 86653.0, 86653.0, 86667.0, 86667.0, 86670.0, 86670.0, 86689.0, 86694.0, 86695.0, 86699.0, 86703.0, 86704.0, 86722.0, 86730.0, 86757.0, 86770.0, 86777.0, 86788.0, 86799.0, 86800.0, 86845.0, 86885.0, 86888.0, 86891.0, 86895.0, 86898.0, 86899.0, 86900.0, 86900.0, 86900.0, 86900.0, 86900.0, 86900.0, 86900.0, 86900.0, 86919.0, 86921.0, 86936.0, 86940.0, 86948.0, 86950.0, 86950.0, 86950.0, 86950.0, 86950.0, 86950.0, 86950.0, 86951.0, 86952.0, 86955.0, 86956.0, 86962.0, 86975.0, 86976.0, 86977.0, 86978.0, 86980.0, 86980.0, 86980.0, 86981.0, 86982.0, 86984.0, 86985.0, 86986.0, 86986.0, 86986.0, 86986.0, 86987.0, 86988.0, 86988.0, 86988.0, 86989.0, 86990.0, 86990.0, 86990.0, 86990.0, 86990.0, 86990.0, 86990.0, 86990.0, 86990.0, 86990.0, 86990.0, 86990.0, 86991.0, 86991.0, 86991.0, 86991.0, 86991.0, 86991.0, 86992.0, 86993.0, 86994.0, 86994.0, 86995.0, 86995.0, 86995.0, 86995.0, 86995.0, 86995.0, 86995.0, 86995.0, 86995.0, 86995.0, 86995.0, 86995.0, 86995.0, 86995.0, 86995.0, 86995.0, 86995.0, 86995.0, 86995.0, 86995.0, 86995.0, 86995.0, 86995.0, 86996.0, 86997.0, 86998.0, 86998.0, 86998.0, 86998.0, 86998.0, 86998.0, 86998.0, 86998.0, 86998.0, 86999.0, 86999.0, 86999.0, 86999.0, 86999.0, 86999.0, 86999.0, 87000.0, 87000.0, 87000.0, 87006.0, 87054.0, 87112.0, 87116.0, 87133.0, 87155.0, 87163.0, 87186.0, 87230.0, 87237.0, 87259.0, 87263.0, 87273.0, 87286.0, 87288.0, 87300.0, 87300.0, 87300.0, 87343.0, 87344.0, 87380.0, 87390.0, 87411.0, 87437.0, 87454.0, 87480.0, 87481.0, 87485.0, 87489.0, 87490.0, 87495.0, 87495.0, 87495.0, 87497.0, 87500.0, 87500.0, 87500.0, 87500.0, 87500.0, 87500.0, 87500.0, 87500.0, 87500.0, 87500.0, 87500.0, 87500.0, 87506.0, 87521.0, 87530.0, 87544.0, 87588.0, 87594.0, 87602.0, 87610.0, 87626.0, 87633.0, 87658.0, 87668.0, 87680.0, 87690.0, 87692.0, 87699.0, 87700.0, 87777.0, 87777.0, 87777.0, 87777.0, 87777.0, 87791.0, 87795.0, 87797.0, 87800.0, 87800.0, 87800.0, 87847.0, 87854.0, 87866.0, 87878.0, 87882.0, 87886.0, 87888.0, 87888.0, 87891.0, 87891.0, 87893.0, 87893.0, 87894.0, 87895.0, 87896.0, 87897.0, 87898.0, 87898.0, 87899.0, 87899.0, 87900.0, 87900.0, 87900.0, 87900.0, 87900.0, 87900.0, 87903.0, 87917.0, 87917.0, 87929.0, 87950.0, 87964.0, 87977.0, 87981.0, 87987.0, 87988.0, 87988.0, 87990.0, 87990.0, 87990.0, 87990.0, 87990.0, 87990.0, 87990.0, 87990.0, 87990.0, 87991.0, 87991.0, 87991.0, 87991.0, 87991.0, 87991.0, 87992.0, 87993.0, 87995.0, 87995.0, 87995.0, 87995.0, 87995.0, 87995.0, 87995.0, 87995.0, 87995.0, 87995.0, 87995.0, 87997.0, 87998.0, 87998.0, 87998.0, 87998.0, 87998.0, 87999.0, 87999.0, 87999.0, 87999.0, 87999.0, 87999.0, 87999.0, 87999.0, 87999.0, 87999.0, 87999.0, 87999.0, 87999.0, 87999.0, 88000.0, 88000.0, 88000.0, 88000.0, 88000.0, 88000.0, 88000.0, 88000.0, 88000.0, 88000.0, 88020.0, 88111.0, 88222.0, 88257.0, 88267.0, 88288.0, 88290.0, 88291.0, 88319.0, 88320.0, 88347.0, 88362.0, 88381.0, 88390.0, 88449.0, 88466.0, 88488.0, 88495.0, 88498.0, 88498.0, 88499.0, 88500.0, 88500.0, 88500.0, 88500.0, 88509.0, 88526.0, 88532.0, 88555.0, 88566.0, 88568.0, 88582.0, 88590.0, 88596.0, 88597.0, 88598.0, 88626.0, 88700.0, 88700.0, 88703.0, 88714.0, 88723.0, 88727.0, 88733.0, 88740.0, 88745.0, 88751.0, 88770.0, 88773.0, 88779.0, 88788.0, 88792.0, 88800.0, 88800.0, 88844.0, 88850.0, 88851.0, 88880.0, 88881.0, 88888.0, 88888.0, 88888.0, 88888.0, 88888.0, 88888.0, 88891.0, 88895.0, 88895.0, 88899.0, 88899.0, 88900.0, 88900.0, 88900.0, 88900.0, 88900.0, 88900.0, 88900.0, 88900.0, 88900.0, 88900.0, 88950.0, 88950.0, 88958.0, 88977.0, 88977.0, 88978.0, 88981.0, 88982.0, 88982.0, 88983.0, 88985.0, 88986.0, 88987.0, 88988.0, 88989.0, 88990.0, 88990.0, 88990.0, 88990.0, 88990.0, 88990.0, 88990.0, 88990.0, 88990.0, 88991.0, 88991.0, 88991.0, 88991.0, 88991.0, 88992.0, 88992.0, 88994.0, 88995.0, 88995.0, 88995.0, 88995.0, 88995.0, 88995.0, 88995.0, 88995.0, 88995.0, 88995.0, 88995.0, 88995.0, 88995.0, 88995.0, 88997.0, 88998.0, 88998.0, 88998.0, 88998.0, 88998.0, 88999.0, 89000.0, 89000.0, 89000.0, 89000.0, 89000.0, 89000.0, 89000.0, 89000.0, 89000.0, 89000.0, 89000.0, 89000.0, 89000.0, 89000.0, 89000.0, 89000.0, 89015.0, 89030.0, 89050.0, 89070.0, 89132.0, 89156.0, 89179.0, 89250.0, 89262.0, 89326.0, 89350.0, 89383.0, 89391.0, 89396.0, 89420.0, 89430.0, 89440.0, 89444.0, 89445.0, 89452.0, 89456.0, 89462.0, 89468.0, 89475.0, 89476.0, 89490.0, 89491.0, 89494.0, 89500.0, 89500.0, 89500.0, 89500.0, 89510.0, 89523.0, 89541.0, 89555.0, 89592.0, 89593.0, 89598.0, 89598.0, 89608.0, 89630.0, 89635.0, 89642.0, 89665.0, 89673.0, 89687.0, 89688.0, 89690.0, 89698.0, 89698.0, 89699.0, 89699.0, 89748.0, 89750.0, 89793.0, 89795.0, 89798.0, 89798.0, 89800.0, 89800.0, 89800.0, 89802.0, 89805.0, 89848.0, 89848.0, 89850.0, 89850.0, 89868.0, 89873.0, 89874.0, 89880.0, 89880.0, 89881.0, 89881.0, 89884.0, 89888.0, 89888.0, 89888.0, 89888.0, 89891.0, 89892.0, 89893.0, 89893.0, 89894.0, 89898.0, 89899.0, 89900.0, 89900.0, 89900.0, 89900.0, 89900.0, 89900.0, 89900.0, 89900.0, 89900.0, 89900.0, 89900.0, 89900.0, 89900.0, 89900.0, 89900.0, 89900.0, 89900.0, 89900.0, 89900.0, 89900.0, 89900.0, 89900.0, 89900.0, 89904.0, 89905.0, 89917.0, 89925.0, 89926.0, 89932.0, 89943.0, 89945.0, 89951.0, 89955.0, 89957.0, 89960.0, 89962.0, 89964.0, 89968.0, 89969.0, 89970.0, 89970.0, 89970.0, 89971.0, 89975.0, 89977.0, 89980.0, 89980.0, 89980.0, 89982.0, 89982.0, 89983.0, 89984.0, 89984.0, 89987.0, 89987.0, 89987.0, 89987.0, 89987.0, 89988.0, 89988.0, 89988.0, 89988.0, 89988.0, 89988.0, 89988.0, 89988.0, 89988.0, 89989.0, 89990.0, 89990.0, 89990.0, 89990.0, 89990.0, 89990.0, 89990.0, 89990.0, 89990.0, 89990.0, 89990.0, 89990.0, 89990.0, 89990.0, 89990.0, 89991.0, 89991.0, 89991.0, 89991.0, 89992.0, 89994.0, 89994.0, 89994.0, 89994.0, 89994.0, 89995.0, 89995.0, 89995.0, 89995.0, 89995.0, 89995.0, 89995.0, 89995.0, 89995.0, 89995.0, 89995.0, 89995.0, 89995.0, 89995.0, 89995.0, 89995.0, 89995.0, 89995.0, 89995.0, 89995.0, 89995.0, 89995.0, 89995.0, 89995.0, 89995.0, 89995.0, 89995.0, 89995.0, 89995.0, 89995.0, 89995.0, 89996.0, 89997.0, 89997.0, 89997.0, 89997.0, 89997.0, 89998.0, 89998.0, 89998.0, 89998.0, 89998.0, 89998.0, 89998.0, 89998.0, 89998.0, 89998.0, 89998.0, 89998.0, 89998.0, 89999.0, 89999.0, 89999.0, 89999.0, 89999.0, 89999.0, 89999.0, 89999.0, 89999.0, 89999.0, 89999.0, 89999.0, 89999.0, 89999.0, 89999.0, 89999.0, 89999.0, 89999.0, 89999.0, 89999.0, 89999.0, 90000.0, 90000.0, 90000.0, 90000.0, 90000.0, 90000.0, 90000.0, 90000.0, 90000.0, 90000.0, 90000.0, 90000.0, 90000.0, 90000.0, 90000.0, 90000.0, 90000.0, 90025.0, 90030.0, 90180.0, 90304.0, 90325.0, 90393.0, 90400.0, 90400.0, 90400.0, 90400.0, 90450.0, 90481.0, 90491.0, 90494.0, 90499.0, 90500.0, 90500.0, 90500.0, 90505.0, 90541.0, 90560.0, 90595.0, 90599.0, 90615.0, 90683.0, 90760.0, 90790.0, 90790.0, 90793.0, 90876.0, 90885.0, 90888.0, 90888.0, 90888.0, 90900.0, 90900.0, 90900.0, 90900.0, 90918.0, 90955.0, 90961.0, 90975.0, 90987.0, 90990.0, 90990.0, 90990.0, 90991.0, 90992.0, 90995.0, 90995.0, 90995.0, 90995.0, 90995.0, 90998.0, 90998.0, 90998.0, 90999.0, 90999.0, 91000.0, 91000.0, 91000.0, 91000.0, 91000.0, 91000.0, 91112.0, 91125.0, 91150.0, 91173.0, 91184.0, 91190.0, 91200.0, 91200.0, 91288.0, 91310.0, 91380.0, 91400.0, 91442.0, 91445.0, 91490.0, 91491.0, 91495.0, 91500.0, 91502.0, 91555.0, 91565.0, 91569.0, 91587.0, 91612.0, 91644.0, 91650.0, 91659.0, 91670.0, 91671.0, 91694.0, 91744.0, 91750.0, 91750.0, 91777.0, 91777.0, 91790.0, 91794.0, 91795.0, 91800.0, 91831.0, 91831.0, 91844.0, 91877.0, 91885.0, 91894.0, 91894.0, 91895.0, 91899.0, 91899.0, 91900.0, 91900.0, 91900.0, 91900.0, 91900.0, 91900.0, 91904.0, 91921.0, 91927.0, 91947.0, 91964.0, 91977.0, 91980.0, 91987.0, 91988.0, 91988.0, 91988.0, 91990.0, 91990.0, 91990.0, 91990.0, 91991.0, 91991.0, 91991.0, 91991.0, 91991.0, 91992.0, 91994.0, 91994.0, 91994.0, 91995.0, 91995.0, 91995.0, 91995.0, 91995.0, 91995.0, 91995.0, 91997.0, 91997.0, 91997.0, 91997.0, 91997.0, 91998.0, 91998.0, 91998.0, 91999.0, 91999.0, 91999.0, 91999.0, 91999.0, 91999.0, 91999.0, 92000.0, 92000.0, 92000.0, 92000.0, 92000.0, 92000.0, 92000.0, 92000.0, 92000.0, 92000.0, 92000.0, 92091.0, 92162.0, 92250.0, 92288.0, 92299.0, 92355.0, 92444.0, 92470.0, 92471.0, 92494.0, 92495.0, 92495.0, 92495.0, 92500.0, 92500.0, 92500.0, 92506.0, 92558.0, 92596.0, 92600.0, 92602.0, 92612.0, 92613.0, 92621.0, 92677.0, 92685.0, 92777.0, 92778.0, 92783.0, 92792.0, 92797.0, 92800.0, 92800.0, 92800.0, 92880.0, 92884.0, 92888.0, 92888.0, 92891.0, 92892.0, 92894.0, 92900.0, 92900.0, 92900.0, 92900.0, 92900.0, 92900.0, 92900.0, 92900.0, 92925.0, 92933.0, 92945.0, 92950.0, 92967.0, 92977.0, 92977.0, 92980.0, 92984.0, 92985.0, 92986.0, 92987.0, 92988.0, 92988.0, 92988.0, 92988.0, 92990.0, 92990.0, 92990.0, 92990.0, 92990.0, 92990.0, 92990.0, 92990.0, 92990.0, 92991.0, 92991.0, 92991.0, 92993.0, 92995.0, 92995.0, 92995.0, 92995.0, 92995.0, 92995.0, 92995.0, 92995.0, 92995.0, 92995.0, 92995.0, 92995.0, 92995.0, 92995.0, 92995.0, 92995.0, 92995.0, 92995.0, 92995.0, 92995.0, 92996.0, 92996.0, 92996.0, 92996.0, 92996.0, 92997.0, 92998.0, 92998.0, 92998.0, 92998.0, 92998.0, 92999.0, 92999.0, 92999.0, 92999.0, 92999.0, 92999.0, 92999.0, 92999.0, 93000.0, 93000.0, 93000.0, 93000.0, 93001.0, 93006.0, 93140.0, 93175.0, 93189.0, 93225.0, 93227.0, 93427.0, 93437.0, 93445.0, 93455.0, 93473.0, 93488.0, 93490.0, 93491.0, 93495.0, 93495.0, 93495.0, 93500.0, 93500.0, 93500.0, 93500.0, 93500.0, 93500.0, 93598.0, 93599.0, 93599.0, 93619.0, 93644.0, 93649.0, 93667.0, 93677.0, 93686.0, 93690.0, 93699.0, 93700.0, 93709.0, 93722.0, 93739.0, 93800.0, 93845.0, 93860.0, 93870.0, 93870.0, 93880.0, 93880.0, 93895.0, 93900.0, 93900.0, 93900.0, 93900.0, 93900.0, 93900.0, 93900.0, 93900.0, 93900.0, 93900.0, 93911.0, 93921.0, 93964.0, 93975.0, 93977.0, 93977.0, 93981.0, 93986.0, 93988.0, 93988.0, 93990.0, 93990.0, 93990.0, 93990.0, 93990.0, 93990.0, 93991.0, 93991.0, 93995.0, 93995.0, 93995.0, 93995.0, 93995.0, 93995.0, 93995.0, 93997.0, 93998.0, 93998.0, 93999.0, 93999.0, 93999.0, 93999.0, 93999.0, 93999.0, 94000.0, 94000.0, 94000.0, 94000.0, 94000.0, 94000.0, 94056.0, 94111.0, 94213.0, 94235.0, 94240.0, 94250.0, 94296.0, 94313.0, 94325.0, 94344.0, 94345.0, 94395.0, 94399.0, 94399.0, 94442.0, 94488.0, 94492.0, 94492.0, 94495.0, 94500.0, 94500.0, 94500.0, 94500.0, 94500.0, 94500.0, 94500.0, 94500.0, 94521.0, 94535.0, 94580.0, 94591.0, 94627.0, 94637.0, 94642.0, 94674.0, 94691.0, 94693.0, 94699.0, 94736.0, 94769.0, 94777.0, 94791.0, 94792.0, 94794.0, 94800.0, 94800.0, 94850.0, 94888.0, 94888.0, 94890.0, 94895.0, 94895.0, 94898.0, 94900.0, 94900.0, 94900.0, 94900.0, 94900.0, 94900.0, 94900.0, 94900.0, 94900.0, 94900.0, 94900.0, 94905.0, 94915.0, 94919.0, 94952.0, 94957.0, 94971.0, 94971.0, 94975.0, 94977.0, 94980.0, 94980.0, 94980.0, 94981.0, 94982.0, 94985.0, 94985.0, 94985.0, 94987.0, 94989.0, 94990.0, 94990.0, 94990.0, 94990.0, 94990.0, 94990.0, 94990.0, 94990.0, 94990.0, 94990.0, 94991.0, 94991.0, 94991.0, 94994.0, 94994.0, 94994.0, 94994.0, 94994.0, 94994.0, 94995.0, 94995.0, 94995.0, 94995.0, 94995.0, 94995.0, 94995.0, 94995.0, 94995.0, 94995.0, 94995.0, 94995.0, 94995.0, 94995.0, 94995.0, 94995.0, 94995.0, 94997.0, 94998.0, 94998.0, 94998.0, 94998.0, 94998.0, 94999.0, 94999.0, 94999.0, 94999.0, 94999.0, 94999.0, 94999.0, 94999.0, 94999.0, 94999.0, 95000.0, 95000.0, 95000.0, 95000.0, 95000.0, 95000.0, 95000.0, 95000.0, 95000.0, 95000.0, 95000.0, 95000.0, 95000.0, 95000.0, 95000.0, 95000.0, 95192.0, 95221.0, 95225.0, 95276.0, 95342.0, 95425.0, 95440.0, 95445.0, 95456.0, 95494.0, 95499.0, 95499.0, 95500.0, 95500.0, 95500.0, 95526.0, 95550.0, 95555.0, 95577.0, 95599.0, 95600.0, 95667.0, 95691.0, 95704.0, 95714.0, 95750.0, 95765.0, 95777.0, 95777.0, 95777.0, 95788.0, 95795.0, 95850.0, 95862.0, 95866.0, 95880.0, 95885.0, 95888.0, 95891.0, 95898.0, 95898.0, 95900.0, 95900.0, 95900.0, 95900.0, 95900.0, 95900.0, 95900.0, 95911.0, 95921.0, 95943.0, 95959.0, 95977.0, 95980.0, 95981.0, 95985.0, 95986.0, 95986.0, 95988.0, 95988.0, 95989.0, 95989.0, 95990.0, 95990.0, 95991.0, 95991.0, 95992.0, 95992.0, 95995.0, 95995.0, 95995.0, 95995.0, 95995.0, 95995.0, 95995.0, 95995.0, 95995.0, 95995.0, 95995.0, 95995.0, 95995.0, 95995.0, 95996.0, 95996.0, 95996.0, 95997.0, 95997.0, 95997.0, 95998.0, 95998.0, 95998.0, 95999.0, 95999.0, 95999.0, 95999.0, 95999.0, 95999.0, 96000.0, 96000.0, 96000.0, 96000.0, 96000.0, 96000.0, 96000.0, 96000.0, 96140.0, 96195.0, 96199.0, 96199.0, 96457.0, 96465.0, 96488.0, 96490.0, 96491.0, 96493.0, 96498.0, 96499.0, 96500.0, 96500.0, 96555.0, 96573.0, 96587.0, 96665.0, 96675.0, 96704.0, 96744.0, 96755.0, 96780.0, 96800.0, 96800.0, 96819.0, 96820.0, 96850.0, 96874.0, 96877.0, 96880.0, 96887.0, 96888.0, 96888.0, 96888.0, 96893.0, 96893.0, 96900.0, 96900.0, 96900.0, 96900.0, 96900.0, 96964.0, 96971.0, 96974.0, 96974.0, 96981.0, 96983.0, 96987.0, 96988.0, 96989.0, 96990.0, 96990.0, 96990.0, 96990.0, 96990.0, 96990.0, 96991.0, 96991.0, 96992.0, 96992.0, 96993.0, 96994.0, 96994.0, 96994.0, 96995.0, 96995.0, 96995.0, 96995.0, 96995.0, 96995.0, 96995.0, 96995.0, 96995.0, 96995.0, 96995.0, 96997.0, 96998.0, 96998.0, 96998.0, 96998.0, 96999.0, 96999.0, 96999.0, 96999.0, 96999.0, 96999.0, 96999.0, 96999.0, 96999.0, 97000.0, 97000.0, 97000.0, 97051.0, 97105.0, 97111.0, 97223.0, 97250.0, 97305.0, 97322.0, 97450.0, 97473.0, 97489.0, 97500.0, 97500.0, 97500.0, 97500.0, 97500.0, 97500.0, 97512.0, 97520.0, 97555.0, 97567.0, 97568.0, 97578.0, 97599.0, 97631.0, 97690.0, 97743.0, 97747.0, 97747.0, 97777.0, 97777.0, 97800.0, 97800.0, 97821.0, 97871.0, 97875.0, 97885.0, 97888.0, 97888.0, 97892.0, 97894.0, 97899.0, 97900.0, 97900.0, 97900.0, 97900.0, 97900.0, 97903.0, 97939.0, 97950.0, 97971.0, 97977.0, 97981.0, 97981.0, 97983.0, 97985.0, 97985.0, 97987.0, 97987.0, 97988.0, 97988.0, 97988.0, 97989.0, 97990.0, 97990.0, 97990.0, 97990.0, 97991.0, 97991.0, 97991.0, 97992.0, 97992.0, 97992.0, 97994.0, 97994.0, 97995.0, 97995.0, 97995.0, 97995.0, 97995.0, 97995.0, 97995.0, 97995.0, 97995.0, 97995.0, 97995.0, 97997.0, 97997.0, 97998.0, 97998.0, 97998.0, 97998.0, 97998.0, 97998.0, 97999.0, 97999.0, 97999.0, 97999.0, 98000.0, 98000.0, 98000.0, 98000.0, 98000.0, 98000.0, 98000.0, 98000.0, 98000.0, 98000.0, 98000.0, 98000.0, 98090.0, 98090.0, 98233.0, 98246.0, 98254.0, 98275.0, 98276.0, 98353.0, 98476.0, 98495.0, 98499.0, 98500.0, 98500.0, 98500.0, 98630.0, 98633.0, 98683.0, 98710.0, 98750.0, 98773.0, 98850.0, 98850.0, 98851.0, 98888.0, 98888.0, 98895.0, 98900.0, 98900.0, 98900.0, 98900.0, 98900.0, 98952.0, 98960.0, 98965.0, 98978.0, 98987.0, 98988.0, 98988.0, 98989.0, 98990.0, 98990.0, 98991.0, 98994.0, 98995.0, 98995.0, 98995.0, 98995.0, 98995.0, 98995.0, 98995.0, 98996.0, 98997.0, 98997.0, 98997.0, 98998.0, 98998.0, 98999.0, 98999.0, 98999.0, 98999.0, 99000.0, 99000.0, 99000.0, 99000.0, 99000.0, 99000.0, 99000.0, 99000.0, 99000.0, 99000.0, 99000.0, 99000.0, 99000.0, 99000.0, 99000.0, 99000.0, 99017.0, 99165.0, 99265.0, 99333.0, 99400.0, 99450.0, 99459.0, 99480.0, 99487.0, 99495.0, 99499.0, 99500.0, 99500.0, 99500.0, 99500.0, 99500.0, 99508.0, 99515.0, 99525.0, 99555.0, 99555.0, 99561.0, 99581.0, 99595.0, 99599.0, 99679.0, 99767.0, 99769.0, 99797.0, 99800.0, 99835.0, 99855.0, 99859.0, 99874.0, 99877.0, 99880.0, 99880.0, 99881.0, 99888.0, 99888.0, 99888.0, 99888.0, 99889.0, 99890.0, 99895.0, 99898.0, 99899.0, 99899.0, 99899.0, 99900.0, 99900.0, 99900.0, 99900.0, 99900.0, 99900.0, 99900.0, 99900.0, 99900.0, 99900.0, 99900.0, 99900.0, 99900.0, 99900.0, 99900.0, 99900.0, 99900.0, 99910.0, 99950.0, 99950.0, 99951.0, 99970.0, 99980.0, 99980.0, 99981.0, 99981.0, 99981.0, 99983.0, 99985.0, 99985.0, 99987.0, 99987.0, 99987.0, 99987.0, 99987.0, 99988.0, 99988.0, 99988.0, 99988.0, 99988.0, 99988.0, 99988.0, 99988.0, 99988.0, 99988.0, 99989.0, 99989.0, 99989.0, 99989.0, 99990.0, 99990.0, 99990.0, 99990.0, 99990.0, 99990.0, 99990.0, 99990.0, 99990.0, 99990.0, 99990.0, 99991.0, 99991.0, 99991.0, 99991.0, 99991.0, 99991.0, 99991.0, 99992.0, 99993.0, 99995.0, 99995.0, 99995.0, 99995.0, 99995.0, 99995.0, 99995.0, 99995.0, 99995.0, 99995.0, 99995.0, 99995.0, 99995.0, 99995.0, 99995.0, 99995.0, 99995.0, 99995.0, 99995.0, 99995.0, 99995.0, 99995.0, 99995.0, 99995.0, 99995.0, 99995.0, 99996.0, 99996.0, 99997.0, 99997.0, 99997.0, 99997.0, 99997.0, 99997.0, 99998.0, 99998.0, 99998.0, 99998.0, 99998.0, 99998.0, 99998.0, 99998.0, 99998.0, 99999.0, 99999.0, 99999.0, 99999.0, 99999.0, 99999.0, 99999.0, 99999.0, 99999.0, 99999.0, 99999.0, 99999.0, 99999.0, 99999.0, 99999.0, 99999.0, 99999.0, 99999.0, 99999.0, 99999.0, 99999.0, 99999.0, 99999.0, 100000.0, 100000.0, 100000.0, 100000.0, 100000.0, 100000.0, 100000.0, 100024.0, 100030.0, 100149.0, 100249.0, 100548.0, 100638.0, 100889.0, 100916.0, 100950.0, 100965.0, 100975.0, 100993.0, 100995.0, 100995.0, 100995.0, 100995.0, 100995.0, 100995.0, 101000.0, 101000.0, 101000.0, 101000.0, 101070.0, 101104.0, 101191.0, 101220.0, 101245.0, 101300.0, 101319.0, 101343.0, 101361.0, 101400.0, 101435.0, 101444.0, 101483.0, 101488.0, 101493.0, 101495.0, 101497.0, 101500.0, 101500.0, 101500.0, 101522.0, 101605.0, 101644.0, 101677.0, 101688.0, 101727.0, 101774.0, 101860.0, 101888.0, 101888.0, 101893.0, 101900.0, 101900.0, 101900.0, 101900.0, 101901.0, 101950.0, 101951.0, 101977.0, 101988.0, 101989.0, 101990.0, 101990.0, 101990.0, 101991.0, 101991.0, 101994.0, 101996.0, 101997.0, 101999.0, 101999.0, 101999.0, 101999.0, 102000.0, 102000.0, 102000.0, 102193.0, 102330.0, 102350.0, 102425.0, 102444.0, 102500.0, 102500.0, 102580.0, 102620.0, 102623.0, 102650.0, 102720.0, 102782.0, 102850.0, 102880.0, 102885.0, 102888.0, 102900.0, 102900.0, 102900.0, 102950.0, 102977.0, 102984.0, 102987.0, 102988.0, 102990.0, 102990.0, 102990.0, 102990.0, 102991.0, 102995.0, 102995.0, 102995.0, 102995.0, 102996.0, 102997.0, 102997.0, 102998.0, 102999.0, 102999.0, 102999.0, 102999.0, 103000.0, 103264.0, 103398.0, 103400.0, 103485.0, 103490.0, 103490.0, 103490.0, 103497.0, 103499.0, 103500.0, 103500.0, 103577.0, 103590.0, 103595.0, 103600.0, 103691.0, 103748.0, 103757.0, 103787.0, 103865.0, 103885.0, 103887.0, 103900.0, 103900.0, 103900.0, 103900.0, 103900.0, 103901.0, 103962.0, 103964.0, 103987.0, 103988.0, 103988.0, 103990.0, 103990.0, 103990.0, 103991.0, 103991.0, 103994.0, 103995.0, 103995.0, 103995.0, 103995.0, 103997.0, 103998.0, 103998.0, 103999.0, 103999.0, 103999.0, 103999.0, 104000.0, 104000.0, 104000.0, 104000.0, 104000.0, 104098.0, 104139.0, 104180.0, 104212.0, 104217.0, 104240.0, 104400.0, 104435.0, 104481.0, 104495.0, 104499.0, 104500.0, 104500.0, 104500.0, 104539.0, 104560.0, 104588.0, 104595.0, 104626.0, 104691.0, 104692.0, 104694.0, 104697.0, 104723.0, 104750.0, 104799.0, 104861.0, 104891.0, 104895.0, 104899.0, 104900.0, 104900.0, 104900.0, 104900.0, 104900.0, 104900.0, 104904.0, 104913.0, 104947.0, 104950.0, 104956.0, 104971.0, 104972.0, 104975.0, 104977.0, 104980.0, 104981.0, 104987.0, 104987.0, 104988.0, 104990.0, 104990.0, 104990.0, 104990.0, 104990.0, 104990.0, 104991.0, 104991.0, 104995.0, 104995.0, 104995.0, 104995.0, 104995.0, 104995.0, 104995.0, 104995.0, 104995.0, 104995.0, 104995.0, 104995.0, 104995.0, 104995.0, 104995.0, 104997.0, 104998.0, 104998.0, 104998.0, 104998.0, 104999.0, 104999.0, 104999.0, 104999.0, 104999.0, 104999.0, 104999.0, 104999.0, 104999.0, 104999.0, 105000.0, 105000.0, 105000.0, 105000.0, 105000.0, 105000.0, 105000.0, 105000.0, 105000.0, 105000.0, 105000.0, 105000.0, 105000.0, 105000.0, 105000.0, 105000.0, 105000.0, 105000.0, 105000.0, 105001.0, 105022.0, 105369.0, 105426.0, 105490.0, 105499.0, 105500.0, 105500.0, 105550.0, 105574.0, 105586.0, 105595.0, 105597.0, 105682.0, 105791.0, 105800.0, 105800.0, 105844.0, 105885.0, 105885.0, 105888.0, 105894.0, 105894.0, 105900.0, 105900.0, 105900.0, 105924.0, 105930.0, 105950.0, 105950.0, 105952.0, 105960.0, 105970.0, 105971.0, 105980.0, 105990.0, 105990.0, 105990.0, 105991.0, 105991.0, 105991.0, 105994.0, 105995.0, 105995.0, 105995.0, 105995.0, 105996.0, 105998.0, 105998.0, 105999.0, 105999.0, 105999.0, 105999.0, 106140.0, 106167.0, 106240.0, 106250.0, 106390.0, 106499.0, 106500.0, 106500.0, 106590.0, 106628.0, 106750.0, 106881.0, 106888.0, 106900.0, 106900.0, 106900.0, 106900.0, 106900.0, 106900.0, 106977.0, 106988.0, 106990.0, 106995.0, 106995.0, 106995.0, 106997.0, 106997.0, 106998.0, 106999.0, 106999.0, 106999.0, 107000.0, 107000.0, 107000.0, 107000.0, 107000.0, 107102.0, 107171.0, 107206.0, 107263.0, 107273.0, 107312.0, 107332.0, 107397.0, 107490.0, 107500.0, 107500.0, 107500.0, 107552.0, 107561.0, 107575.0, 107631.0, 107685.0, 107687.0, 107700.0, 107777.0, 107777.0, 107791.0, 107793.0, 107798.0, 107800.0, 107812.0, 107845.0, 107887.0, 107900.0, 107900.0, 107901.0, 107950.0, 107961.0, 107977.0, 107988.0, 107988.0, 107988.0, 107989.0, 107990.0, 107990.0, 107990.0, 107990.0, 107991.0, 107993.0, 107994.0, 107994.0, 107995.0, 107998.0, 107999.0, 107999.0, 108000.0, 108000.0, 108000.0, 108000.0, 108100.0, 108200.0, 108230.0, 108368.0, 108490.0, 108490.0, 108490.0, 108491.0, 108497.0, 108500.0, 108500.0, 108500.0, 108500.0, 108536.0, 108569.0, 108570.0, 108591.0, 108734.0, 108777.0, 108777.0, 108779.0, 108799.0, 108878.0, 108888.0, 108894.0, 108897.0, 108900.0, 108985.0, 108987.0, 108990.0, 108991.0, 108991.0, 108992.0, 108995.0, 108995.0, 108995.0, 108995.0, 108997.0, 108997.0, 108998.0, 108999.0, 108999.0, 109000.0, 109000.0, 109000.0, 109000.0, 109000.0, 109000.0, 109000.0, 109000.0, 109000.0, 109000.0, 109000.0, 109042.0, 109195.0, 109280.0, 109480.0, 109500.0, 109500.0, 109500.0, 109500.0, 109545.0, 109549.0, 109598.0, 109750.0, 109774.0, 109800.0, 109800.0, 109850.0, 109860.0, 109876.0, 109887.0, 109888.0, 109888.0, 109890.0, 109890.0, 109891.0, 109899.0, 109900.0, 109900.0, 109900.0, 109900.0, 109900.0, 109900.0, 109900.0, 109900.0, 109900.0, 109900.0, 109900.0, 109900.0, 109900.0, 109900.0, 109900.0, 109900.0, 109950.0, 109950.0, 109954.0, 109962.0, 109975.0, 109977.0, 109980.0, 109980.0, 109980.0, 109981.0, 109981.0, 109985.0, 109985.0, 109987.0, 109988.0, 109988.0, 109988.0, 109988.0, 109988.0, 109990.0, 109990.0, 109990.0, 109990.0, 109990.0, 109990.0, 109990.0, 109990.0, 109990.0, 109990.0, 109990.0, 109990.0, 109990.0, 109991.0, 109991.0, 109991.0, 109991.0, 109994.0, 109995.0, 109995.0, 109995.0, 109995.0, 109995.0, 109995.0, 109995.0, 109995.0, 109995.0, 109995.0, 109995.0, 109995.0, 109997.0, 109997.0, 109997.0, 109997.0, 109997.0, 109998.0, 109998.0, 109998.0, 109998.0, 109998.0, 109999.0, 109999.0, 109999.0, 109999.0, 109999.0, 109999.0, 109999.0, 109999.0, 109999.0, 109999.0, 109999.0, 109999.0, 109999.0, 110000.0, 110000.0, 110000.0, 110000.0, 110000.0, 110000.0, 110000.0, 110000.0, 110000.0, 110000.0, 110000.0, 110000.0, 110000.0, 110056.0, 110209.0, 110394.0, 110488.0, 110599.0, 110795.0, 110885.0, 110895.0, 110900.0, 110900.0, 110900.0, 110905.0, 110960.0, 110980.0, 110987.0, 110989.0, 110990.0, 110992.0, 110995.0, 110995.0, 110995.0, 110995.0, 110997.0, 110997.0, 111000.0, 111172.0, 111285.0, 111297.0, 111310.0, 111400.0, 111496.0, 111550.0, 111750.0, 111880.0, 111888.0, 111900.0, 111900.0, 111908.0, 111950.0, 111966.0, 111980.0, 111988.0, 111988.0, 111989.0, 111990.0, 111991.0, 111995.0, 111995.0, 111998.0, 111998.0, 111998.0, 111999.0, 112000.0, 112000.0, 112000.0, 112000.0, 112000.0, 112000.0, 112222.0, 112410.0, 112444.0, 112495.0, 112498.0, 112500.0, 112500.0, 112500.0, 112501.0, 112536.0, 112664.0, 112699.0, 112777.0, 112798.0, 112888.0, 112900.0, 112908.0, 112945.0, 112950.0, 112950.0, 112971.0, 112987.0, 112988.0, 112990.0, 112991.0, 112992.0, 112995.0, 112995.0, 112995.0, 112997.0, 112998.0, 112998.0, 112998.0, 112999.0, 112999.0, 112999.0, 112999.0, 112999.0, 112999.0, 113000.0, 113000.0, 113198.0, 113260.0, 113266.0, 113291.0, 113450.0, 113475.0, 113596.0, 113900.0, 113905.0, 113950.0, 113950.0, 113975.0, 113988.0, 113990.0, 113990.0, 113990.0, 113991.0, 113995.0, 113995.0, 113995.0, 113995.0, 113999.0, 113999.0, 113999.0, 114000.0, 114000.0, 114000.0, 114000.0, 114048.0, 114055.0, 114099.0, 114168.0, 114300.0, 114320.0, 114405.0, 114464.0, 114552.0, 114682.0, 114727.0, 114750.0, 114763.0, 114787.0, 114800.0, 114805.0, 114859.0, 114880.0, 114888.0, 114899.0, 114900.0, 114900.0, 114900.0, 114920.0, 114950.0, 114950.0, 114975.0, 114979.0, 114988.0, 114989.0, 114990.0, 114990.0, 114990.0, 114990.0, 114990.0, 114990.0, 114990.0, 114991.0, 114991.0, 114991.0, 114993.0, 114995.0, 114995.0, 114995.0, 114997.0, 114997.0, 114997.0, 114998.0, 114998.0, 114998.0, 114999.0, 114999.0, 114999.0, 114999.0, 115000.0, 115000.0, 115000.0, 115000.0, 115000.0, 115000.0, 115000.0, 115000.0, 115000.0, 115000.0, 115000.0, 115000.0, 115000.0, 115000.0, 115000.0, 115000.0, 115000.0, 115267.0, 115354.0, 115374.0, 115401.0, 115495.0, 115499.0, 115500.0, 115698.0, 115704.0, 115725.0, 115881.0, 115890.0, 115899.0, 115900.0, 115900.0, 115900.0, 115900.0, 115900.0, 115905.0, 115986.0, 115988.0, 115989.0, 115990.0, 115990.0, 115990.0, 115990.0, 115991.0, 115995.0, 115995.0, 115995.0, 115995.0, 115995.0, 115995.0, 115995.0, 115995.0, 115997.0, 115998.0, 115999.0, 115999.0, 115999.0, 116051.0, 116240.0, 116410.0, 116434.0, 116500.0, 116555.0, 116636.0, 116668.0, 116799.0, 116800.0, 116848.0, 116890.0, 116900.0, 116900.0, 116900.0, 116911.0, 116926.0, 116944.0, 116980.0, 116980.0, 116987.0, 116989.0, 116990.0, 116990.0, 116990.0, 116995.0, 116995.0, 116997.0, 116999.0, 117269.0, 117455.0, 117458.0, 117481.0, 117500.0, 117500.0, 117500.0, 117659.0, 117688.0, 117805.0, 117845.0, 117865.0, 117885.0, 117890.0, 117900.0, 117950.0, 117950.0, 117970.0, 117970.0, 117985.0, 117987.0, 117988.0, 117990.0, 117990.0, 117990.0, 117991.0, 117995.0, 117995.0, 117997.0, 117998.0, 117998.0, 117999.0, 117999.0, 118000.0, 118000.0, 118000.0, 118000.0, 118314.0, 118482.0, 118492.0, 118499.0, 118500.0, 118588.0, 118672.0, 118785.0, 118788.0, 118795.0, 118799.0, 118800.0, 118877.0, 118883.0, 118900.0, 118908.0, 118950.0, 118950.0, 118957.0, 118988.0, 118989.0, 118990.0, 118995.0, 118995.0, 118995.0, 118999.0, 118999.0, 118999.0, 119000.0, 119000.0, 119000.0, 119000.0, 119299.0, 119477.0, 119500.0, 119500.0, 119534.0, 119549.0, 119555.0, 119588.0, 119600.0, 119614.0, 119628.0, 119678.0, 119690.0, 119788.0, 119795.0, 119804.0, 119831.0, 119851.0, 119860.0, 119878.0, 119888.0, 119888.0, 119895.0, 119898.0, 119898.0, 119900.0, 119900.0, 119900.0, 119900.0, 119900.0, 119900.0, 119900.0, 119900.0, 119900.0, 119900.0, 119900.0, 119900.0, 119900.0, 119900.0, 119900.0, 119901.0, 119911.0, 119950.0, 119950.0, 119950.0, 119955.0, 119973.0, 119980.0, 119987.0, 119988.0, 119990.0, 119990.0, 119990.0, 119990.0, 119990.0, 119990.0, 119991.0, 119991.0, 119993.0, 119995.0, 119995.0, 119995.0, 119995.0, 119995.0, 119995.0, 119995.0, 119995.0, 119995.0, 119995.0, 119995.0, 119997.0, 119998.0, 119998.0, 119998.0, 119998.0, 119999.0, 119999.0, 119999.0, 119999.0, 119999.0, 120000.0, 120000.0, 120000.0, 120000.0, 120000.0, 120200.0, 120264.0, 120475.0, 120490.0, 120492.0, 120500.0, 120514.0, 120595.0, 120670.0, 120899.0, 121055.0, 121164.0, 121250.0, 121395.0, 121499.0, 121500.0, 121510.0, 121570.0, 121765.0, 121985.0, 121985.0, 121991.0, 121991.0, 121995.0, 121995.0, 121995.0, 121995.0, 121998.0, 121998.0, 121999.0, 121999.0, 121999.0, 122004.0, 122050.0, 122441.0, 122500.0, 122500.0, 122545.0, 122765.0, 122800.0, 122900.0, 122900.0, 122950.0, 122990.0, 122990.0, 122990.0, 122991.0, 122991.0, 122995.0, 123000.0, 123333.0, 123443.0, 123495.0, 123500.0, 123500.0, 123690.0, 123695.0, 123703.0, 123777.0, 123790.0, 123888.0, 123888.0, 123899.0, 123900.0, 123900.0, 123901.0, 123954.0, 123975.0, 123980.0, 123990.0, 123991.0, 123995.0, 123995.0, 123995.0, 124000.0, 124351.0, 124491.0, 124495.0, 124693.0, 124776.0, 124846.0, 124885.0, 124888.0, 124900.0, 124900.0, 124900.0, 124900.0, 124900.0, 124900.0, 124900.0, 124900.0, 124900.0, 124900.0, 124900.0, 124900.0, 124950.0, 124975.0, 124980.0, 124980.0, 124981.0, 124985.0, 124990.0, 124990.0, 124990.0, 124990.0, 124990.0, 124990.0, 124995.0, 124995.0, 124995.0, 124997.0, 124997.0, 124999.0, 124999.0, 124999.0, 124999.0, 125000.0, 125089.0, 125293.0, 125340.0, 125420.0, 125466.0, 125500.0, 125620.0, 125685.0, 125795.0, 125888.0, 125888.0, 125888.0, 125900.0, 125900.0, 125900.0, 125986.0, 125989.0, 125990.0, 125995.0, 126000.0, 126050.0, 126211.0, 126400.0, 126490.0, 126788.0, 126899.0, 126900.0, 126900.0, 126982.0, 126990.0, 126991.0, 126991.0, 126993.0, 126995.0, 126995.0, 126995.0, 126997.0, 126999.0, 127000.0, 127000.0, 127000.0, 127000.0, 127025.0, 127111.0, 127471.0, 127500.0, 127600.0, 127773.0, 127900.0, 127900.0, 127900.0, 127963.0, 127981.0, 127987.0, 127988.0, 127990.0, 127990.0, 127995.0, 127995.0, 128104.0, 128104.0, 128154.0, 128290.0, 128477.0, 128500.0, 128595.0, 128700.0, 128777.0, 128815.0, 128881.0, 128886.0, 128888.0, 128888.0, 128888.0, 128900.0, 128900.0, 128929.0, 128965.0, 128977.0, 128991.0, 128995.0, 128999.0, 129000.0, 129000.0, 129041.0, 129111.0, 129188.0, 129500.0, 129500.0, 129500.0, 129548.0, 129606.0, 129760.0, 129772.0, 129787.0, 129798.0, 129799.0, 129878.0, 129888.0, 129888.0, 129890.0, 129895.0, 129900.0, 129900.0, 129900.0, 129900.0, 129900.0, 129900.0, 129900.0, 129900.0, 129900.0, 129900.0, 129950.0, 129950.0, 129966.0, 129975.0, 129983.0, 129988.0, 129988.0, 129988.0, 129990.0, 129990.0, 129990.0, 129990.0, 129990.0, 129991.0, 129991.0, 129991.0, 129991.0, 129991.0, 129992.0, 129995.0, 129995.0, 129995.0, 129995.0, 129995.0, 129995.0, 129995.0, 129995.0, 129995.0, 129995.0, 129995.0, 129995.0, 129995.0, 129995.0, 129999.0, 129999.0, 129999.0, 129999.0, 129999.0, 129999.0, 129999.0, 130000.0, 130000.0, 130000.0, 130990.0, 130993.0, 130997.0, 131000.0, 131000.0, 131000.0, 131029.0, 131345.0, 131821.0, 131988.0, 131995.0, 132000.0, 132140.0, 132232.0, 132490.0, 132499.0, 132500.0, 132800.0, 132885.0, 132894.0, 132900.0, 132900.0, 132900.0, 132908.0, 132981.0, 132990.0, 132991.0, 132993.0, 132995.0, 132998.0, 132999.0, 133298.0, 133427.0, 133437.0, 133777.0, 133800.0, 133900.0, 133900.0, 133938.0, 133990.0, 133991.0, 133991.0, 133991.0, 133995.0, 133998.0, 133999.0, 134000.0, 134000.0, 134890.0, 134894.0, 134894.0, 134900.0, 134900.0, 134900.0, 134900.0, 134901.0, 134970.0, 134981.0, 134988.0, 134990.0, 134990.0, 134990.0, 134991.0, 134991.0, 134993.0, 134995.0, 134998.0, 134998.0, 134999.0, 134999.0, 134999.0, 135000.0, 135000.0, 135000.0, 135000.0, 135000.0, 135403.0, 135500.0, 135590.0, 135799.0, 135800.0, 135800.0, 135888.0, 135900.0, 135975.0, 135981.0, 135987.0, 135988.0, 135990.0, 135995.0, 135996.0, 135998.0, 135999.0, 136512.0, 136560.0, 136574.0, 136600.0, 136650.0, 136750.0, 136788.0, 136990.0, 136990.0, 136990.0, 137000.0, 137040.0, 137127.0, 137390.0, 137411.0, 137500.0, 137597.0, 137688.0, 137726.0, 137750.0, 137900.0, 137900.0, 137922.0, 137990.0, 137991.0, 137991.0, 137991.0, 138000.0, 138461.0, 138500.0, 138880.0, 138881.0, 138959.0, 138960.0, 138981.0, 138988.0, 138995.0, 138995.0, 138997.0, 138999.0, 138999.0, 139000.0, 139000.0, 139000.0, 139038.0, 139191.0, 139400.0, 139410.0, 139495.0, 139500.0, 139581.0, 139661.0, 139833.0, 139853.0, 139861.0, 139876.0, 139888.0, 139888.0, 139888.0, 139888.0, 139898.0, 139900.0, 139900.0, 139900.0, 139900.0, 139900.0, 139900.0, 139900.0, 139900.0, 139900.0, 139925.0, 139949.0, 139950.0, 139950.0, 139950.0, 139970.0, 139977.0, 139987.0, 139987.0, 139988.0, 139988.0, 139988.0, 139988.0, 139990.0, 139990.0, 139990.0, 139991.0, 139992.0, 139995.0, 139995.0, 139995.0, 139995.0, 139995.0, 139995.0, 139995.0, 139995.0, 139995.0, 139995.0, 139995.0, 139995.0, 139995.0, 139996.0, 139996.0, 139998.0, 139999.0, 139999.0, 139999.0, 139999.0, 139999.0, 140000.0, 140000.0, 140000.0, 140248.0, 140861.0, 140900.0, 140995.0, 140995.0, 140999.0, 141250.0, 141404.0, 141500.0, 141500.0, 141700.0, 141935.0, 141950.0, 141991.0, 141994.0, 141994.0, 141995.0, 142191.0, 142345.0, 142368.0, 142799.0, 142895.0, 142990.0, 142995.0, 142999.0, 142999.0, 143000.0, 143559.0, 143890.0, 143899.0, 143980.0, 143990.0, 143995.0, 143995.0, 144000.0, 144500.0, 144777.0, 144888.0, 144890.0, 144900.0, 144900.0, 144900.0, 144975.0, 144986.0, 144990.0, 144990.0, 144990.0, 144990.0, 144991.0, 144992.0, 144995.0, 144995.0, 144995.0, 144995.0, 144998.0, 144999.0, 144999.0, 144999.0, 145000.0, 145000.0, 145000.0, 145000.0, 145300.0, 145500.0, 145544.0, 145761.0, 145762.0, 145850.0, 145891.0, 145897.0, 145900.0, 145900.0, 145955.0, 145990.0, 145996.0, 145999.0, 146069.0, 146499.0, 146888.0, 146888.0, 146900.0, 146990.0, 146995.0, 146999.0, 147000.0, 147000.0, 147000.0, 147412.0, 147437.0, 147499.0, 147499.0, 147500.0, 147670.0, 147850.0, 147900.0, 147900.0, 147995.0, 147996.0, 148000.0, 148000.0, 148000.0, 148194.0, 148250.0, 148380.0, 148499.0, 148500.0, 148894.0, 148911.0, 148950.0, 148977.0, 148990.0, 148994.0, 148995.0, 148998.0, 148999.0, 149000.0, 149000.0, 149000.0, 149364.0, 149457.0, 149500.0, 149777.0, 149790.0, 149791.0, 149800.0, 149800.0, 149888.0, 149894.0, 149900.0, 149900.0, 149900.0, 149900.0, 149900.0, 149900.0, 149900.0, 149900.0, 149900.0, 149900.0, 149900.0, 149911.0, 149950.0, 149981.0, 149988.0, 149989.0, 149990.0, 149990.0, 149990.0, 149993.0, 149995.0, 149995.0, 149995.0, 149995.0, 149995.0, 149995.0, 149995.0, 149995.0, 149995.0, 149999.0, 149999.0, 149999.0, 150000.0, 150000.0, 150000.0, 150891.0, 150990.0, 151225.0, 151862.0, 151999.0, 152000.0, 152000.0, 152500.0, 152638.0, 152850.0, 152898.0, 152900.0, 152900.0, 152935.0, 152991.0, 152995.0, 152999.0, 153090.0, 153107.0, 153473.0, 153876.0, 153899.0, 153900.0, 153991.0, 153995.0, 153999.0, 154500.0, 154888.0, 154893.0, 154900.0, 154900.0, 154900.0, 154950.0, 154950.0, 154986.0, 154991.0, 154992.0, 154995.0, 154995.0, 154995.0, 154995.0, 154998.0, 155000.0, 155000.0, 155000.0, 155000.0, 155000.0, 155491.0, 155900.0, 155900.0, 155900.0, 155911.0, 155988.0, 155988.0, 155999.0, 156005.0, 156500.0, 156892.0, 156985.0, 156997.0, 157547.0, 157848.0, 157900.0, 157903.0, 157990.0, 157995.0, 157998.0, 158000.0, 158275.0, 158577.0, 158624.0, 158800.0, 158848.0, 158980.0, 159000.0, 159500.0, 159500.0, 159500.0, 159888.0, 159888.0, 159900.0, 159900.0, 159900.0, 159900.0, 159900.0, 159911.0, 159950.0, 159970.0, 159975.0, 159988.0, 159988.0, 159990.0, 159990.0, 159990.0, 159995.0, 159995.0, 159995.0, 159995.0, 159995.0, 159998.0, 159999.0, 160000.0, 160990.0, 160990.0, 160995.0, 161894.0, 161988.0, 162991.0, 162992.0, 162995.0, 163777.0, 163900.0, 163900.0, 164444.0, 164644.0, 164880.0, 164881.0, 164900.0, 164950.0, 164991.0, 164995.0, 164995.0, 164995.0, 164995.0, 164996.0, 164997.0, 164998.0, 164999.0, 164999.0, 165000.0, 165000.0, 165400.0, 165498.0, 165900.0, 165981.0, 165990.0, 166540.0, 166706.0, 166888.0, 166997.0, 167244.0, 167354.0, 167500.0, 167500.0, 167561.0, 167710.0, 167800.0, 167895.0, 167900.0, 167900.0, 167950.0, 167959.0, 167998.0, 167998.0, 167999.0, 168000.0, 168888.0, 168977.0, 168990.0, 169000.0, 169000.0, 169495.0, 169495.0, 169500.0, 169500.0, 169599.0, 169669.0, 169888.0, 169900.0, 169900.0, 169900.0, 169900.0, 169900.0, 169937.0, 169950.0, 169987.0, 169990.0, 169990.0, 169995.0, 169995.0, 169995.0, 169995.0, 169995.0, 169995.0, 169999.0, 169999.0, 169999.0, 170988.0, 170991.0, 171230.0, 171991.0, 171991.0, 172868.0, 172981.0, 172990.0, 172991.0, 172998.0, 172998.0, 173666.0, 173911.0, 173999.0, 173999.0, 174111.0, 174207.0, 174698.0, 174713.0, 174900.0, 174950.0, 174950.0, 174950.0, 174980.0, 174990.0, 174991.0, 174993.0, 174995.0, 174995.0, 175000.0, 175000.0, 175000.0, 175000.0, 175000.0, 175502.0, 175891.0, 175950.0, 175999.0, 175999.0, 175999.0, 176077.0, 176699.0, 176718.0, 176990.0, 176998.0, 177130.0, 177888.0, 177900.0, 177990.0, 178572.0, 178650.0, 178880.0, 178900.0, 178900.0, 178943.0, 178990.0, 179000.0, 179000.0, 179000.0, 179000.0, 179100.0, 179116.0, 179422.0, 179699.0, 179777.0, 179880.0, 179888.0, 179900.0, 179900.0, 179900.0, 179900.0, 179900.0, 179900.0, 179900.0, 179901.0, 179950.0, 179950.0, 179977.0, 179995.0, 179995.0, 179995.0, 179996.0, 179999.0, 179999.0, 179999.0, 179999.0, 180000.0, 181394.0, 181900.0, 181900.0, 182000.0, 182091.0, 182500.0, 182888.0, 182981.0, 182998.0, 183404.0, 183500.0, 183980.0, 184900.0, 184912.0, 184950.0, 184995.0, 184995.0, 184997.0, 184999.0, 184999.0, 185791.0, 185900.0, 185906.0, 185980.0, 186580.0, 186757.0, 186900.0, 187000.0, 187020.0, 187500.0, 187600.0, 187777.0, 187850.0, 187888.0, 187900.0, 187991.0, 187999.0, 187999.0, 188000.0, 188000.0, 188888.0, 188895.0, 188900.0, 188990.0, 188995.0, 189000.0, 189000.0, 189464.0, 189800.0, 189800.0, 189800.0, 189900.0, 189900.0, 189900.0, 189900.0, 189900.0, 189900.0, 189900.0, 189985.0, 189986.0, 189990.0, 189990.0, 189990.0, 189991.0, 189991.0, 189991.0, 189995.0, 189995.0, 189995.0, 189995.0, 189996.0, 189997.0, 189999.0, 189999.0, 189999.0, 189999.0, 190000.0, 191085.0, 191757.0, 191995.0, 192499.0, 192900.0, 193250.0, 193371.0, 193894.0, 193992.0, 194794.0, 194800.0, 194800.0, 194900.0, 194986.0, 194995.0, 194995.0, 194995.0, 194995.0, 194998.0, 194999.0, 195900.0, 195990.0, 195993.0, 196007.0, 196888.0, 196980.0, 196992.0, 197433.0, 197500.0, 197565.0, 197599.0, 197989.0, 197995.0, 198500.0, 198650.0, 198749.0, 198750.0, 198990.0, 198999.0, 199000.0, 199000.0, 199000.0, 199488.0, 199764.0, 199800.0, 199851.0, 199900.0, 199900.0, 199900.0, 199900.0, 199950.0, 199950.0, 199990.0, 199990.0, 199990.0, 199990.0, 199990.0, 199991.0, 199992.0, 199995.0, 199995.0, 199995.0, 199995.0, 199995.0, 199995.0, 199995.0, 199998.0, 199998.0, 199999.0, 199999.0, 201987.0, 202995.0, 203000.0, 203488.0, 203500.0, 203990.0, 204000.0, 204080.0, 204556.0, 204749.0, 204890.0, 204900.0, 204950.0, 204987.0, 204995.0, 204995.0, 205000.0, 205000.0, 205000.0, 205500.0, 205524.0, 205895.0, 205900.0, 205984.0, 205984.0, 206590.0, 206760.0, 206891.0, 206904.0, 207881.0, 207888.0, 207900.0, 207990.0, 207995.0, 208000.0, 208342.0, 208432.0, 208900.0, 208977.0, 208998.0, 209649.0, 209888.0, 209893.0, 209900.0, 209900.0, 209900.0, 209900.0, 209990.0, 209990.0, 209998.0, 209998.0, 209999.0, 209999.0, 209999.0, 210000.0, 210000.0, 210000.0, 210181.0, 210992.0, 211495.0, 213777.0, 213888.0, 214750.0, 214897.0, 214900.0, 214995.0, 214998.0, 215000.0, 215500.0, 215539.0, 215900.0, 216000.0, 217342.0, 217535.0, 217777.0, 217999.0, 218000.0, 218777.0, 219000.0, 219000.0, 219000.0, 219090.0, 219888.0, 219995.0, 219995.0, 219995.0, 219995.0, 219995.0, 219996.0, 219999.0, 220000.0, 220000.0, 221490.0, 221599.0, 221742.0, 221763.0, 222525.0, 223995.0, 224650.0, 224888.0, 224900.0, 225000.0, 225000.0, 225000.0, 225000.0, 225000.0, 226000.0, 227204.0, 227598.0, 227993.0, 228000.0, 228670.0, 228995.0, 229000.0, 229800.0, 229878.0, 229899.0, 229900.0, 229990.0, 229992.0, 229994.0, 229995.0, 229995.0, 229995.0, 229996.0, 229999.0, 230000.0, 231998.0, 232280.0, 232503.0, 232630.0, 233019.0, 233036.0, 234888.0, 234992.0, 235000.0, 235000.0, 235850.0, 235900.0, 236888.0, 237750.0, 237900.0, 237996.0, 238800.0, 238900.0, 238990.0, 238995.0, 239500.0, 239811.0, 239888.0, 239900.0, 239900.0, 239990.0, 239992.0, 239995.0, 239996.0, 242991.0, 243990.0, 244988.0, 245000.0, 245000.0, 245450.0, 245990.0, 245995.0, 245999.0, 248000.0, 249000.0, 249000.0, 249595.0, 249888.0, 249888.0, 249888.0, 249950.0, 249950.0, 249950.0, 249990.0, 249999.0, 250000.0, 253998.0, 253999.0, 254799.0, 254900.0, 255000.0, 255999.0, 256000.0, 257745.0, 257799.0, 258790.0, 258991.0, 259000.0, 259000.0, 259000.0, 259000.0, 259955.0, 259990.0, 259996.0, 259999.0, 260000.0, 263901.0, 264800.0, 264901.0, 264999.0, 265999.0, 266777.0, 268000.0, 268529.0, 268997.0, 269900.0, 269980.0, 269990.0, 269991.0, 269993.0, 269995.0, 269995.0, 269999.0, 269999.0, 269999.0, 270000.0, 273000.0, 273988.0, 273993.0, 274996.0, 275000.0, 275995.0, 279000.0, 279000.0, 279000.0, 279900.0, 279987.0, 279990.0, 279991.0, 279991.0, 279995.0, 279996.0, 280000.0, 280000.0, 284950.0, 284995.0, 285000.0, 287900.0, 288000.0, 288995.0, 289000.0, 289900.0, 289989.0, 291222.0, 292991.0, 293990.0, 295279.0, 298750.0, 299000.0, 299900.0, 299900.0, 299992.0, 300000.0, 309000.0, 312320.0, 314393.0, 314996.0, 319900.0, 319999.0, 320000.0, 325000.0, 329000.0, 333333.0, 334589.0, 335000.0, 339990.0, 339990.0, 344274.0, 359800.0, 368850.0, 369000.0, 379950.0, 383065.0, 385987.0, 389990.0, 399000.0, 399898.0, 399900.0, 399900.0, 402279.0, 405000.0, 409990.0, 419888.0, 425900.0, 426995.0, 428981.0, 434995.0, 439900.0, 439998.0, 440000.0, 445999.0, 474996.0, 479996.0, 484421.0, 495421.0, 499989.0, 499999.0, 515000.0, 529996.0, 535000.0, 550000.0, 550000.0, 559000.0, 740000.0, 1111111.0, 1150000.0, 1275000.0, 1390000.0, 1400000.0, 1495000.0, 1575000.0, 1000000000.0]\n"
     ]
    }
   ],
   "source": [
    "outlier_values = price_outliers['price'].sort_values().tolist()\n",
    "print(\"Valores outliers:\", outlier_values)"
   ]
  },
  {
   "cell_type": "code",
   "execution_count": 188,
   "id": "8c5a7c04-b38f-49c4-89b7-b2113d47539e",
   "metadata": {},
   "outputs": [
    {
     "data": {
      "image/png": "[encoded data removed]",
      "text/plain": [
       "<Figure size 1000x600 with 1 Axes>"
      ]
     },
     "metadata": {},
     "output_type": "display_data"
    }
   ],
   "source": [
    "plt.figure(figsize=(10,6))\n",
    "sns.boxplot(x=sample['price'])\n",
    "plt.show()"
   ]
  },
  {
   "cell_type": "code",
   "execution_count": 189,
   "id": "8605665b-c72b-4d36-ab09-0fc2566206a3",
   "metadata": {},
   "outputs": [
    {
     "data": {
      "image/png": "[encoded data removed]",
      "text/plain": [
       "<Figure size 1000x600 with 1 Axes>"
      ]
     },
     "metadata": {},
     "output_type": "display_data"
    }
   ],
   "source": [
    "plt.figure(figsize=(10,6))\n",
    "sns.histplot(sample['price'], kde=True, bins=50)\n",
    "plt.show()"
   ]
  },
  {
   "cell_type": "markdown",
   "id": "2197084a-b61c-41e6-a280-d3c3b713df8d",
   "metadata": {},
   "source": [
    "Os outliers que foram verificados pela análise utilizando o *IQR* e o *Boxplot* **não podem** ser removidos da análise, pois isso afetaria consideravelmente os resultados obtidos."
   ]
  },
  {
   "cell_type": "markdown",
   "id": "e011c871-a041-4594-9d39-0e6627e9d410",
   "metadata": {
    "jp-MarkdownHeadingCollapsed": true
   },
   "source": [
    "### mileage"
   ]
  },
  {
   "cell_type": "code",
   "execution_count": 190,
   "id": "419df81b-2b54-4002-b45f-c30d9452c3b6",
   "metadata": {},
   "outputs": [
    {
     "data": {
      "text/plain": [
       "np.float64(0.0)"
      ]
     },
     "execution_count": 190,
     "metadata": {},
     "output_type": "execute_result"
    }
   ],
   "source": [
    "sample['mileage'].min()"
   ]
  },
  {
   "cell_type": "code",
   "execution_count": 191,
   "id": "4de9b6df-75cc-4aa3-8ed6-bf6cc132066e",
   "metadata": {},
   "outputs": [
    {
     "name": "stdout",
     "output_type": "stream",
     "text": [
      "Quantidade de valores 0.0 em mileage: 283\n"
     ]
    }
   ],
   "source": [
    "zero_mileage_count = (sample['mileage'] == 0.0).sum()\n",
    "print(\"Quantidade de valores 0.0 em mileage:\", zero_mileage_count)"
   ]
  },
  {
   "cell_type": "markdown",
   "id": "f7a40471-5c56-4ceb-95f8-c97a648bae74",
   "metadata": {},
   "source": [
    "Não faz sentido o carro ter **0.0 milhas percorridas**, se é um dataset de **carros usados**"
   ]
  },
  {
   "cell_type": "code",
   "execution_count": 192,
   "id": "0bc6f775-1462-4a8b-9ab6-104612703881",
   "metadata": {},
   "outputs": [
    {
     "data": {
      "text/plain": [
       "np.float64(1119067.0)"
      ]
     },
     "execution_count": 192,
     "metadata": {},
     "output_type": "execute_result"
    }
   ],
   "source": [
    "sample['mileage'].max()"
   ]
  },
  {
   "cell_type": "markdown",
   "id": "fee82653-445c-4016-ad11-890d0fbd99f3",
   "metadata": {
    "jp-MarkdownHeadingCollapsed": true
   },
   "source": [
    "### accidents_or_damage"
   ]
  },
  {
   "cell_type": "code",
   "execution_count": 193,
   "id": "e114eb4e-b75c-49ca-b266-a2ccfd76a537",
   "metadata": {},
   "outputs": [
    {
     "data": {
      "text/plain": [
       "accidents_or_damage\n",
       "0.0    146585\n",
       "1.0     41881\n",
       "Name: count, dtype: int64"
      ]
     },
     "execution_count": 193,
     "metadata": {},
     "output_type": "execute_result"
    }
   ],
   "source": [
    "sample['accidents_or_damage'].value_counts()"
   ]
  },
  {
   "cell_type": "markdown",
   "id": "c492389f-8edf-428f-99c5-2e6458e64f9c",
   "metadata": {
    "jp-MarkdownHeadingCollapsed": true
   },
   "source": [
    "### one_owner"
   ]
  },
  {
   "cell_type": "code",
   "execution_count": 194,
   "id": "366e2b7a-3bf0-41aa-bc7b-b7e695e84f13",
   "metadata": {},
   "outputs": [
    {
     "data": {
      "text/plain": [
       "one_owner\n",
       "1.0    109855\n",
       "0.0     78611\n",
       "Name: count, dtype: int64"
      ]
     },
     "execution_count": 194,
     "metadata": {},
     "output_type": "execute_result"
    }
   ],
   "source": [
    "sample['one_owner'].value_counts()"
   ]
  },
  {
   "cell_type": "markdown",
   "id": "f880b748-5a93-43c8-ac33-11b703ad234b",
   "metadata": {},
   "source": [
    "### personal_use_only"
   ]
  },
  {
   "cell_type": "code",
   "execution_count": 195,
   "id": "c7fead86-dbb4-44a2-8547-3ad5ea2079e2",
   "metadata": {},
   "outputs": [
    {
     "data": {
      "text/plain": [
       "personal_use_only\n",
       "1.0    125608\n",
       "0.0     62858\n",
       "Name: count, dtype: int64"
      ]
     },
     "execution_count": 195,
     "metadata": {},
     "output_type": "execute_result"
    }
   ],
   "source": [
    "sample['personal_use_only'].value_counts()"
   ]
  },
  {
   "cell_type": "markdown",
   "id": "7a81582f-a6c0-4a82-9dba-5c66e6c02950",
   "metadata": {
    "jp-MarkdownHeadingCollapsed": true
   },
   "source": [
    "### manufacturer"
   ]
  },
  {
   "cell_type": "code",
   "execution_count": 196,
   "id": "0a10733d-6a01-419d-9100-6c5207559864",
   "metadata": {},
   "outputs": [
    {
     "data": {
      "text/plain": [
       "manufacturer            object\n",
       "model                   object\n",
       "year                     int64\n",
       "mileage                float64\n",
       "engine                  object\n",
       "transmission            object\n",
       "drivetrain              object\n",
       "fuel_type               object\n",
       "mpg                     object\n",
       "exterior_color          object\n",
       "interior_color          object\n",
       "accidents_or_damage    float64\n",
       "one_owner              float64\n",
       "personal_use_only      float64\n",
       "seller_name             object\n",
       "seller_rating          float64\n",
       "driver_rating          float64\n",
       "driver_reviews_num     float64\n",
       "price_drop             float64\n",
       "price                  float64\n",
       "dtype: object"
      ]
     },
     "execution_count": 196,
     "metadata": {},
     "output_type": "execute_result"
    }
   ],
   "source": [
    "sample.dtypes"
   ]
  },
  {
   "cell_type": "code",
   "execution_count": 197,
   "id": "a0d801cf-68f4-4b62-8473-328b1ee638ed",
   "metadata": {},
   "outputs": [
    {
     "data": {
      "text/plain": [
       "manufacturer\n",
       "Ford             19775\n",
       "Toyota           14820\n",
       "Chevrolet        13633\n",
       "Nissan           12160\n",
       "Jeep             10304\n",
       "Mercedes-Benz    10005\n",
       "BMW               9347\n",
       "Honda             9238\n",
       "Kia               8862\n",
       "GMC               7231\n",
       "Subaru            6077\n",
       "Dodge             6069\n",
       "Volkswagen        6002\n",
       "Hyundai           5551\n",
       "Lexus             5342\n",
       "RAM               4799\n",
       "Audi              4497\n",
       "Cadillac          4401\n",
       "Mazda             3836\n",
       "Buick             3604\n",
       "INFINITI          3148\n",
       "Chrysler          3094\n",
       "Land Rover        3069\n",
       "Porsche           2766\n",
       "Lincoln           2570\n",
       "Volvo             2474\n",
       "Acura             2102\n",
       "Tesla             1458\n",
       "Mitsubishi        1399\n",
       "Jaguar             833\n",
       "Name: count, dtype: int64"
      ]
     },
     "execution_count": 197,
     "metadata": {},
     "output_type": "execute_result"
    }
   ],
   "source": [
    "sample['manufacturer'].value_counts()"
   ]
  },
  {
   "cell_type": "code",
   "execution_count": 198,
   "id": "4d94b5e3-a73a-47b1-8174-ac18f780cc6d",
   "metadata": {},
   "outputs": [
    {
     "data": {
      "text/html": [
       "<div>\n",
       "<style scoped>\n",
       "    .dataframe tbody tr th:only-of-type {\n",
       "        vertical-align: middle;\n",
       "    }\n",
       "\n",
       "    .dataframe tbody tr th {\n",
       "        vertical-align: top;\n",
       "    }\n",
       "\n",
       "    .dataframe thead th {\n",
       "        text-align: right;\n",
       "    }\n",
       "</style>\n",
       "<table border=\"1\" class=\"dataframe\">\n",
       "  <thead>\n",
       "    <tr style=\"text-align: right;\">\n",
       "      <th></th>\n",
       "      <th>manufacturer</th>\n",
       "      <th>model</th>\n",
       "      <th>year</th>\n",
       "      <th>mileage</th>\n",
       "      <th>engine</th>\n",
       "      <th>transmission</th>\n",
       "      <th>drivetrain</th>\n",
       "      <th>fuel_type</th>\n",
       "      <th>mpg</th>\n",
       "      <th>exterior_color</th>\n",
       "      <th>interior_color</th>\n",
       "      <th>accidents_or_damage</th>\n",
       "      <th>one_owner</th>\n",
       "      <th>personal_use_only</th>\n",
       "      <th>seller_name</th>\n",
       "      <th>seller_rating</th>\n",
       "      <th>driver_rating</th>\n",
       "      <th>driver_reviews_num</th>\n",
       "      <th>price_drop</th>\n",
       "      <th>price</th>\n",
       "    </tr>\n",
       "  </thead>\n",
       "  <tbody>\n",
       "    <tr>\n",
       "      <th>188260</th>\n",
       "      <td>Dodge</td>\n",
       "      <td>Durango Citadel</td>\n",
       "      <td>2018</td>\n",
       "      <td>113207.0</td>\n",
       "      <td>3.6L V6 24V MPFI DOHC</td>\n",
       "      <td>8-Speed Automatic</td>\n",
       "      <td>All-wheel Drive</td>\n",
       "      <td>Gasoline</td>\n",
       "      <td>18-25</td>\n",
       "      <td>DB Black Clearcoat</td>\n",
       "      <td>Black</td>\n",
       "      <td>0.0</td>\n",
       "      <td>1.0</td>\n",
       "      <td>1.0</td>\n",
       "      <td>Rothrock Nissan, Chrysler, Dodge, Jeep, RAM</td>\n",
       "      <td>4.6</td>\n",
       "      <td>4.8</td>\n",
       "      <td>146.0</td>\n",
       "      <td>644.0</td>\n",
       "      <td>1.000000e+09</td>\n",
       "    </tr>\n",
       "  </tbody>\n",
       "</table>\n",
       "</div>"
      ],
      "text/plain": [
       "       manufacturer            model  year   mileage                 engine  \\\n",
       "188260        Dodge  Durango Citadel  2018  113207.0  3.6L V6 24V MPFI DOHC   \n",
       "\n",
       "             transmission       drivetrain fuel_type    mpg  \\\n",
       "188260  8-Speed Automatic  All-wheel Drive  Gasoline  18-25   \n",
       "\n",
       "            exterior_color interior_color  accidents_or_damage  one_owner  \\\n",
       "188260  DB Black Clearcoat          Black                  0.0        1.0   \n",
       "\n",
       "        personal_use_only                                  seller_name  \\\n",
       "188260                1.0  Rothrock Nissan, Chrysler, Dodge, Jeep, RAM   \n",
       "\n",
       "        seller_rating  driver_rating  driver_reviews_num  price_drop  \\\n",
       "188260            4.6            4.8               146.0       644.0   \n",
       "\n",
       "               price  \n",
       "188260  1.000000e+09  "
      ]
     },
     "execution_count": 198,
     "metadata": {},
     "output_type": "execute_result"
    }
   ],
   "source": [
    "most_expensive_car = sample[sample['price'] == sample['price'].max()]\n",
    "most_expensive_car"
   ]
  },
  {
   "cell_type": "code",
   "execution_count": 199,
   "id": "7f35796d-140c-4d24-9fc5-4ee04b9fc1c4",
   "metadata": {},
   "outputs": [
    {
     "data": {
      "text/html": [
       "<div>\n",
       "<style scoped>\n",
       "    .dataframe tbody tr th:only-of-type {\n",
       "        vertical-align: middle;\n",
       "    }\n",
       "\n",
       "    .dataframe tbody tr th {\n",
       "        vertical-align: top;\n",
       "    }\n",
       "\n",
       "    .dataframe thead th {\n",
       "        text-align: right;\n",
       "    }\n",
       "</style>\n",
       "<table border=\"1\" class=\"dataframe\">\n",
       "  <thead>\n",
       "    <tr style=\"text-align: right;\">\n",
       "      <th></th>\n",
       "      <th>manufacturer</th>\n",
       "      <th>model</th>\n",
       "      <th>year</th>\n",
       "      <th>mileage</th>\n",
       "      <th>engine</th>\n",
       "      <th>transmission</th>\n",
       "      <th>drivetrain</th>\n",
       "      <th>fuel_type</th>\n",
       "      <th>mpg</th>\n",
       "      <th>exterior_color</th>\n",
       "      <th>interior_color</th>\n",
       "      <th>accidents_or_damage</th>\n",
       "      <th>one_owner</th>\n",
       "      <th>personal_use_only</th>\n",
       "      <th>seller_name</th>\n",
       "      <th>seller_rating</th>\n",
       "      <th>driver_rating</th>\n",
       "      <th>driver_reviews_num</th>\n",
       "      <th>price_drop</th>\n",
       "      <th>price</th>\n",
       "    </tr>\n",
       "  </thead>\n",
       "  <tbody>\n",
       "    <tr>\n",
       "      <th>735177</th>\n",
       "      <td>Volkswagen</td>\n",
       "      <td>Jetta</td>\n",
       "      <td>2007</td>\n",
       "      <td>133964.0</td>\n",
       "      <td>2.5L I5 20V MPFI DOHC</td>\n",
       "      <td>5-Speed Manual</td>\n",
       "      <td>Front-wheel Drive</td>\n",
       "      <td>Gasoline</td>\n",
       "      <td>22-30</td>\n",
       "      <td>SELECT</td>\n",
       "      <td>Not Informed</td>\n",
       "      <td>1.0</td>\n",
       "      <td>0.0</td>\n",
       "      <td>1.0</td>\n",
       "      <td>Fred Anderson Kia</td>\n",
       "      <td>4.4</td>\n",
       "      <td>4.1</td>\n",
       "      <td>72.0</td>\n",
       "      <td>644.0</td>\n",
       "      <td>1.0</td>\n",
       "    </tr>\n",
       "  </tbody>\n",
       "</table>\n",
       "</div>"
      ],
      "text/plain": [
       "       manufacturer  model  year   mileage                 engine  \\\n",
       "735177   Volkswagen  Jetta  2007  133964.0  2.5L I5 20V MPFI DOHC   \n",
       "\n",
       "          transmission         drivetrain fuel_type    mpg exterior_color  \\\n",
       "735177  5-Speed Manual  Front-wheel Drive  Gasoline  22-30         SELECT   \n",
       "\n",
       "       interior_color  accidents_or_damage  one_owner  personal_use_only  \\\n",
       "735177   Not Informed                  1.0        0.0                1.0   \n",
       "\n",
       "              seller_name  seller_rating  driver_rating  driver_reviews_num  \\\n",
       "735177  Fred Anderson Kia            4.4            4.1                72.0   \n",
       "\n",
       "        price_drop  price  \n",
       "735177       644.0    1.0  "
      ]
     },
     "execution_count": 199,
     "metadata": {},
     "output_type": "execute_result"
    }
   ],
   "source": [
    "cheapest_car = sample[sample['price'] == sample['price'].min()]\n",
    "cheapest_car"
   ]
  },
  {
   "cell_type": "markdown",
   "id": "5d717dad-104e-4d0e-85ee-5d4c17aedd79",
   "metadata": {},
   "source": [
    "### fueltype"
   ]
  },
  {
   "cell_type": "code",
   "execution_count": 200,
   "id": "89a304e0-3b64-4915-8cc5-b1ba4784ba4d",
   "metadata": {},
   "outputs": [
    {
     "data": {
      "text/plain": [
       "fuel_type\n",
       "Gasoline                         159741\n",
       "Hybrid                             7412\n",
       "Diesel                             6875\n",
       "Not Informed                       5222\n",
       "E85 Flex Fuel                      4596\n",
       "Electric                           4047\n",
       "B                                   339\n",
       "Flexible Fuel                       117\n",
       "Plug-In Hybrid                       27\n",
       "Gasoline/Mild Electric Hybrid        22\n",
       "Gasoline Fuel                        21\n",
       "G                                    12\n",
       "Premium Unleaded                     11\n",
       "Regular Unleaded                     10\n",
       "Compressed Natural Gas                5\n",
       "Diesel Fuel                           2\n",
       "PHEV                                  1\n",
       "Hybrid Fuel                           1\n",
       "Premium                               1\n",
       "Other                                 1\n",
       "Premium (Required)                    1\n",
       "E85 Fl                                1\n",
       "Biodiesel                             1\n",
       "Name: count, dtype: int64"
      ]
     },
     "execution_count": 200,
     "metadata": {},
     "output_type": "execute_result"
    }
   ],
   "source": [
    "sample['fuel_type'].value_counts()"
   ]
  },
  {
   "cell_type": "markdown",
   "id": "1c101ac1-0aee-4b19-bad8-f8b8614d0cc1",
   "metadata": {},
   "source": [
    "Com essa quantidade de tipos de combustíveis com poucas ocorrências, é possível agrupá-los em um único tipo, como **'Outros'**<br>\n",
    "Por exemplo, a partir do combustível *B*"
   ]
  },
  {
   "cell_type": "markdown",
   "id": "a976fdfb-f084-4afb-91bd-7a2e66979a0c",
   "metadata": {},
   "source": [
    "### transmission"
   ]
  },
  {
   "cell_type": "code",
   "execution_count": 201,
   "id": "ec30c62d-033f-483f-9e78-9139c15fbcb1",
   "metadata": {},
   "outputs": [
    {
     "data": {
      "text/plain": [
       "transmission\n",
       "6-Speed Automatic                                36932\n",
       "8-Speed Automatic                                34625\n",
       "Automatic CVT                                    27300\n",
       "Automatic                                        23776\n",
       "9-Speed Automatic                                15318\n",
       "                                                 ...  \n",
       "8-Speed Geartronic Automatic                         1\n",
       "Compact 5-Speed Automatic                            1\n",
       "6-speed automatic transmission w/Commandshift        1\n",
       "Auto, 6-Spd SKYACTIV-Drv                             1\n",
       "continuously variable (ecvt)                         1\n",
       "Name: count, Length: 548, dtype: int64"
      ]
     },
     "execution_count": 201,
     "metadata": {},
     "output_type": "execute_result"
    }
   ],
   "source": [
    "sample['transmission'].value_counts()"
   ]
  },
  {
   "cell_type": "markdown",
   "id": "7b9348ac-9e32-41d6-80bb-949564357ea4",
   "metadata": {},
   "source": [
    "### drivetrain"
   ]
  },
  {
   "cell_type": "code",
   "execution_count": 202,
   "id": "d9ecbfd9-a9be-429a-a2ff-dc4e1dcdaa94",
   "metadata": {},
   "outputs": [
    {
     "data": {
      "text/plain": [
       "drivetrain\n",
       "Front-wheel Drive                                              60163\n",
       "All-wheel Drive                                                57620\n",
       "Four-wheel Drive                                               38949\n",
       "Rear-wheel Drive                                               23495\n",
       "Not Informed                                                    4781\n",
       "FWD                                                             1565\n",
       "AWD                                                              890\n",
       "4WD                                                              450\n",
       "RWD                                                              421\n",
       "All-Wheel Drive                                                   29\n",
       "Front-Wheel Drive                                                 22\n",
       "Four-Wheel Drive                                                  12\n",
       "Front-Wheel Drive with Limited-Slip Differential                  11\n",
       "Four-Wheel Drive with Locking and Limited-Slip Differential       11\n",
       "Unknown                                                            9\n",
       "Rear-Wheel Drive                                                   8\n",
       "All-Wheel Drive with Locking and Limited-Slip Differential         8\n",
       "Front Wheel Drive                                                  6\n",
       "Rear-Wheel Drive with Limited-Slip Differential                    4\n",
       "All Wheel Drive                                                    3\n",
       "Four Wheel Drive                                                   2\n",
       "4x4                                                                2\n",
       "Rear Wheel Drive                                                   2\n",
       "Engine: 2.4L GDI DOHC 16V I4 -inc: dual CVVT                       1\n",
       "All-Wheel Drive with Locking Differential                          1\n",
       "Four-Wheel Drive with Locking Differential                         1\n",
       "Name: count, dtype: int64"
      ]
     },
     "execution_count": 202,
     "metadata": {},
     "output_type": "execute_result"
    }
   ],
   "source": [
    "sample['drivetrain'].value_counts()"
   ]
  },
  {
   "cell_type": "code",
   "execution_count": null,
   "id": "f8d27fa6-dd28-4347-8201-9c688ceb548f",
   "metadata": {},
   "outputs": [],
   "source": []
  }
 ],
 "metadata": {
  "kernelspec": {
   "display_name": "Python 3 (ipykernel)",
   "language": "python",
   "name": "python3"
  },
  "language_info": {
   "codemirror_mode": {
    "name": "ipython",
    "version": 3
   },
   "file_extension": ".py",
   "mimetype": "text/x-python",
   "name": "python",
   "nbconvert_exporter": "python",
   "pygments_lexer": "ipython3",
   "version": "3.11.11"
  }
 },
 "nbformat": 4,
 "nbformat_minor": 5
}
